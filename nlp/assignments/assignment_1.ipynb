{
 "cells": [
  {
   "cell_type": "code",
   "execution_count": 1,
   "metadata": {},
   "outputs": [],
   "source": [
    "sent = \"They told their ages are 23, 25 and 29 respectively.\""
   ]
  },
  {
   "cell_type": "code",
   "execution_count": null,
   "metadata": {},
   "outputs": [],
   "source": [
    "import string\n",
    "import nltk\n",
    "nltk.download('punkt')\n",
    "\n",
    "# Given string\n",
    "sent = \"They told that their ages are 23, 25 and 29 respectively\"\n",
    "\n",
    "# Tokenize the sentence\n",
    "words = nltk.word_tokenize(sent)\n",
    "\n",
    "# Find the average of the ages in the string\n",
    "ages = [int(word) for word in words if word.isdigit()]\n",
    "average_age = sum(ages) / len(ages)\n",
    "print(f\"Average age: {average_age}\")\n",
    "\n",
    "# Count the total number of words in the string that start with the letter 't' or 'T'. (Ignore case)\n",
    "words_start_with_t = len([word for word in words if word.lower().startswith('t')])\n",
    "print(f\"Number of words starting with 't' or 'T': {words_start_with_t}\")\n",
    "\n",
    "# Count the total number of punctuation symbols in the string\n",
    "punctuation_count = len([char for char in sent if char in string.punctuation])\n",
    "print(f\"Number of punctuation symbols: {punctuation_count}\")\n",
    "\n",
    "# Print all of the words in the string that end with the letter 'd' in capital letters\n",
    "words_end_with_d = [word.upper() for word in words if word.endswith('d')]\n",
    "print(f\"Words ending with 'd' in capital letters: {words_end_with_d}\")\n",
    "\n",
    "# Merge all of the words in the string together and print them out (without any punctuation)\n",
    "merged_words = ''.join([char for char in sent if char not in string.punctuation]).replace(' ', '')\n",
    "print(f\"Merged words without punctuation: {merged_words}\")"
   ]
  }
 ],
 "metadata": {
  "kernelspec": {
   "display_name": "base",
   "language": "python",
   "name": "python3"
  },
  "language_info": {
   "codemirror_mode": {
    "name": "ipython",
    "version": 3
   },
   "file_extension": ".py",
   "mimetype": "text/x-python",
   "name": "python",
   "nbconvert_exporter": "python",
   "pygments_lexer": "ipython3",
   "version": "3.11.4"
  }
 },
 "nbformat": 4,
 "nbformat_minor": 2
}
