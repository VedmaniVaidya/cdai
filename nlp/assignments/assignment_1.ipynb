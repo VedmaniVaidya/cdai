{
 "cells": [
  {
   "cell_type": "code",
   "execution_count": 2,
   "metadata": {},
   "outputs": [],
   "source": [
    "sent = \"They told their ages are 23, 25 and 29 respectively.\""
   ]
  },
  {
   "cell_type": "code",
   "execution_count": 3,
   "metadata": {},
   "outputs": [
    {
     "name": "stdout",
     "output_type": "stream",
     "text": [
      "Average age: 25.666666666666668\n",
      "Number of words starting with 't' or 'T': 4\n",
      "Number of punctuation symbols: 1\n",
      "Words ending with 'd' in capital letters: ['TOLD', 'AND']\n",
      "Merged words without punctuation: Theytoldthattheiragesare2325and29respectively\n"
     ]
    }
   ],
   "source": [
    "import string\n",
    "import nltk\n",
    "\n",
    "# Given string\n",
    "sent = \"They told that their ages are 23, 25 and 29 respectively\"\n",
    "\n",
    "# Tokenize the sentence\n",
    "words = nltk.word_tokenize(sent)\n",
    "\n",
    "# Find the average of the ages in the string\n",
    "ages = [int(word) for word in words if word.isdigit()]\n",
    "average_age = sum(ages) / len(ages)\n",
    "print(f\"Average age: {average_age}\")\n",
    "\n",
    "# Count the total number of words in the string that start with the letter 't' or 'T'. (Ignore case)\n",
    "words_start_with_t = len([word for word in words if word.lower().startswith('t')])\n",
    "print(f\"Number of words starting with 't' or 'T': {words_start_with_t}\")\n",
    "\n",
    "# Count the total number of punctuation symbols in the string\n",
    "punctuation_count = len([char for char in sent if char in string.punctuation])\n",
    "print(f\"Number of punctuation symbols: {punctuation_count}\")\n",
    "\n",
    "# Print all of the words in the string that end with the letter 'd' in capital letters\n",
    "words_end_with_d = [word.upper() for word in words if word.endswith('d')]\n",
    "print(f\"Words ending with 'd' in capital letters: {words_end_with_d}\")\n",
    "\n",
    "# Merge all of the words in the string together and print them out (without any punctuation)\n",
    "merged_words = ''.join([char for char in sent if char not in string.punctuation]).replace(' ', '')\n",
    "print(f\"Merged words without punctuation: {merged_words}\")"
   ]
  },
  {
   "cell_type": "markdown",
   "metadata": {},
   "source": [
    "## Q.2"
   ]
  },
  {
   "cell_type": "code",
   "execution_count": 4,
   "metadata": {},
   "outputs": [],
   "source": [
    "text = '''The national flag of India, colloquially called Tiraṅgā (the tricolour), is a horizontal rectangular tricolour flag, the colours being of India saffron, white and India green; with the Ashoka Chakra, a 24-spoke wheel, in navy blue at its centre.[1][2] It was adopted in its present form during a meeting of the Constituent Assembly held on 22 July 1947, and it became the official flag of the Union of India on 15 August 1947. The flag was subsequently retained as that of the Republic of India. In India, the term \"tricolour\" almost always refers to the Indian national flag.\n",
    "\n",
    "The flag is based on the Swaraj flag, a flag of the Indian National Congress adopted by Mahatma Gandhi after making significant modifications to the design proposed by Pingali Venkayya.[3] This flag included charkha which was replaced with chakra in 1947 by Jawaharlal Nehru.[4]\n",
    "\n",
    "Before the amendment of the flag code in 2021, the flag was by law only to be made of khadi; a special type of hand-spun cloth or silk, made popular by Mahatma Gandhi. The manufacturing process and specifications for the flag are laid out by the Bureau of Indian Standards. The right to manufacture the flag is held by the Khadi Development and Village Industries Commission, which allocates it to regional groups. As of 2023, there are 4 units in India that are licensed to manufacture the flag.\n",
    "\n",
    "Usage of the flag is governed by the Flag Code of India and other laws relating to the national emblems. The original code prohibited use of the flag by private citizens except on national days such as the Independence day and the Republic Day. In 2002, on hearing an appeal from a private citizen, Naveen Jindal, the Supreme Court of India directed the Government of India to amend the code to allow flag usage by private citizens. Subsequently, the Union Cabinet of India amended the code to allow limited usage. The code was amended once more in 2005 to allow some additional use including adaptations on certain forms of clothing. The flag code also governs the protocol of flying the flag and its use in conjunction with other national and non-national flags.'''"
   ]
  },
  {
   "cell_type": "code",
   "execution_count": 5,
   "metadata": {},
   "outputs": [
    {
     "name": "stdout",
     "output_type": "stream",
     "text": [
      "Number of words in the text: 368\n"
     ]
    }
   ],
   "source": [
    "#count the number of words in the text and remove the punctuation\n",
    "words = nltk.word_tokenize(text)\n",
    "words = [word for word in words if word not in string.punctuation]\n",
    "print(f\"Number of words in the text: {len(words)}\")"
   ]
  },
  {
   "cell_type": "code",
   "execution_count": 6,
   "metadata": {},
   "outputs": [
    {
     "name": "stdout",
     "output_type": "stream",
     "text": [
      "Percentage of punctuation marks in the text: 2.358490566037736\n"
     ]
    }
   ],
   "source": [
    "#count percentage of punctuation marks in the text\n",
    "punctuation_count = len([char for char in text if char in string.punctuation])\n",
    "print(f\"Percentage of punctuation marks in the text: {punctuation_count / len(text) * 100}\")"
   ]
  },
  {
   "cell_type": "code",
   "execution_count": 7,
   "metadata": {},
   "outputs": [
    {
     "name": "stdout",
     "output_type": "stream",
     "text": [
      "Number of lines in the text: 16\n"
     ]
    }
   ],
   "source": [
    "#print total number of lines\n",
    "lines = nltk.sent_tokenize(text)\n",
    "print(f\"Number of lines in the text: {len(lines)}\")"
   ]
  },
  {
   "cell_type": "code",
   "execution_count": 8,
   "metadata": {},
   "outputs": [
    {
     "name": "stdout",
     "output_type": "stream",
     "text": [
      "Number of words in the title case: 69\n"
     ]
    }
   ],
   "source": [
    "#how many words are in the title case\n",
    "title_case_count = len([word for word in words if word.istitle()])\n",
    "print(f\"Number of words in the title case: {title_case_count}\")"
   ]
  },
  {
   "cell_type": "code",
   "execution_count": 12,
   "metadata": {},
   "outputs": [
    {
     "name": "stdout",
     "output_type": "stream",
     "text": [
      "Text without numbers: The national flag of India, colloquially called Tiraṅgā (the tricolour), is a horizontal rectangular tricolour flag, the colours being of India saffron, white and India green; with the Ashoka Chakra, a -spoke wheel, in navy blue at its centre.[][] It was adopted in its present form during a meeting of the Constituent Assembly held on  July , and it became the official flag of the Union of India on  August . The flag was subsequently retained as that of the Republic of India. In India, the term \"tricolour\" almost always refers to the Indian national flag.\n",
      "\n",
      "The flag is based on the Swaraj flag, a flag of the Indian National Congress adopted by Mahatma Gandhi after making significant modifications to the design proposed by Pingali Venkayya.[] This flag included charkha which was replaced with chakra in  by Jawaharlal Nehru.[]\n",
      "\n",
      "Before the amendment of the flag code in , the flag was by law only to be made of khadi; a special type of hand-spun cloth or silk, made popular by Mahatma Gandhi. The manufacturing process and specifications for the flag are laid out by the Bureau of Indian Standards. The right to manufacture the flag is held by the Khadi Development and Village Industries Commission, which allocates it to regional groups. As of , there are  units in India that are licensed to manufacture the flag.\n",
      "\n",
      "Usage of the flag is governed by the Flag Code of India and other laws relating to the national emblems. The original code prohibited use of the flag by private citizens except on national days such as the Independence day and the Republic Day. In , on hearing an appeal from a private citizen, Naveen Jindal, the Supreme Court of India directed the Government of India to amend the code to allow flag usage by private citizens. Subsequently, the Union Cabinet of India amended the code to allow limited usage. The code was amended once more in  to allow some additional use including adaptations on certain forms of clothing. The flag code also governs the protocol of flying the flag and its use in conjunction with other national and non-national flags.\n"
     ]
    }
   ],
   "source": [
    "#remove the numbers from the text and print the text\n",
    "text_without_numbers = ''.join([char for char in text if not char.isdigit()])\n",
    "print(f\"Text without numbers: {text_without_numbers}\")"
   ]
  }
 ],
 "metadata": {
  "kernelspec": {
   "display_name": "base",
   "language": "python",
   "name": "python3"
  },
  "language_info": {
   "codemirror_mode": {
    "name": "ipython",
    "version": 3
   },
   "file_extension": ".py",
   "mimetype": "text/x-python",
   "name": "python",
   "nbconvert_exporter": "python",
   "pygments_lexer": "ipython3",
   "version": "3.11.4"
  }
 },
 "nbformat": 4,
 "nbformat_minor": 2
}
