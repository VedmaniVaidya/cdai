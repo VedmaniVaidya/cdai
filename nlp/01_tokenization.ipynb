{
 "cells": [
  {
   "cell_type": "code",
   "execution_count": 129,
   "metadata": {},
   "outputs": [],
   "source": [
    "import pandas as pd"
   ]
  },
  {
   "cell_type": "markdown",
   "metadata": {},
   "source": [
    "1.  Find the average of ages mentioned in the statement"
   ]
  },
  {
   "cell_type": "code",
   "execution_count": 1,
   "metadata": {},
   "outputs": [],
   "source": [
    "sent = 'They told that their ages are 25 26 and 31 respectively'\n"
   ]
  },
  {
   "cell_type": "code",
   "execution_count": 4,
   "metadata": {},
   "outputs": [
    {
     "name": "stdout",
     "output_type": "stream",
     "text": [
      "[25, 26, 31]\n",
      "27.333333333333332\n"
     ]
    }
   ],
   "source": [
    "words = sent.split(\" \")\n",
    "ages = [int(word) for word in words if word.isdigit()]\n",
    "print(ages)\n",
    "average = sum(ages)/len(ages)\n",
    "print(average)"
   ]
  },
  {
   "cell_type": "markdown",
   "metadata": {},
   "source": [
    "2. find how many number of sentences are there in it?"
   ]
  },
  {
   "cell_type": "code",
   "execution_count": 9,
   "metadata": {},
   "outputs": [
    {
     "name": "stdout",
     "output_type": "stream",
     "text": [
      "The number of sentences is 3\n"
     ]
    }
   ],
   "source": [
    "sents = '''Hello friends!!\n",
    "How are you? Welcome to python programming.\n",
    "'''\n",
    "num_sentences = sents.count('.') + sents.count('!') + sents.count('?')\n",
    "\n",
    "print(f\"The number of sentences is {num_sentences}\")"
   ]
  },
  {
   "cell_type": "code",
   "execution_count": 12,
   "metadata": {},
   "outputs": [
    {
     "name": "stdout",
     "output_type": "stream",
     "text": [
      "9\n"
     ]
    }
   ],
   "source": [
    "# flag = True\n",
    "# sum1 = 0\n",
    "# for i in sents:\n",
    "\n",
    "#     if not flag:\n",
    "#         if i.isalnum():\n",
    "#             flag = True\n",
    "#     if not i.isalnum() and flag:\n",
    "#         sum1 +=1\n",
    "#         flag = False\n",
    "# print(sum1)"
   ]
  },
  {
   "cell_type": "markdown",
   "metadata": {},
   "source": [
    "3. Capitalize first letter of each word in the statement"
   ]
  },
  {
   "cell_type": "code",
   "execution_count": 25,
   "metadata": {},
   "outputs": [
    {
     "data": {
      "text/plain": [
       "[0, 15, 28, 59]"
      ]
     },
     "execution_count": 25,
     "metadata": {},
     "output_type": "execute_result"
    }
   ],
   "source": [
    "indexes=[-2]\n",
    "for idx, char in enumerate(sents):\n",
    "    if char in [\"?\",\".\",\"!\"]:\n",
    "        indexes.append(idx)\n",
    "indexes = [i+2 for i in indexes]\n",
    "indexes"
   ]
  },
  {
   "cell_type": "code",
   "execution_count": 26,
   "metadata": {},
   "outputs": [
    {
     "name": "stdout",
     "output_type": "stream",
     "text": [
      "Hello friends!\n",
      "How are you? Welcome to python programming.\n",
      "\n"
     ]
    }
   ],
   "source": [
    "new_sents = \"\"\n",
    "for idx, char in enumerate(sents):\n",
    "    if idx in indexes:\n",
    "        new_sents += char.upper()\n",
    "    else:\n",
    "        new_sents += char\n",
    "print(new_sents)"
   ]
  },
  {
   "cell_type": "markdown",
   "metadata": {},
   "source": [
    "# NLTK"
   ]
  },
  {
   "cell_type": "code",
   "execution_count": 2,
   "metadata": {},
   "outputs": [],
   "source": [
    "import nltk"
   ]
  },
  {
   "cell_type": "code",
   "execution_count": 7,
   "metadata": {},
   "outputs": [
    {
     "name": "stderr",
     "output_type": "stream",
     "text": [
      "[nltk_data] Downloading package stopwords to /home/dai/nltk_data...\n",
      "[nltk_data]   Package stopwords is already up-to-date!\n",
      "[nltk_data] Downloading package averaged_perceptron_tagger to\n",
      "[nltk_data]     /home/dai/nltk_data...\n",
      "[nltk_data]   Package averaged_perceptron_tagger is already up-to-\n",
      "[nltk_data]       date!\n",
      "[nltk_data] Downloading package wordnet to /home/dai/nltk_data...\n",
      "[nltk_data]   Package wordnet is already up-to-date!\n",
      "[nltk_data] Downloading package omw-1.4 to /home/dai/nltk_data...\n",
      "[nltk_data]   Package omw-1.4 is already up-to-date!\n",
      "[nltk_data] Downloading package indian to /home/dai/nltk_data...\n",
      "[nltk_data]   Package indian is already up-to-date!\n",
      "[nltk_data] Downloading package maxent_ne_chunker to\n",
      "[nltk_data]     /home/dai/nltk_data...\n",
      "[nltk_data]   Package maxent_ne_chunker is already up-to-date!\n",
      "[nltk_data] Downloading package punkt to /home/dai/nltk_data...\n",
      "[nltk_data]   Package punkt is already up-to-date!\n",
      "[nltk_data] Downloading package words to /home/dai/nltk_data...\n",
      "[nltk_data]   Package words is already up-to-date!\n"
     ]
    },
    {
     "data": {
      "text/plain": [
       "True"
      ]
     },
     "execution_count": 7,
     "metadata": {},
     "output_type": "execute_result"
    }
   ],
   "source": [
    "nltk.download('stopwords')\n",
    "nltk.download('averaged_perceptron_tagger')\n",
    "nltk.download('wordnet')\n",
    "nltk.download('omw-1.4')\n",
    "nltk.download('indian')\n",
    "nltk.download('maxent_ne_chunker')\n",
    "nltk.download('punkt')\n",
    "nltk.download('words')"
   ]
  },
  {
   "cell_type": "code",
   "execution_count": 30,
   "metadata": {},
   "outputs": [],
   "source": [
    "from nltk.tokenize import sent_tokenize"
   ]
  },
  {
   "cell_type": "code",
   "execution_count": 31,
   "metadata": {},
   "outputs": [
    {
     "data": {
      "text/plain": [
       "['Hello friends!', 'How are you?', 'Welcome to python programming.']"
      ]
     },
     "execution_count": 31,
     "metadata": {},
     "output_type": "execute_result"
    }
   ],
   "source": [
    "sent_list = sent_tokenize(sents)\n",
    "sent_list"
   ]
  },
  {
   "cell_type": "markdown",
   "metadata": {},
   "source": [
    "### word tokenization"
   ]
  },
  {
   "cell_type": "code",
   "execution_count": 34,
   "metadata": {},
   "outputs": [],
   "source": [
    "from nltk.tokenize import word_tokenize"
   ]
  },
  {
   "cell_type": "code",
   "execution_count": 36,
   "metadata": {},
   "outputs": [
    {
     "data": {
      "text/plain": [
       "['Hello',\n",
       " 'friends',\n",
       " '!',\n",
       " 'How',\n",
       " 'are',\n",
       " 'you',\n",
       " '?',\n",
       " 'Welcome',\n",
       " 'to',\n",
       " 'python',\n",
       " 'programming',\n",
       " '.']"
      ]
     },
     "execution_count": 36,
     "metadata": {},
     "output_type": "execute_result"
    }
   ],
   "source": [
    "words = word_tokenize(sents)\n",
    "words"
   ]
  },
  {
   "cell_type": "code",
   "execution_count": 37,
   "metadata": {},
   "outputs": [],
   "source": [
    "import string"
   ]
  },
  {
   "cell_type": "code",
   "execution_count": 38,
   "metadata": {},
   "outputs": [
    {
     "data": {
      "text/plain": [
       "'!\"#$%&\\'()*+,-./:;<=>?@[\\\\]^_`{|}~'"
      ]
     },
     "execution_count": 38,
     "metadata": {},
     "output_type": "execute_result"
    }
   ],
   "source": [
    "string.punctuation"
   ]
  },
  {
   "cell_type": "code",
   "execution_count": 39,
   "metadata": {},
   "outputs": [],
   "source": [
    "# Find percentage of punctuation symbols"
   ]
  },
  {
   "cell_type": "code",
   "execution_count": 40,
   "metadata": {},
   "outputs": [
    {
     "name": "stdout",
     "output_type": "stream",
     "text": [
      "25.0\n"
     ]
    }
   ],
   "source": [
    "sum1 = 0\n",
    "for i in words:\n",
    "    if i in string.punctuation:\n",
    "        sum1 += 1\n",
    "print(sum1/len(words)*100)"
   ]
  },
  {
   "cell_type": "code",
   "execution_count": 41,
   "metadata": {},
   "outputs": [
    {
     "data": {
      "text/plain": [
       "97"
      ]
     },
     "execution_count": 41,
     "metadata": {},
     "output_type": "execute_result"
    }
   ],
   "source": [
    "ord('a')"
   ]
  },
  {
   "cell_type": "code",
   "execution_count": 45,
   "metadata": {},
   "outputs": [
    {
     "data": {
      "text/plain": [
       "'a'"
      ]
     },
     "execution_count": 45,
     "metadata": {},
     "output_type": "execute_result"
    }
   ],
   "source": [
    "chr(97)"
   ]
  },
  {
   "cell_type": "code",
   "execution_count": 46,
   "metadata": {},
   "outputs": [
    {
     "data": {
      "text/plain": [
       "'ê'"
      ]
     },
     "execution_count": 46,
     "metadata": {},
     "output_type": "execute_result"
    }
   ],
   "source": [
    "chr(234)"
   ]
  },
  {
   "cell_type": "code",
   "execution_count": 47,
   "metadata": {},
   "outputs": [
    {
     "data": {
      "text/plain": [
       "'😊'"
      ]
     },
     "execution_count": 47,
     "metadata": {},
     "output_type": "execute_result"
    }
   ],
   "source": [
    "chr(0x1F60A)"
   ]
  },
  {
   "cell_type": "code",
   "execution_count": 56,
   "metadata": {},
   "outputs": [
    {
     "data": {
      "text/plain": [
       "'🗨'"
      ]
     },
     "execution_count": 56,
     "metadata": {},
     "output_type": "execute_result"
    }
   ],
   "source": [
    "chr(128488)"
   ]
  },
  {
   "cell_type": "code",
   "execution_count": 52,
   "metadata": {},
   "outputs": [
    {
     "data": {
      "text/plain": [
       "'खाररय'"
      ]
     },
     "execution_count": 52,
     "metadata": {},
     "output_type": "execute_result"
    }
   ],
   "source": [
    "'\\u0916\\u093e\\u0930\\u0930\\u092f'"
   ]
  },
  {
   "cell_type": "code",
   "execution_count": 53,
   "metadata": {},
   "outputs": [
    {
     "data": {
      "text/plain": [
       "['साहील', 'अनिल', 'चिन्मय']"
      ]
     },
     "execution_count": 53,
     "metadata": {},
     "output_type": "execute_result"
    }
   ],
   "source": [
    "names = [\"साहील\",\"अनिल\",\"चिन्मय\"]\n",
    "names"
   ]
  },
  {
   "cell_type": "code",
   "execution_count": 57,
   "metadata": {},
   "outputs": [],
   "source": [
    "text = \"\"\" भारतीय स्वातंत्र्यसैनिक सरदार वल्लभभाई पटेल यांचा जन्म 31 ऑक्टोबर 1875 रोजी गुजरातमध्ये झाला. सुरुवातीच्या शिक्षणादरम्यान विद्यार्थ्यांना स्वतःच्या व्यावसायिक आस्थापनातून पुस्तके विकत घेण्यास भाग पाडणाऱ्या शिक्षकाविरुद्ध आंदोलन करून त्यांनी त्यांना योग्य मार्ग दाखवला.\n",
    "1908 मध्ये त्यांनी कायद्याची  अंतरिम परीक्षा प्रथम विभागात उत्तीर्ण होऊन बॅरिस्टर झाले. गुन्हेगारी वकिलीमध्ये त्यांनी खूप प्रसिद्धी मिळवली. महात्मा गांधींनी 'ब्रिटिश भारत छोडो आंदोलन' पूर्ण ताकदीने चालवण्याचा निर्णय घेतला तेव्हा पटेल यांनी अहमदाबादच्या लोकल बोर्डाच्या मैदानात एक लाख लोकांच्या समुहासमोर या आंदोलनाची रूपरेषा स्पष्ट केली.\n",
    "\"\"\""
   ]
  },
  {
   "cell_type": "code",
   "execution_count": 58,
   "metadata": {},
   "outputs": [
    {
     "data": {
      "text/plain": [
       "['भारतीय',\n",
       " 'स्वातंत्र्यसैनिक',\n",
       " 'सरदार',\n",
       " 'वल्लभभाई',\n",
       " 'पटेल',\n",
       " 'यांचा',\n",
       " 'जन्म',\n",
       " '31',\n",
       " 'ऑक्टोबर',\n",
       " '1875',\n",
       " 'रोजी',\n",
       " 'गुजरातमध्ये',\n",
       " 'झाला',\n",
       " '.',\n",
       " 'सुरुवातीच्या',\n",
       " 'शिक्षणादरम्यान',\n",
       " 'विद्यार्थ्यांना',\n",
       " 'स्वतःच्या',\n",
       " 'व्यावसायिक',\n",
       " 'आस्थापनातून',\n",
       " 'पुस्तके',\n",
       " 'विकत',\n",
       " 'घेण्यास',\n",
       " 'भाग',\n",
       " 'पाडणाऱ्या',\n",
       " 'शिक्षकाविरुद्ध',\n",
       " 'आंदोलन',\n",
       " 'करून',\n",
       " 'त्यांनी',\n",
       " 'त्यांना',\n",
       " 'योग्य',\n",
       " 'मार्ग',\n",
       " 'दाखवला',\n",
       " '.',\n",
       " '1908',\n",
       " 'मध्ये',\n",
       " 'त्यांनी',\n",
       " 'कायद्याची',\n",
       " 'अंतरिम',\n",
       " 'परीक्षा',\n",
       " 'प्रथम',\n",
       " 'विभागात',\n",
       " 'उत्तीर्ण',\n",
       " 'होऊन',\n",
       " 'बॅरिस्टर',\n",
       " 'झाले',\n",
       " '.',\n",
       " 'गुन्हेगारी',\n",
       " 'वकिलीमध्ये',\n",
       " 'त्यांनी',\n",
       " 'खूप',\n",
       " 'प्रसिद्धी',\n",
       " 'मिळवली',\n",
       " '.',\n",
       " 'महात्मा',\n",
       " 'गांधींनी',\n",
       " \"'\",\n",
       " 'ब्रिटिश',\n",
       " 'भारत',\n",
       " 'छोडो',\n",
       " 'आंदोलन',\n",
       " \"'\",\n",
       " 'पूर्ण',\n",
       " 'ताकदीने',\n",
       " 'चालवण्याचा',\n",
       " 'निर्णय',\n",
       " 'घेतला',\n",
       " 'तेव्हा',\n",
       " 'पटेल',\n",
       " 'यांनी',\n",
       " 'अहमदाबादच्या',\n",
       " 'लोकल',\n",
       " 'बोर्डाच्या',\n",
       " 'मैदानात',\n",
       " 'एक',\n",
       " 'लाख',\n",
       " 'लोकांच्या',\n",
       " 'समुहासमोर',\n",
       " 'या',\n",
       " 'आंदोलनाची',\n",
       " 'रूपरेषा',\n",
       " 'स्पष्ट',\n",
       " 'केली',\n",
       " '.']"
      ]
     },
     "execution_count": 58,
     "metadata": {},
     "output_type": "execute_result"
    }
   ],
   "source": [
    "word_tokenize(text)"
   ]
  },
  {
   "cell_type": "markdown",
   "metadata": {},
   "source": [
    "### whitespace tokenizer"
   ]
  },
  {
   "cell_type": "code",
   "execution_count": 61,
   "metadata": {},
   "outputs": [],
   "source": [
    "from nltk.tokenize import WhitespaceTokenizer"
   ]
  },
  {
   "cell_type": "code",
   "execution_count": 62,
   "metadata": {},
   "outputs": [
    {
     "data": {
      "text/plain": [
       "['Hello',\n",
       " 'friends!',\n",
       " 'How',\n",
       " 'are',\n",
       " 'you?',\n",
       " 'Welcome',\n",
       " 'to',\n",
       " 'python',\n",
       " 'programming.']"
      ]
     },
     "execution_count": 62,
     "metadata": {},
     "output_type": "execute_result"
    }
   ],
   "source": [
    "tk = WhitespaceTokenizer()\n",
    "tk.tokenize(sents)"
   ]
  },
  {
   "cell_type": "markdown",
   "metadata": {},
   "source": [
    "## space tokenizer"
   ]
  },
  {
   "cell_type": "code",
   "execution_count": 63,
   "metadata": {},
   "outputs": [],
   "source": [
    "from nltk.tokenize import SpaceTokenizer"
   ]
  },
  {
   "cell_type": "code",
   "execution_count": 64,
   "metadata": {},
   "outputs": [
    {
     "data": {
      "text/plain": [
       "['Hello',\n",
       " 'friends!\\nHow',\n",
       " 'are',\n",
       " 'you?',\n",
       " 'Welcome',\n",
       " 'to',\n",
       " 'python',\n",
       " 'programming.\\n']"
      ]
     },
     "execution_count": 64,
     "metadata": {},
     "output_type": "execute_result"
    }
   ],
   "source": [
    "tk = SpaceTokenizer()\n",
    "tk.tokenize(sents)"
   ]
  },
  {
   "cell_type": "markdown",
   "metadata": {},
   "source": [
    "## line tokenizer"
   ]
  },
  {
   "cell_type": "code",
   "execution_count": 65,
   "metadata": {},
   "outputs": [],
   "source": [
    "from nltk.tokenize import LineTokenizer"
   ]
  },
  {
   "cell_type": "code",
   "execution_count": 66,
   "metadata": {},
   "outputs": [
    {
     "data": {
      "text/plain": [
       "['Hello friends!', 'How are you? Welcome to python programming.']"
      ]
     },
     "execution_count": 66,
     "metadata": {},
     "output_type": "execute_result"
    }
   ],
   "source": [
    "tk = LineTokenizer()\n",
    "tk.tokenize(sents)"
   ]
  },
  {
   "cell_type": "markdown",
   "metadata": {},
   "source": [
    "### tab tokenizer"
   ]
  },
  {
   "cell_type": "code",
   "execution_count": 74,
   "metadata": {},
   "outputs": [],
   "source": [
    "sents2 = \"'Hello friends!\\tHow are you?\\tWelcome to python programming.\\n'\""
   ]
  },
  {
   "cell_type": "code",
   "execution_count": 75,
   "metadata": {},
   "outputs": [],
   "source": [
    "from nltk.tokenize import TabTokenizer"
   ]
  },
  {
   "cell_type": "code",
   "execution_count": 76,
   "metadata": {},
   "outputs": [
    {
     "data": {
      "text/plain": [
       "[\"'Hello friends!\", 'How are you?', \"Welcome to python programming.\\n'\"]"
      ]
     },
     "execution_count": 76,
     "metadata": {},
     "output_type": "execute_result"
    }
   ],
   "source": [
    "tk = TabTokenizer()\n",
    "tk.tokenize(sents2)"
   ]
  },
  {
   "cell_type": "markdown",
   "metadata": {},
   "source": [
    "### Tweet Tokenizer"
   ]
  },
  {
   "cell_type": "code",
   "execution_count": 77,
   "metadata": {},
   "outputs": [],
   "source": [
    "from nltk.tokenize import TweetTokenizer"
   ]
  },
  {
   "cell_type": "code",
   "execution_count": 93,
   "metadata": {},
   "outputs": [
    {
     "name": "stdout",
     "output_type": "stream",
     "text": [
      " Hello friends! :) :! 😊 🤗\n",
      " How are you? Welcome to #python programming :D\n",
      " Checkmy web: https://python.org\n",
      " \n"
     ]
    }
   ],
   "source": [
    "sent3 = \"\"\" Hello friends! :) :! 😊 🤗\n",
    " How are you? Welcome to #python programming :D\n",
    " Checkmy web: https://python.org\n",
    " \"\"\"\n",
    "print(sent3)"
   ]
  },
  {
   "cell_type": "code",
   "execution_count": 91,
   "metadata": {},
   "outputs": [
    {
     "data": {
      "text/plain": [
       "['Hello',\n",
       " 'friends',\n",
       " '!',\n",
       " ':)',\n",
       " ':',\n",
       " '!',\n",
       " '😊',\n",
       " '🤗',\n",
       " 'How',\n",
       " 'are',\n",
       " 'you',\n",
       " '?',\n",
       " 'Welcome',\n",
       " 'to',\n",
       " '#python',\n",
       " 'programming',\n",
       " ':D',\n",
       " 'Checkmy',\n",
       " 'web',\n",
       " ':',\n",
       " 'https://python.org']"
      ]
     },
     "execution_count": 91,
     "metadata": {},
     "output_type": "execute_result"
    }
   ],
   "source": [
    "tk = TweetTokenizer()\n",
    "tk.tokenize(sent3)"
   ]
  },
  {
   "cell_type": "markdown",
   "metadata": {},
   "source": [
    "# Multiword Expression Tokenizer"
   ]
  },
  {
   "cell_type": "code",
   "execution_count": 94,
   "metadata": {},
   "outputs": [],
   "source": [
    "from nltk.tokenize import MWETokenizer"
   ]
  },
  {
   "cell_type": "code",
   "execution_count": 104,
   "metadata": {},
   "outputs": [],
   "source": [
    "sent = 'Van Rossom is in Pune today. We welcomed Van Rossom here.' to Python programming!\"\n",
    "delimiters = [\",\", \";\"]\n",
    "\n",
    "result = re.split(\"|\".join(map(re.escape, delimiters)), string)\n",
    "print(result)\n"
   ]
  },
  {
   "cell_type": "code",
   "execution_count": 105,
   "metadata": {},
   "outputs": [
    {
     "data": {
      "text/plain": [
       "['Van Rossom',\n",
       " 'is',\n",
       " 'in',\n",
       " 'Pune',\n",
       " 'today',\n",
       " '.',\n",
       " 'We',\n",
       " 'welcomed',\n",
       " 'Van Rossom',\n",
       " 'here',\n",
       " '.']"
      ]
     },
     "execution_count": 105,
     "metadata": {},
     "output_type": "execute_result"
    }
   ],
   "source": [
    "tk = MWETokenizer(separator=' ')\n",
    "tk.add_mwe(('Van','Rossom'))\n",
    "tk.tokenize(word_tokenize(sent))"
   ]
  },
  {
   "cell_type": "markdown",
   "metadata": {},
   "source": [
    "### custom tokenizer"
   ]
  },
  {
   "cell_type": "code",
   "execution_count": 106,
   "metadata": {},
   "outputs": [],
   "source": [
    "import re"
   ]
  },
  {
   "cell_type": "code",
   "execution_count": 110,
   "metadata": {},
   "outputs": [],
   "source": [
    "def custom_tokenizer(text):\n",
    "    return re.split(r\"[.,;?!\\s]+\",text)"
   ]
  },
  {
   "cell_type": "code",
   "execution_count": 111,
   "metadata": {},
   "outputs": [],
   "source": [
    "sents = '''Hello friends!\n",
    "How-are you? Wel.come to\\tPython Progra?mming'''"
   ]
  },
  {
   "cell_type": "code",
   "execution_count": 112,
   "metadata": {},
   "outputs": [
    {
     "data": {
      "text/plain": [
       "['Hello',\n",
       " 'friends',\n",
       " 'How-are',\n",
       " 'you',\n",
       " 'Wel',\n",
       " 'come',\n",
       " 'to',\n",
       " 'Python',\n",
       " 'Progra',\n",
       " 'mming']"
      ]
     },
     "execution_count": 112,
     "metadata": {},
     "output_type": "execute_result"
    }
   ],
   "source": [
    "custom_tokenizer(sents)"
   ]
  },
  {
   "cell_type": "code",
   "execution_count": 114,
   "metadata": {},
   "outputs": [
    {
     "name": "stdout",
     "output_type": "stream",
     "text": [
      "roll\tname\tclass\tmarks\tage\n",
      "1\tanil\tTE\t56.77\t22\n",
      "2\tamit\tTE\t59.77\t21\n",
      "3\taniket\tBE\t76.88\t19\n",
      "4\tajinkya\tTE\t69.66\t20\n",
      "5\tasha\tTE\t63.28\t20\n",
      "6\tayesha\tBE\t49.55\t20\n",
      "7\tamar\tBE\t65.34\t19\n",
      "8\tamita\tBE\t68.33\t23\n",
      "9\tamol\tTE\t56.75\t20\n",
      "10\tanmol\tBE\t78.66\t21\n",
      "\n"
     ]
    }
   ],
   "source": [
    "with open('student3.tsv') as file:\n",
    "    data = file.read()\n",
    "print(data)"
   ]
  },
  {
   "cell_type": "code",
   "execution_count": 117,
   "metadata": {},
   "outputs": [],
   "source": [
    "def custom_tokenizer(text):\n",
    "    return re.split(r\"[\\t\\n]+\",text)\n",
    "lst = custom_tokenizer(data[:-1])"
   ]
  },
  {
   "cell_type": "code",
   "execution_count": 146,
   "metadata": {},
   "outputs": [
    {
     "data": {
      "text/plain": [
       "['56.77',\n",
       " '59.77',\n",
       " '76.88',\n",
       " '69.66',\n",
       " '63.28',\n",
       " '49.55',\n",
       " '65.34',\n",
       " '68.33',\n",
       " '56.75',\n",
       " '78.66']"
      ]
     },
     "execution_count": 146,
     "metadata": {},
     "output_type": "execute_result"
    }
   ],
   "source": [
    "lst[5+3::5]"
   ]
  },
  {
   "cell_type": "code",
   "execution_count": 128,
   "metadata": {},
   "outputs": [
    {
     "data": {
      "text/html": [
       "<div>\n",
       "<style scoped>\n",
       "    .dataframe tbody tr th:only-of-type {\n",
       "        vertical-align: middle;\n",
       "    }\n",
       "\n",
       "    .dataframe tbody tr th {\n",
       "        vertical-align: top;\n",
       "    }\n",
       "\n",
       "    .dataframe thead th {\n",
       "        text-align: right;\n",
       "    }\n",
       "</style>\n",
       "<table border=\"1\" class=\"dataframe\">\n",
       "  <thead>\n",
       "    <tr style=\"text-align: right;\">\n",
       "      <th></th>\n",
       "      <th>roll</th>\n",
       "      <th>name</th>\n",
       "      <th>class</th>\n",
       "      <th>marks</th>\n",
       "      <th>age</th>\n",
       "    </tr>\n",
       "  </thead>\n",
       "  <tbody>\n",
       "    <tr>\n",
       "      <th>9</th>\n",
       "      <td>10</td>\n",
       "      <td>anmol</td>\n",
       "      <td>BE</td>\n",
       "      <td>78.66</td>\n",
       "      <td>21</td>\n",
       "    </tr>\n",
       "  </tbody>\n",
       "</table>\n",
       "</div>"
      ],
      "text/plain": [
       "  roll   name class  marks age\n",
       "9   10  anmol    BE  78.66  21"
      ]
     },
     "execution_count": 128,
     "metadata": {},
     "output_type": "execute_result"
    }
   ],
   "source": []
  },
  {
   "cell_type": "code",
   "execution_count": null,
   "metadata": {},
   "outputs": [],
   "source": []
  }
 ],
 "metadata": {
  "kernelspec": {
   "display_name": "base",
   "language": "python",
   "name": "python3"
  },
  "language_info": {
   "codemirror_mode": {
    "name": "ipython",
    "version": 3
   },
   "file_extension": ".py",
   "mimetype": "text/x-python",
   "name": "python",
   "nbconvert_exporter": "python",
   "pygments_lexer": "ipython3",
   "version": "3.11.4"
  }
 },
 "nbformat": 4,
 "nbformat_minor": 2
}
