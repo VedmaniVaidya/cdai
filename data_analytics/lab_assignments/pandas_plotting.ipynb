{
 "cells": [
  {
   "cell_type": "markdown",
   "id": "b6699917",
   "metadata": {},
   "source": [
    "1.Write a Pandas program to create a line plot of the historical stock prices of Alphabet Inc. between two specific dates. "
   ]
  },
  {
   "cell_type": "code",
   "execution_count": null,
   "id": "bc7baede",
   "metadata": {},
   "outputs": [],
   "source": [
    "import pandas as pd\r\n",
    "import matplotlib.pyplot as plt\r\n",
    "df = pd.read_csv(\"alphabet_stock_data.csv\")\r\n",
    "start_date = pd.to_datetime('2020-4-1')\r\n",
    "end_date = pd.to_datetime('2020-09-30')                         \r\n",
    "df['Date'] = pd.to_datetime(df['Date']) \r\n",
    "new_df = (df['Date']>= start_date) & (df['Date']<= end_date)\r\n",
    "df1 = df.loc[new_df]\r\n",
    "df2 = df1.set_index('Date')\r\n",
    "plt.figure(figsize=(5,5))\r\n",
    "plt.suptitle('Stock prices of Alphabet Inc.,\\n01-04-2020 to 30-09-2020', \\\r\n",
    "                 fontsize=18, color='black')\r\n",
    "plt.xlabel(\"Date\",fontsize=16, color='black')\r\n",
    "plt.ylabel(\"$ price\", fontsize=16, color='black')\r\n",
    " \r\n",
    "df2['Close'].plot(color='green');\r\n",
    "plt.show()\r\n"
   ]
  },
  {
   "cell_type": "markdown",
   "id": "1ee4b4a5",
   "metadata": {},
   "source": [
    "2.Write a Pandas program to create a line plot of the opening, closing stock prices of Alphabet Inc. between two specific dates. "
   ]
  },
  {
   "cell_type": "code",
   "execution_count": null,
   "id": "9febcf7d",
   "metadata": {},
   "outputs": [],
   "source": [
    "import pandas as pd\r\n",
    "import matplotlib.pyplot as plt\r\n",
    "df = pd.read_csv(\"alphabet_stock_data.csv\")\r\n",
    "start_date = pd.to_datetime('2020-4-1')\r\n",
    "end_date = pd.to_datetime('2020-09-30')                         \r\n",
    "df['Date'] = pd.to_datetime(df['Date']) \r\n",
    "new_df = (df['Date']>= start_date) & (df['Date']<= end_date)\r\n",
    "df2 = df.loc[new_df]\r\n",
    "plt.figure(figsize=(10,10))\r\n",
    "df2.plot(x='Date', y=['Open', 'Close']);\r\n",
    "plt.suptitle('Opening/Closing stock prices of Alphabet Inc.,\\n 01-04-2020 to 30-09-2020', fontsize=12, color='black')\r\n",
    "plt.xlabel(\"Date\",fontsize=12, color='black')\r\n",
    "plt.ylabel(\"$ price\", fontsize=12, color='black')\r\n",
    "plt.show()\r\n",
    "\r\n"
   ]
  },
  {
   "cell_type": "markdown",
   "id": "cdc0acc5",
   "metadata": {},
   "source": [
    "3.Write a Pandas program to create a bar plot of the trading volume of Alphabet Inc. stock between two specific dates. "
   ]
  },
  {
   "cell_type": "code",
   "execution_count": null,
   "id": "a7a0e548",
   "metadata": {},
   "outputs": [],
   "source": [
    "import pandas as pd\r\n",
    "import matplotlib.pyplot as plt\r\n",
    "df = pd.read_csv(\"alphabet_stock_data.csv\")\r\n",
    "start_date = pd.to_datetime('2020-4-1')\r\n",
    "end_date = pd.to_datetime('2020-4-30')                         \r\n",
    "df['Date'] = pd.to_datetime(df['Date']) \r\n",
    "new_df = (df['Date']>= start_date) & (df['Date']<= end_date)\r\n",
    "df1 = df.loc[new_df]\r\n",
    "df2 = df1.set_index('Date')\r\n",
    "plt.figure(figsize=(6,6))\r\n",
    "plt.suptitle('Trading Volume of Alphabet Inc. stock,\\n01-04-2020 to 30-04-2020', fontsize=16, color='black')\r\n",
    "plt.xlabel(\"Date\",fontsize=12, color='black')\r\n",
    "plt.ylabel(\"Trading Volume\", fontsize=12, color='black') \r\n",
    "df2['Volume'].plot(kind='bar');\r\n",
    "plt.show()\r\n"
   ]
  },
  {
   "cell_type": "markdown",
   "id": "19ea612a",
   "metadata": {},
   "source": [
    "4.Write a Pandas program to create a bar plot of opening, closing stock prices of Alphabet Inc. between two specific dates. "
   ]
  },
  {
   "cell_type": "code",
   "execution_count": null,
   "id": "d9399003",
   "metadata": {},
   "outputs": [],
   "source": [
    "import pandas as pd\r\n",
    "import matplotlib.pyplot as plt\r\n",
    "df = pd.read_csv(\"alphabet_stock_data.csv\")\r\n",
    "start_date = pd.to_datetime('2020-4-1')\r\n",
    "end_date = pd.to_datetime('2020-4-30')                         \r\n",
    "df['Date'] = pd.to_datetime(df['Date']) \r\n",
    "new_df = (df['Date']>= start_date) & (df['Date']<= end_date)\r\n",
    "df1 = df.loc[new_df]\r\n",
    "df2 = df1[['Date', 'Open', 'Close']]\r\n",
    "df3 = df2.set_index('Date')\r\n",
    "plt.figure(figsize=(20,20))\r\n",
    "df3.plot(kind='bar');\r\n",
    "plt.suptitle('Opening/Closing stock prices Alphabet Inc.,\\n01-04-2020 to 30-04-2020', fontsize=12, color='black')\r\n",
    "plt.show()\r\n"
   ]
  },
  {
   "cell_type": "markdown",
   "id": "b17b639c",
   "metadata": {},
   "source": [
    "5.Write a Pandas program to create a stacked bar plot of opening, closing stock prices of Alphabet Inc. between two specific dates. "
   ]
  },
  {
   "cell_type": "code",
   "execution_count": null,
   "id": "6c3e18fe",
   "metadata": {},
   "outputs": [],
   "source": [
    "import pandas as pd\r\n",
    "import matplotlib.pyplot as plt\r\n",
    "df = pd.read_csv(\"alphabet_stock_data.csv\")\r\n",
    "start_date = pd.to_datetime('2020-4-1')\r\n",
    "end_date = pd.to_datetime('2020-4-30')                         \r\n",
    "df['Date'] = pd.to_datetime(df['Date']) \r\n",
    "new_df = (df['Date']>= start_date) & (df['Date']<= end_date)\r\n",
    "df1 = df.loc[new_df]\r\n",
    "df2 = df1[['Date', 'Open', 'Close']]\r\n",
    "df3 = df2.set_index('Date')\r\n",
    "plt.figure(figsize=(20,20))\r\n",
    "df3.plot.bar(stacked=True);\r\n",
    "plt.suptitle('Opening/Closing stock prices Alphabet Inc.,\\n01-04-2020 to 30-04-2020', fontsize=12, color='black')\r\n",
    "plt.show()\r\n"
   ]
  },
  {
   "cell_type": "markdown",
   "id": "3453f12a",
   "metadata": {},
   "source": [
    "6.Write a Pandas program to create a horizontal stacked bar plot of opening, closing stock prices of Alphabet Inc. between two specific dates. "
   ]
  },
  {
   "cell_type": "code",
   "execution_count": null,
   "id": "b52794ec",
   "metadata": {},
   "outputs": [],
   "source": [
    "import pandas as pd\r\n",
    "import matplotlib.pyplot as plt\r\n",
    "df = pd.read_csv(\"alphabet_stock_data.csv\")\r\n",
    "start_date = pd.to_datetime('2020-4-1')\r\n",
    "end_date = pd.to_datetime('2020-4-30')                         \r\n",
    "df['Date'] = pd.to_datetime(df['Date']) \r\n",
    "new_df = (df['Date']>= start_date) & (df['Date']<= end_date)\r\n",
    "df1 = df.loc[new_df]\r\n",
    "df2 = df1[['Date', 'Open', 'Close']]\r\n",
    "df3 = df2.set_index('Date')\r\n",
    "plt.figure(figsize=(20,20))\r\n",
    "df3.plot.barh(stacked=True)\r\n",
    "plt.suptitle('Opening/Closing stock prices Alphabet Inc.,\\n01-04-2020 to 30-04-2020', fontsize=12, color='black')\r\n",
    "plt.show()\r\n"
   ]
  },
  {
   "cell_type": "markdown",
   "id": "4e919351",
   "metadata": {},
   "source": [
    "7.Write a Pandas program to create a histograms plot of opening, closing, high, low stock prices of Alphabet Inc. between two specific dates. "
   ]
  },
  {
   "cell_type": "code",
   "execution_count": null,
   "id": "20a23a09",
   "metadata": {},
   "outputs": [],
   "source": [
    "import pandas as pd\r\n",
    "import matplotlib.pyplot as plt\r\n",
    "df = pd.read_csv(\"alphabet_stock_data.csv\")\r\n",
    "start_date = pd.to_datetime('2020-4-1')\r\n",
    "end_date = pd.to_datetime('2020-9-30')                         \r\n",
    "df['Date'] = pd.to_datetime(df['Date']) \r\n",
    "new_df = (df['Date']>= start_date) & (df['Date']<= end_date)\r\n",
    "df1 = df.loc[new_df]\r\n",
    "df2 = df1[['Open','Close','High','Low']]\r\n",
    "#df3 = df2.set_index('Date')\r\n",
    "plt.figure(figsize=(25,25))\r\n",
    "df2.plot.hist(alpha=0.5)\r\n",
    "plt.suptitle('Opening/Closing/High/Low stock prices of Alphabet Inc.,\\n From 01-04-2020 to 30-09-2020', fontsize=12, color='blue')\r\n",
    "plt.show()\r\n"
   ]
  },
  {
   "cell_type": "markdown",
   "id": "a77d2b8d",
   "metadata": {},
   "source": [
    "8.Write a Pandas program to create a stacked histograms plot of opening, closing, high, low stock prices of Alphabet Inc. between two specific dates. "
   ]
  },
  {
   "cell_type": "code",
   "execution_count": null,
   "id": "c761c9dd",
   "metadata": {},
   "outputs": [],
   "source": [
    "import pandas as pd\r\n",
    "import matplotlib.pyplot as plt\r\n",
    "df = pd.read_csv(\"alphabet_stock_data.csv\")\r\n",
    "start_date = pd.to_datetime('2020-4-1')\r\n",
    "end_date = pd.to_datetime('2020-9-30')                         \r\n",
    "df['Date'] = pd.to_datetime(df['Date']) \r\n",
    "new_df = (df['Date']>= start_date) & (df['Date']<= end_date)\r\n",
    "df1 = df.loc[new_df]\r\n",
    "df2 = df1[['Open','Close','High','Low']]\r\n",
    "plt.figure(figsize=(25,25))\r\n",
    "df2.plot.hist(stacked=True, bins=20)\r\n",
    "plt.suptitle('Opening/Closing/High/Low stock prices of Alphabet Inc.,\\n From 01-04-2020 to 30-09-2020', fontsize=12, color='blue')\r\n",
    "plt.show()\r\n"
   ]
  },
  {
   "cell_type": "markdown",
   "id": "d2a1d4ed",
   "metadata": {},
   "source": [
    "9.Write a Pandas program to draw a horizontal and cumulative histograms plot of opening stock prices of Alphabet Inc. between two specific dates. "
   ]
  },
  {
   "cell_type": "code",
   "execution_count": null,
   "id": "e15f4dca",
   "metadata": {},
   "outputs": [],
   "source": [
    "import pandas as pd\r\n",
    "import matplotlib.pyplot as plt\r\n",
    "df = pd.read_csv(\"alphabet_stock_data.csv\")\r\n",
    "start_date = pd.to_datetime('2020-4-1')\r\n",
    "end_date = pd.to_datetime('2020-4-30')                         \r\n",
    "df['Date'] = pd.to_datetime(df['Date']) \r\n",
    "new_df = (df['Date']>= start_date) & (df['Date']<= end_date)\r\n",
    "df1 = df.loc[new_df]\r\n",
    "df2 = df1[['Open']]\r\n",
    "plt.figure(figsize=(15,15))\r\n",
    "df2.plot.hist(orientation='horizontal', cumulative=True)\r\n",
    "plt.suptitle('Opening stock prices of Alphabet Inc.,\\n From 01-04-2020 to 30-04-2020', fontsize=12, color='black')\r\n",
    "plt.show()\r\n"
   ]
  },
  {
   "cell_type": "markdown",
   "id": "22c4d999",
   "metadata": {},
   "source": [
    "10.Write a Pandas program to create a stacked histograms plot of opening, closing, high, low stock prices of Alphabet Inc. between two specific dates with more bins. "
   ]
  },
  {
   "cell_type": "code",
   "execution_count": null,
   "id": "2df59399",
   "metadata": {},
   "outputs": [],
   "source": [
    "import pandas as pd\r\n",
    "import matplotlib.pyplot as plt\r\n",
    "df = pd.read_csv(\"alphabet_stock_data.csv\")\r\n",
    "start_date = pd.to_datetime('2020-4-1')\r\n",
    "end_date = pd.to_datetime('2020-9-30')                         \r\n",
    "df['Date'] = pd.to_datetime(df['Date']) \r\n",
    "new_df = (df['Date']>= start_date) & (df['Date']<= end_date)\r\n",
    "df1 = df.loc[new_df]\r\n",
    "df2 = df1[['Open','Close','High','Low']]\r\n",
    "plt.figure(figsize=(25,25))\r\n",
    "df2.plot.hist(stacked=True, bins=200)\r\n",
    "plt.suptitle('Opening/Closing/High/Low stock prices of Alphabet Inc.,\\n From 01-04-2020 to 30-09-2020', fontsize=12, color='black')\r\n",
    "plt.show()\r\n"
   ]
  },
  {
   "cell_type": "markdown",
   "id": "4a8aed49",
   "metadata": {},
   "source": [
    "11.Write a Pandas program to create a stacked histograms plot with more bins of opening, closing, high, low stock prices of Alphabet Inc. between two specific dates. "
   ]
  },
  {
   "cell_type": "code",
   "execution_count": null,
   "id": "7106aa01",
   "metadata": {},
   "outputs": [],
   "source": [
    "import pandas as pd\r\n",
    "import matplotlib.pyplot as plt\r\n",
    "df = pd.read_csv(\"alphabet_stock_data.csv\")\r\n",
    "start_date = pd.to_datetime('2020-4-1')\r\n",
    "end_date = pd.to_datetime('2020-9-30')                         \r\n",
    "df['Date'] = pd.to_datetime(df['Date']) \r\n",
    "new_df = (df['Date']>= start_date) & (df['Date']<= end_date)\r\n",
    "df1 = df.loc[new_df]\r\n",
    "df2 = df1[['Open','Close','High','Low']]\r\n",
    "plt.figure(figsize=(30,30))\r\n",
    "df2.hist();\r\n",
    "plt.suptitle('Opening/Closing/High/Low stock prices of Alphabet Inc., From 01-04-2020 to 30-09-2020', fontsize=12, color='black')\r\n",
    "plt.show()\r\n"
   ]
  },
  {
   "cell_type": "markdown",
   "id": "831785d1",
   "metadata": {},
   "source": [
    "12.Write a Pandas program to create a plot of stock price and trading volume of Alphabet Inc. between two specific dates. "
   ]
  },
  {
   "cell_type": "code",
   "execution_count": null,
   "id": "d8e5eea4",
   "metadata": {},
   "outputs": [],
   "source": [
    "import pandas as pd\r\n",
    "import matplotlib.pyplot as plt\r\n",
    "df = pd.read_csv(\"alphabet_stock_data.csv\")\r\n",
    "start_date = pd.to_datetime('2020-4-1')\r\n",
    "end_date = pd.to_datetime('2020-9-30')                         \r\n",
    "df['Date'] = pd.to_datetime(df['Date']) \r\n",
    "new_df = (df['Date']>= start_date) & (df['Date']<= end_date)\r\n",
    "df1 = df.loc[new_df]\r\n",
    "stock_data = df1.set_index('Date')\r\n",
    "top_plt = plt.subplot2grid((5,4), (0, 0), rowspan=3, colspan=4)\r\n",
    "top_plt.plot(stock_data.index, stock_data[\"Close\"])\r\n",
    "plt.title('Historical stock prices of Alphabet Inc. [01-04-2020 to 30-09-2020]')\r\n",
    "bottom_plt = plt.subplot2grid((5,4), (3,0), rowspan=1, colspan=4)\r\n",
    "bottom_plt.bar(stock_data.index, stock_data['Volume'])\r\n",
    "plt.title('\\nAlphabet Inc. Trading Volume', y=-0.60)\r\n",
    "plt.gcf().set_size_inches(12,8)\r\n"
   ]
  },
  {
   "cell_type": "markdown",
   "id": "3093ac36",
   "metadata": {},
   "source": [
    "13.Write a Pandas program to create a plot of Open, High, Low, Close, Adjusted Closing prices and Volume of Alphabet Inc. between two specific dates. "
   ]
  },
  {
   "cell_type": "code",
   "execution_count": null,
   "id": "7be2a11d",
   "metadata": {},
   "outputs": [],
   "source": [
    "import pandas as pd\r\n",
    "import matplotlib.pyplot as plt\r\n",
    "df = pd.read_csv(\"alphabet_stock_data.csv\")\r\n",
    "start_date = pd.to_datetime('2020-4-1')\r\n",
    "end_date = pd.to_datetime('2020-9-30')                         \r\n",
    "df['Date'] = pd.to_datetime(df['Date']) \r\n",
    "new_df = (df['Date']>= start_date) & (df['Date']<= end_date)\r\n",
    "df1 = df.loc[new_df]\r\n",
    "stock_data = df1.set_index('Date')\r\n",
    "stock_data.plot(subplots = True, figsize = (8, 8));\r\n",
    "plt.legend(loc = 'best')\r\n",
    "plt.suptitle('Open,High,Low,Close,Adj Close prices & Volume of Alphabet Inc., From 01-04-2020 to 30-09-2020', fontsize=12, color='black')\r\n",
    "plt.show()\r\n"
   ]
  },
  {
   "cell_type": "markdown",
   "id": "ba688540",
   "metadata": {},
   "source": [
    "14.Write a Pandas program to create a plot of adjusted closing prices, thirty days and forty days simple moving average of Alphabet Inc. between two specific dates. "
   ]
  },
  {
   "cell_type": "code",
   "execution_count": null,
   "id": "545fe475",
   "metadata": {},
   "outputs": [],
   "source": [
    "import pandas as pd\r\n",
    "import matplotlib.pyplot as plt\r\n",
    "df = pd.read_csv(\"alphabet_stock_data.csv\")\r\n",
    "start_date = pd.to_datetime('2020-4-1')\r\n",
    "end_date = pd.to_datetime('2020-9-30')                         \r\n",
    "df['Date'] = pd.to_datetime(df['Date']) \r\n",
    "new_df = (df['Date']>= start_date) & (df['Date']<= end_date)\r\n",
    "df1 = df.loc[new_df]\r\n",
    "stock_data = df1.set_index('Date')\r\n",
    "close_px = stock_data['Adj Close']\r\n",
    "stock_data['SMA_30_days'] = stock_data.iloc[:,4].rolling(window=30).mean() \r\n",
    "stock_data['SMA_40_days'] = stock_data.iloc[:,4].rolling(window=40).mean()\r\n",
    "plt.figure(figsize=[10,8])\r\n",
    "plt.grid(True)\r\n",
    "plt.title('Historical stock prices of Alphabet Inc. [01-04-2020 to 30-09-2020]\\n',fontsize=18, color='black')\r\n",
    "plt.plot(stock_data['Adj Close'],label='Adjusted Closing Price', color='black')\r\n",
    "plt.plot(stock_data['SMA_30_days'],label='30 days simple moving average', color='red')\r\n",
    "plt.plot(stock_data['SMA_40_days'],label='40 days simple moving average', color='green')\r\n",
    "plt.legend(loc=2)\r\n",
    "plt.show()\r\n"
   ]
  },
  {
   "cell_type": "markdown",
   "id": "eb8530fd",
   "metadata": {},
   "source": [
    "15.Write a Pandas program to create a plot of adjusted closing prices, 30 days simple moving average and exponential moving average of Alphabet Inc. between two specific dates. "
   ]
  },
  {
   "cell_type": "code",
   "execution_count": null,
   "id": "b5d0a7e0",
   "metadata": {},
   "outputs": [],
   "source": [
    "import pandas as pd\r\n",
    "import matplotlib.pyplot as plt\r\n",
    "df = pd.read_csv(\"alphabet_stock_data.csv\")\r\n",
    "start_date = pd.to_datetime('2020-4-1')\r\n",
    "end_date = pd.to_datetime('2020-9-30')                         \r\n",
    "df['Date'] = pd.to_datetime(df['Date']) \r\n",
    "new_df = (df['Date']>= start_date) & (df['Date']<= end_date)\r\n",
    "df1 = df.loc[new_df]\r\n",
    "stock_data = df1.set_index('Date')\r\n",
    "close_px = stock_data['Adj Close']\r\n",
    "stock_data['SMA_30_days'] = stock_data.iloc[:,4].rolling(window=30).mean() \r\n",
    "stock_data['EMA_20_days'] = stock_data.iloc[:,4].ewm(span=20,adjust=False).mean()\r\n",
    "plt.figure(figsize=[15,10])\r\n",
    "plt.grid(True)\r\n",
    "plt.title('Historical stock prices of Alphabet Inc. [01-04-2020 to 30-09-2020]\\n',fontsize=18, color='black')\r\n",
    "plt.plot(stock_data['Adj Close'],label='Adjusted Closing Price', color='black')\r\n",
    "plt.plot(stock_data['SMA_30_days'],label='30 days Simple moving average', color='red')\r\n",
    "plt.plot(stock_data['EMA_20_days'],label='20 days Exponential moving average', color='green')\r\n",
    "plt.legend(loc=2)\r\n",
    "plt.show()\r\n"
   ]
  },
  {
   "cell_type": "markdown",
   "id": "78f2f692",
   "metadata": {},
   "source": [
    "16.Write a Pandas program to create a scatter plot of the trading volume/stock prices of Alphabet Inc. stock between two specific dates. "
   ]
  },
  {
   "cell_type": "code",
   "execution_count": null,
   "id": "74560fe1",
   "metadata": {},
   "outputs": [],
   "source": [
    "import pandas as pd\r\n",
    "import matplotlib.pyplot as plt\r\n",
    "df = pd.read_csv(\"alphabet_stock_data.csv\")\r\n",
    "start_date = pd.to_datetime('2020-4-1')\r\n",
    "end_date = pd.to_datetime('2020-9-30')                         \r\n",
    "df['Date'] = pd.to_datetime(df['Date']) \r\n",
    "new_df = (df['Date']>= start_date) & (df['Date']<= end_date)\r\n",
    "df1 = df.loc[new_df]\r\n",
    "df2 = df1.set_index('Date')\r\n",
    "x= ['Close']; y = ['Volume']\r\n",
    "plt.figure(figsize=[15,10])\r\n",
    "df2.plot.scatter(x, y, s=50);\r\n",
    "plt.grid(True)\r\n",
    "plt.title('Trading Volume/Price of Alphabet Inc. stock,\\n01-04-2020 to 30-09-2020', fontsize=14, color='black')\r\n",
    "plt.xlabel(\"Stock Price\",fontsize=12, color='black')\r\n",
    "plt.ylabel(\"Trading Volume\", fontsize=12, color='black') \r\n",
    "plt.show()\r\n"
   ]
  },
  {
   "cell_type": "markdown",
   "id": "6cb91937",
   "metadata": {},
   "source": [
    "17.Write a Pandas program to create a plot to visualize daily percentage returns of Alphabet Inc. stock price between two specific dates. "
   ]
  },
  {
   "cell_type": "code",
   "execution_count": null,
   "id": "152a98f2",
   "metadata": {},
   "outputs": [],
   "source": [
    "import pandas as pd\r\n",
    "import matplotlib.pyplot as plt\r\n",
    "df = pd.read_csv(\"alphabet_stock_data.csv\")\r\n",
    "start_date = pd.to_datetime('2020-4-1')\r\n",
    "end_date = pd.to_datetime('2020-9-30')                         \r\n",
    "df['Date'] = pd.to_datetime(df['Date']) \r\n",
    "new_df = (df['Date']>= start_date) & (df['Date']<= end_date)\r\n",
    "df1 = df.loc[new_df]\r\n",
    "df2 = df1[['Date', 'Adj Close']]\r\n",
    "df3 = df2.set_index('Date')\r\n",
    "daily_changes = df3.pct_change(periods=1)\r\n",
    "daily_changes['Adj Close'].plot(figsize=(10,7),legend=True,linestyle='--',marker='o')\r\n",
    "plt.suptitle('Daily % return of Alphabet Inc. stock price,\\n01-04-2020 to 30-09-2020', fontsize=12, color='black')\r\n",
    "plt.grid(True)\r\n",
    "plt.show() \r\n"
   ]
  },
  {
   "cell_type": "markdown",
   "id": "3dc948d2",
   "metadata": {},
   "source": [
    "18.Write a Pandas program to plot the volatility over a period of time of Alphabet Inc. stock price between two specific dates. "
   ]
  },
  {
   "cell_type": "code",
   "execution_count": null,
   "id": "ff1651cd",
   "metadata": {},
   "outputs": [],
   "source": [
    "import pandas as pd\r\n",
    "import matplotlib.pyplot as plt\r\n",
    "df = pd.read_csv(\"alphabet_stock_data.csv\")\r\n",
    "start_date = pd.to_datetime('2020-4-1')\r\n",
    "end_date = pd.to_datetime('2020-9-30')                         \r\n",
    "df['Date'] = pd.to_datetime(df['Date']) \r\n",
    "new_df = (df['Date']>= start_date) & (df['Date']<= end_date)\r\n",
    "df1 = df.loc[new_df]\r\n",
    "df2 = df1[['Date', 'Close']]\r\n",
    "df3 = df2.set_index('Date')\r\n",
    "data_filled = df3.asfreq('D', method='ffill')\r\n",
    "data_returns = data_filled.pct_change()\r\n",
    "data_std = data_returns.rolling(window=30, min_periods=30).std()\r\n",
    "plt.figure(figsize=(20,20))\r\n",
    "data_std.plot();\r\n",
    "plt.suptitle('Volatility over a period of time  of Alphabet Inc. stock price,\\n01-04-2020 to 30-09-2020', fontsize=12, color='black')\r\n",
    "plt.grid(True)\r\n",
    "plt.show() \r\n"
   ]
  },
  {
   "cell_type": "markdown",
   "id": "bdd01c57",
   "metadata": {},
   "source": [
    "19.Write a Pandas program to create a histogram to visualize daily return distribution of Alphabet Inc. stock price between two specific dates. "
   ]
  },
  {
   "cell_type": "code",
   "execution_count": null,
   "id": "7788c994",
   "metadata": {},
   "outputs": [],
   "source": [
    "import pandas as pd\r\n",
    "import matplotlib.pyplot as plt\r\n",
    "import seaborn as sns\r\n",
    "df = pd.read_csv(\"alphabet_stock_data.csv\")\r\n",
    "start_date = pd.to_datetime('2020-4-1')\r\n",
    "end_date = pd.to_datetime('2020-9-30')                         \r\n",
    "df['Date'] = pd.to_datetime(df['Date']) \r\n",
    "new_df = (df['Date']>= start_date) & (df['Date']<= end_date)\r\n",
    "df1 = df.loc[new_df]\r\n",
    "df2 = df1[['Date', 'Adj Close']]\r\n",
    "df3 = df2.set_index('Date')\r\n",
    "daily_changes = df3.pct_change(periods=1)\r\n",
    "sns.distplot(daily_changes['Adj Close'].dropna(),bins=100,color='purple')\r\n",
    "plt.suptitle('Daily % return of Alphabet Inc. stock price,\\n01-04-2020 to 30-09-2020', fontsize=12, color='black')\r\n",
    "plt.grid(True)\r\n",
    "plt.show()\r\n"
   ]
  }
 ],
 "metadata": {},
 "nbformat": 4,
 "nbformat_minor": 5
}
