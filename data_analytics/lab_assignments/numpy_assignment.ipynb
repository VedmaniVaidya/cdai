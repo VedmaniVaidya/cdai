{
 "cells": [
  {
   "cell_type": "code",
   "execution_count": 2,
   "metadata": {},
   "outputs": [
    {
     "name": "stdout",
     "output_type": "stream",
     "text": [
      "1.25.2\n",
      "openblas64__info:\n",
      "    libraries = ['openblas64_', 'openblas64_']\n",
      "    library_dirs = ['/usr/local/lib']\n",
      "    language = c\n",
      "    define_macros = [('HAVE_CBLAS', None), ('BLAS_SYMBOL_SUFFIX', '64_'), ('HAVE_BLAS_ILP64', None)]\n",
      "    runtime_library_dirs = ['/usr/local/lib']\n",
      "blas_ilp64_opt_info:\n",
      "    libraries = ['openblas64_', 'openblas64_']\n",
      "    library_dirs = ['/usr/local/lib']\n",
      "    language = c\n",
      "    define_macros = [('HAVE_CBLAS', None), ('BLAS_SYMBOL_SUFFIX', '64_'), ('HAVE_BLAS_ILP64', None)]\n",
      "    runtime_library_dirs = ['/usr/local/lib']\n",
      "openblas64__lapack_info:\n",
      "    libraries = ['openblas64_', 'openblas64_']\n",
      "    library_dirs = ['/usr/local/lib']\n",
      "    language = c\n",
      "    define_macros = [('HAVE_CBLAS', None), ('BLAS_SYMBOL_SUFFIX', '64_'), ('HAVE_BLAS_ILP64', None), ('HAVE_LAPACKE', None)]\n",
      "    runtime_library_dirs = ['/usr/local/lib']\n",
      "lapack_ilp64_opt_info:\n",
      "    libraries = ['openblas64_', 'openblas64_']\n",
      "    library_dirs = ['/usr/local/lib']\n",
      "    language = c\n",
      "    define_macros = [('HAVE_CBLAS', None), ('BLAS_SYMBOL_SUFFIX', '64_'), ('HAVE_BLAS_ILP64', None), ('HAVE_LAPACKE', None)]\n",
      "    runtime_library_dirs = ['/usr/local/lib']\n",
      "Supported SIMD extensions in this NumPy install:\n",
      "    baseline = SSE,SSE2,SSE3\n",
      "    found = SSSE3,SSE41,POPCNT,SSE42,AVX,F16C\n",
      "    not found = FMA3,AVX2,AVX512F,AVX512CD,AVX512_KNL,AVX512_KNM,AVX512_SKX,AVX512_CLX,AVX512_CNL,AVX512_ICL\n",
      "None\n"
     ]
    }
   ],
   "source": [
    "#Write a NumPy program to get the numpy version and show numpy build configuration.\n",
    "import numpy as np\n",
    "print(np.__version__)\n",
    "print(np.show_config())"
   ]
  },
  {
   "cell_type": "code",
   "execution_count": 3,
   "metadata": {},
   "outputs": [
    {
     "name": "stdout",
     "output_type": "stream",
     "text": [
      "Help on ufunc:\n",
      "\n",
      "add = <ufunc 'add'>\n",
      "    add(x1, x2, /, out=None, *, where=True, casting='same_kind', order='K', dtype=None, subok=True[, signature, extobj])\n",
      "    \n",
      "    Add arguments element-wise.\n",
      "    \n",
      "    Parameters\n",
      "    ----------\n",
      "    x1, x2 : array_like\n",
      "        The arrays to be added.\n",
      "        If ``x1.shape != x2.shape``, they must be broadcastable to a common\n",
      "        shape (which becomes the shape of the output).\n",
      "    out : ndarray, None, or tuple of ndarray and None, optional\n",
      "        A location into which the result is stored. If provided, it must have\n",
      "        a shape that the inputs broadcast to. If not provided or None,\n",
      "        a freshly-allocated array is returned. A tuple (possible only as a\n",
      "        keyword argument) must have length equal to the number of outputs.\n",
      "    where : array_like, optional\n",
      "        This condition is broadcast over the input. At locations where the\n",
      "        condition is True, the `out` array will be set to the ufunc result.\n",
      "        Elsewhere, the `out` array will retain its original value.\n",
      "        Note that if an uninitialized `out` array is created via the default\n",
      "        ``out=None``, locations within it where the condition is False will\n",
      "        remain uninitialized.\n",
      "    **kwargs\n",
      "        For other keyword-only arguments, see the\n",
      "        :ref:`ufunc docs <ufuncs.kwargs>`.\n",
      "    \n",
      "    Returns\n",
      "    -------\n",
      "    add : ndarray or scalar\n",
      "        The sum of `x1` and `x2`, element-wise.\n",
      "        This is a scalar if both `x1` and `x2` are scalars.\n",
      "    \n",
      "    Notes\n",
      "    -----\n",
      "    Equivalent to `x1` + `x2` in terms of array broadcasting.\n",
      "    \n",
      "    Examples\n",
      "    --------\n",
      "    >>> np.add(1.0, 4.0)\n",
      "    5.0\n",
      "    >>> x1 = np.arange(9.0).reshape((3, 3))\n",
      "    >>> x2 = np.arange(3.0)\n",
      "    >>> np.add(x1, x2)\n",
      "    array([[  0.,   2.,   4.],\n",
      "           [  3.,   5.,   7.],\n",
      "           [  6.,   8.,  10.]])\n",
      "    \n",
      "    The ``+`` operator can be used as a shorthand for ``np.add`` on ndarrays.\n",
      "    \n",
      "    >>> x1 = np.arange(9.0).reshape((3, 3))\n",
      "    >>> x2 = np.arange(3.0)\n",
      "    >>> x1 + x2\n",
      "    array([[ 0.,  2.,  4.],\n",
      "           [ 3.,  5.,  7.],\n",
      "           [ 6.,  8., 10.]])\n",
      "\n",
      "None\n"
     ]
    }
   ],
   "source": [
    "# Write a NumPy program to  get help on the add function. \n",
    "print(help(np.add))"
   ]
  },
  {
   "cell_type": "code",
   "execution_count": 6,
   "metadata": {},
   "outputs": [
    {
     "name": "stdout",
     "output_type": "stream",
     "text": [
      "True\n"
     ]
    }
   ],
   "source": [
    "#Write a NumPy program to test whether none of the elements of a given array is zero.\n",
    "a = np.array([1,2,3,4,5])\n",
    "print(np.all(a != 0))"
   ]
  },
  {
   "cell_type": "code",
   "execution_count": 7,
   "metadata": {},
   "outputs": [
    {
     "name": "stdout",
     "output_type": "stream",
     "text": [
      "True\n"
     ]
    }
   ],
   "source": [
    "# Write a NumPy program to test whether any of the elements of a given array is non-zero.\n",
    "a = np.array([1,2,3,4,5])\n",
    "print(np.any(a != 0))"
   ]
  },
  {
   "cell_type": "code",
   "execution_count": 8,
   "metadata": {},
   "outputs": [
    {
     "name": "stdout",
     "output_type": "stream",
     "text": [
      "[ True  True  True False]\n"
     ]
    }
   ],
   "source": [
    "#Write a NumPy program to test a given array element-wise for finiteness (not infinity or not a Number).\n",
    "a = np.array([1,2,3,np.nan])\n",
    "print(np.isfinite(a))"
   ]
  },
  {
   "cell_type": "code",
   "execution_count": 9,
   "metadata": {},
   "outputs": [
    {
     "name": "stdout",
     "output_type": "stream",
     "text": [
      "[ True False False False False False]\n",
      "[False  True False False False False]\n"
     ]
    }
   ],
   "source": [
    "#Write a NumPy program to test element-wise for positive or negative infinity. \n",
    "arr = np.array([np.inf, -np.inf, 0, 1, -1, np.nan])\n",
    "print(np.isinf(arr) & (arr > 0))\n",
    "print(np.isinf(arr) & (arr < 0))"
   ]
  },
  {
   "cell_type": "code",
   "execution_count": 10,
   "metadata": {},
   "outputs": [
    {
     "name": "stdout",
     "output_type": "stream",
     "text": [
      "[False False False False False  True]\n"
     ]
    }
   ],
   "source": [
    "#Write a NumPy program to test element-wise for NaN of a given array. \n",
    "arr = np.array([np.inf, -np.inf, 0, 1, -1, np.nan])\n",
    "print(np.isnan(arr))"
   ]
  },
  {
   "cell_type": "code",
   "execution_count": 12,
   "metadata": {},
   "outputs": [
    {
     "name": "stdout",
     "output_type": "stream",
     "text": [
      "[ True  True  True]\n",
      "[False False False]\n",
      "True\n"
     ]
    }
   ],
   "source": [
    "#Write a NumPy program to test element-wise for complex number, real number of a given array. Also test whether a given number is a scalar type or not. \n",
    "arr = np.array([1+2j, 3+4j, 5+6j])\n",
    "print(np.iscomplex(arr))\n",
    "print(np.isreal(arr))\n",
    "print(np.isscalar(3.14))"
   ]
  },
  {
   "cell_type": "code",
   "execution_count": 13,
   "metadata": {},
   "outputs": [
    {
     "name": "stdout",
     "output_type": "stream",
     "text": [
      "Greater: [False False False  True  True]\n",
      "Greater or equal: [False False  True  True  True]\n",
      "Less: [ True  True False False False]\n",
      "Less or equal: [ True  True  True False False]\n"
     ]
    }
   ],
   "source": [
    "#Write a NumPy program to create an element-wise comparison (greater, greater_equal, less and less_equal) of two given arrays.\n",
    "arr1 = np.array([1, 2, 3, 4, 5])\n",
    "arr2 = np.array([5, 4, 3, 2, 1])\n",
    "\n",
    "print(\"Greater:\", np.greater(arr1, arr2))\n",
    "print(\"Greater or equal:\", np.greater_equal(arr1, arr2))\n",
    "print(\"Less:\", np.less(arr1, arr2))\n",
    "print(\"Less or equal:\", np.less_equal(arr1, arr2))"
   ]
  },
  {
   "cell_type": "code",
   "execution_count": 17,
   "metadata": {},
   "outputs": [
    {
     "name": "stdout",
     "output_type": "stream",
     "text": [
      "Size of the memory occupied by the array: 32\n"
     ]
    }
   ],
   "source": [
    "#Write a NumPy program to create an array with the values 1, 7, 13, 105 and determine the size of the memory occupied by the array.\n",
    "arr = np.array([1, 7, 13, 105])\n",
    "print(\"Size of the memory occupied by the array:\", arr.size * arr.itemsize)"
   ]
  },
  {
   "cell_type": "code",
   "execution_count": 14,
   "metadata": {},
   "outputs": [
    {
     "name": "stdout",
     "output_type": "stream",
     "text": [
      "[0. 0. 0. 0. 0. 0. 0. 0. 0. 0. 1. 1. 1. 1. 1. 1. 1. 1. 1. 1. 5. 5. 5. 5.\n",
      " 5. 5. 5. 5. 5. 5.]\n"
     ]
    }
   ],
   "source": [
    "#Write a NumPy program to create an array of 10 zeros,10 ones, 10 fives.\n",
    "arr_zeros = np.zeros(10)\n",
    "arr_ones = np.ones(10)\n",
    "arr_fives = np.ones(10) * 5\n",
    "\n",
    "arr = np.concatenate([arr_zeros, arr_ones, arr_fives])\n",
    "print(arr)"
   ]
  },
  {
   "cell_type": "code",
   "execution_count": 16,
   "metadata": {},
   "outputs": [
    {
     "name": "stdout",
     "output_type": "stream",
     "text": [
      "[30 31 32 33 34 35 36 37 38 39 40 41 42 43 44 45 46 47 48 49 50 51 52 53\n",
      " 54 55 56 57 58 59 60 61 62 63 64 65 66 67 68 69 70]\n"
     ]
    }
   ],
   "source": [
    "#Write a NumPy program to create an array of the integers from 30 to70. \n",
    "arr = np.arange(30, 71)\n",
    "print(arr)"
   ]
  },
  {
   "cell_type": "code",
   "execution_count": 18,
   "metadata": {},
   "outputs": [
    {
     "name": "stdout",
     "output_type": "stream",
     "text": [
      "[30 32 34 36 38 40 42 44 46 48 50 52 54 56 58 60 62 64 66 68 70]\n"
     ]
    }
   ],
   "source": [
    "#Write a NumPy program to create an array of all the even integers from 30 to 70.\n",
    "arr = np.arange(30, 71, 2)\n",
    "print(arr)"
   ]
  },
  {
   "cell_type": "code",
   "execution_count": 19,
   "metadata": {},
   "outputs": [
    {
     "name": "stdout",
     "output_type": "stream",
     "text": [
      "[[1. 0. 0.]\n",
      " [0. 1. 0.]\n",
      " [0. 0. 1.]]\n"
     ]
    }
   ],
   "source": [
    "#Write a NumPy program to create a 3x3 identity matrix. \n",
    "arr = np.identity(3)\n",
    "print(arr)"
   ]
  },
  {
   "cell_type": "code",
   "execution_count": 25,
   "metadata": {},
   "outputs": [
    {
     "name": "stdout",
     "output_type": "stream",
     "text": [
      "Random number between 0 and 1: 0.7440358259548621\n"
     ]
    }
   ],
   "source": [
    "#Write a NumPy program to generate a random number between 0 and 1. \n",
    "rand_num = np.random.rand()\n",
    "print(\"Random number between 0 and 1:\", rand_num)"
   ]
  },
  {
   "cell_type": "code",
   "execution_count": 26,
   "metadata": {},
   "outputs": [
    {
     "name": "stdout",
     "output_type": "stream",
     "text": [
      "Array of 15 random numbers from a standard normal distribution: [-0.30396616  0.14358113  1.12543447 -0.39945409  1.1367382  -0.72488528\n",
      " -0.08161533 -1.53236771  0.33276978 -0.80445047  0.5093704  -0.08179266\n",
      "  0.56695915 -1.29843778  1.12127896]\n"
     ]
    }
   ],
   "source": [
    "#Write a NumPy program to generate an array of 15 random numbers from a standard normal distribution\n",
    "arr = np.random.randn(15)\n",
    "print(\"Array of 15 random numbers from a standard normal distribution:\", arr)"
   ]
  },
  {
   "cell_type": "code",
   "execution_count": 27,
   "metadata": {},
   "outputs": [
    {
     "name": "stdout",
     "output_type": "stream",
     "text": [
      "Vector with values ranging from 15 to 55: [16 17 18 19 20 21 22 23 24 25 26 27 28 29 30 31 32 33 34 35 36 37 38 39\n",
      " 40 41 42 43 44 45 46 47 48 49 50 51 52 53 54]\n"
     ]
    }
   ],
   "source": [
    "#Write a NumPy program to create a vector with values ranging from 15 to 55 and print all values except the first and last.  \n",
    "vec = np.arange(15, 56)\n",
    "print(\"Vector with values ranging from 15 to 55:\", vec[1:-1])"
   ]
  },
  {
   "cell_type": "code",
   "execution_count": 29,
   "metadata": {},
   "outputs": [
    {
     "name": "stdout",
     "output_type": "stream",
     "text": [
      "0.9769229540514954 0.18779716667588264 0.8704861023402838 0.004015742887116813 \n",
      "0.1535983870692441 0.2964722583333611 0.7692542129602153 0.6691196104607966 \n",
      "0.37362157539202134 0.5509628010426453 0.02795103119089104 0.3151031245457927 \n"
     ]
    }
   ],
   "source": [
    "#Write a NumPy program to create a 3X4 array using and iterate over it.\n",
    "arr = np.random.random((3, 4))\n",
    "for row in arr:\n",
    "    for col in row:\n",
    "        print(col, end=\" \")\n",
    "    print()"
   ]
  },
  {
   "cell_type": "code",
   "execution_count": 30,
   "metadata": {},
   "outputs": [
    {
     "name": "stdout",
     "output_type": "stream",
     "text": [
      "Vector of length 10 with values evenly distributed between 5 and 50: [ 5. 10. 15. 20. 25. 30. 35. 40. 45. 50.]\n"
     ]
    }
   ],
   "source": [
    "#Write a NumPy program to create a vector of length 10 with values evenly distributed between 5 and 50. \n",
    "vec = np.linspace(5, 50, 10)\n",
    "print(\"Vector of length 10 with values evenly distributed between 5 and 50:\", vec)"
   ]
  },
  {
   "cell_type": "code",
   "execution_count": 31,
   "metadata": {},
   "outputs": [
    {
     "name": "stdout",
     "output_type": "stream",
     "text": [
      "Vector with values from 0 to 20 and sign changed for numbers in the range from 9 to 15: [  0   1   2   3   4   5   6   7   8  -9 -10 -11 -12 -13 -14 -15  16  17\n",
      "  18  19  20]\n"
     ]
    }
   ],
   "source": [
    "#Write a NumPy program to create a vector with values from 0 to 20 and change the sign of the numbers in the range from 9 to 15. \n",
    "vec = np.arange(0, 21)\n",
    "vec[9:16] = -vec[9:16]\n",
    "print(\"Vector with values from 0 to 20 and sign changed for numbers in the range from 9 to 15:\", vec)"
   ]
  },
  {
   "cell_type": "code",
   "execution_count": 32,
   "metadata": {},
   "outputs": [
    {
     "name": "stdout",
     "output_type": "stream",
     "text": [
      "Vector of length 5 filled with arbitrary integers from 0 to 10: [5 5 8 3 1]\n"
     ]
    }
   ],
   "source": [
    "# Write a NumPy program to create a vector of length 5 filled with arbitrary integers from 0 to 10. \n",
    "vec = np.random.randint(0, 11, 5)\n",
    "print(\"Vector of length 5 filled with arbitrary integers from 0 to 10:\", vec)"
   ]
  },
  {
   "cell_type": "code",
   "execution_count": 33,
   "metadata": {},
   "outputs": [
    {
     "name": "stdout",
     "output_type": "stream",
     "text": [
      "Result of multiplying the values of two given vectors: [ 4 10 18]\n"
     ]
    }
   ],
   "source": [
    "#Write a NumPy program to multiply the values of two given vectors.  \n",
    "vec1 = np.array([1, 2, 3])\n",
    "vec2 = np.array([4, 5, 6])\n",
    "\n",
    "result = vec1 * vec2\n",
    "print(\"Result of multiplying the values of two given vectors:\", result)"
   ]
  },
  {
   "cell_type": "code",
   "execution_count": 35,
   "metadata": {},
   "outputs": [
    {
     "name": "stdout",
     "output_type": "stream",
     "text": [
      "3x4 matrix filled with values from 10 to 21:\n",
      " [[10 11 12 13]\n",
      " [14 15 16 17]\n",
      " [18 19 20 21]]\n"
     ]
    }
   ],
   "source": [
    "#Write a NumPy program to create a 3x4 matrix filled with values from 10 to 21.\n",
    "mat = np.arange(10, 22).reshape(3, 4)\n",
    "print(\"3x4 matrix filled with values from 10 to 21:\\n\", mat)"
   ]
  },
  {
   "cell_type": "code",
   "execution_count": 36,
   "metadata": {},
   "outputs": [
    {
     "name": "stdout",
     "output_type": "stream",
     "text": [
      "Number of rows: 4\n",
      "Number of columns: 3\n"
     ]
    }
   ],
   "source": [
    "# Write a NumPy program to find the number of rows and columns of a given matrix.\n",
    "mat = np.array([[1, 2, 3], [4, 5, 6], [7, 8, 9], [10, 11, 12]])\n",
    "\n",
    "rows, cols = mat.shape\n",
    "print(\"Number of rows:\", rows)\n",
    "print(\"Number of columns:\", cols)"
   ]
  },
  {
   "cell_type": "code",
   "execution_count": 38,
   "metadata": {},
   "outputs": [
    {
     "name": "stdout",
     "output_type": "stream",
     "text": [
      "3x3 identity matrix:\n",
      " [[1. 0. 0.]\n",
      " [0. 1. 0.]\n",
      " [0. 0. 1.]]\n"
     ]
    }
   ],
   "source": [
    "#Write a NumPy program to create a 3x3 identity matrix, i.e. diagonal elements are 1, the rest are 0. \n",
    "mat = np.identity(3)\n",
    "print(\"3x3 identity matrix:\\n\", mat)"
   ]
  },
  {
   "cell_type": "code",
   "execution_count": 39,
   "metadata": {},
   "outputs": [
    {
     "name": "stdout",
     "output_type": "stream",
     "text": [
      "10x10 matrix with elements on the borders equal to 1 and inside 0:\n",
      " [[1. 1. 1. 1. 1. 1. 1. 1. 1. 1.]\n",
      " [1. 0. 0. 0. 0. 0. 0. 0. 0. 1.]\n",
      " [1. 0. 0. 0. 0. 0. 0. 0. 0. 1.]\n",
      " [1. 0. 0. 0. 0. 0. 0. 0. 0. 1.]\n",
      " [1. 0. 0. 0. 0. 0. 0. 0. 0. 1.]\n",
      " [1. 0. 0. 0. 0. 0. 0. 0. 0. 1.]\n",
      " [1. 0. 0. 0. 0. 0. 0. 0. 0. 1.]\n",
      " [1. 0. 0. 0. 0. 0. 0. 0. 0. 1.]\n",
      " [1. 0. 0. 0. 0. 0. 0. 0. 0. 1.]\n",
      " [1. 1. 1. 1. 1. 1. 1. 1. 1. 1.]]\n"
     ]
    }
   ],
   "source": [
    "#Write a NumPy program to create a 10x10 matrix, in which the elements on the borders will be equal to 1, and inside 0.\n",
    "mat = np.ones((10, 10))\n",
    "mat[1:-1, 1:-1] = 0\n",
    "print(\"10x10 matrix with elements on the borders equal to 1 and inside 0:\\n\", mat)"
   ]
  },
  {
   "cell_type": "code",
   "execution_count": 40,
   "metadata": {},
   "outputs": [
    {
     "name": "stdout",
     "output_type": "stream",
     "text": [
      "5x5 zero matrix with elements on the main diagonal equal to 1, 2, 3, 4, 5:\n",
      " [[1. 0. 0. 0. 0.]\n",
      " [0. 2. 0. 0. 0.]\n",
      " [0. 0. 3. 0. 0.]\n",
      " [0. 0. 0. 4. 0.]\n",
      " [0. 0. 0. 0. 5.]]\n"
     ]
    }
   ],
   "source": [
    "#Write a NumPy program to create a 5x5 zero matrix with elements on the main diagonal equal to 1, 2, 3, 4, 5.\n",
    "mat = np.zeros((5, 5))\n",
    "np.fill_diagonal(mat, [1, 2, 3, 4, 5])\n",
    "print(\"5x5 zero matrix with elements on the main diagonal equal to 1, 2, 3, 4, 5:\\n\", mat)"
   ]
  },
  {
   "cell_type": "code",
   "execution_count": 41,
   "metadata": {},
   "outputs": [
    {
     "name": "stdout",
     "output_type": "stream",
     "text": [
      "4x4 matrix with 0 and 1 staggered, with zeros on the main diagonal:\n",
      " [[0 1 0 1]\n",
      " [1 0 1 0]\n",
      " [0 1 0 1]\n",
      " [1 0 1 0]]\n"
     ]
    }
   ],
   "source": [
    "#Write a NumPy program to create a 4x4 matrix in which 0 and 1 are staggered, with zeros on the main diagonal.\n",
    "mat = np.zeros((4, 4), dtype=int)\n",
    "mat[::2, 1::2] = 1\n",
    "mat[1::2, ::2] = 1\n",
    "print(\"4x4 matrix with 0 and 1 staggered, with zeros on the main diagonal:\\n\", mat)"
   ]
  },
  {
   "cell_type": "code",
   "execution_count": 42,
   "metadata": {},
   "outputs": [
    {
     "name": "stdout",
     "output_type": "stream",
     "text": [
      "3x3x3 array filled with arbitrary values:\n",
      " [[[0.35690084 0.02315888 0.25882935]\n",
      "  [0.00584998 0.28282712 0.47172812]\n",
      "  [0.36677764 0.03487884 0.41532196]]\n",
      "\n",
      " [[0.15503254 0.38352732 0.06888263]\n",
      "  [0.68350731 0.35781078 0.53032237]\n",
      "  [0.05233004 0.91772186 0.84393309]]\n",
      "\n",
      " [[0.72690506 0.79822265 0.61508863]\n",
      "  [0.85503402 0.22998045 0.7269036 ]\n",
      "  [0.52666154 0.89167746 0.8271995 ]]]\n"
     ]
    }
   ],
   "source": [
    "#Write a NumPy program to create a 3x3x3 array filled with arbitrary values.\n",
    "arr = np.random.random((3, 3, 3))\n",
    "print(\"3x3x3 array filled with arbitrary values:\\n\", arr)"
   ]
  },
  {
   "cell_type": "code",
   "execution_count": 43,
   "metadata": {},
   "outputs": [
    {
     "name": "stdout",
     "output_type": "stream",
     "text": [
      "Sum of all elements: 45\n",
      "Sum of each column: [12 15 18]\n",
      "Sum of each row: [ 6 15 24]\n"
     ]
    }
   ],
   "source": [
    "#Write a NumPy program to compute sum of all elements, sum of each column and sum of each row of a given array.\n",
    "arr = np.array([[1, 2, 3], [4, 5, 6], [7, 8, 9]])\n",
    "\n",
    "# Sum of all elements\n",
    "print(\"Sum of all elements:\", np.sum(arr))\n",
    "\n",
    "# Sum of each column\n",
    "print(\"Sum of each column:\", np.sum(arr, axis=0))\n",
    "\n",
    "# Sum of each row\n",
    "print(\"Sum of each row:\", np.sum(arr, axis=1))"
   ]
  },
  {
   "cell_type": "code",
   "execution_count": 45,
   "metadata": {},
   "outputs": [
    {
     "name": "stdout",
     "output_type": "stream",
     "text": [
      "Inner product of two given vectors: 32\n"
     ]
    }
   ],
   "source": [
    "#Write a NumPy program to compute the inner product of two given vectors.\n",
    "vec1 = np.array([1, 2, 3])\n",
    "vec2 = np.array([4, 5, 6])\n",
    "prod = np.dot(vec1, vec2)\n",
    "print(\"Inner product of two given vectors:\", prod)"
   ]
  },
  {
   "cell_type": "code",
   "execution_count": 46,
   "metadata": {},
   "outputs": [
    {
     "name": "stdout",
     "output_type": "stream",
     "text": [
      "Result of adding a vector to each row of a given matrix:\n",
      " [[11 13 15]\n",
      " [14 16 18]\n",
      " [17 19 21]]\n"
     ]
    }
   ],
   "source": [
    "#Write a NumPy program to add a vector to each row of a given matrix.\n",
    "mat = np.array([[1, 2, 3], [4, 5, 6], [7, 8, 9]])\n",
    "vec = np.array([10, 11, 12])\n",
    "\n",
    "result = mat + vec\n",
    "print(\"Result of adding a vector to each row of a given matrix:\\n\", result)"
   ]
  },
  {
   "cell_type": "code",
   "execution_count": 48,
   "metadata": {},
   "outputs": [
    {
     "data": {
      "image/png": "[encoded data removed]",
      "text/plain": [
       "<Figure size 640x480 with 1 Axes>"
      ]
     },
     "metadata": {},
     "output_type": "display_data"
    }
   ],
   "source": [
    "#Write a NumPy program to compute the x and y coordinates for points on a sine curve and plot the points using matplotlib.\n",
    "import matplotlib.pyplot as plt\n",
    "# Compute x and y coordinates for points on a sine curve\n",
    "x = np.arange(0, 4 * np.pi, 0.1)\n",
    "y = np.sin(x)\n",
    "\n",
    "# Plot the points using matplotlib\n",
    "plt.plot(x, y)\n",
    "plt.show()"
   ]
  },
  {
   "cell_type": "code",
   "execution_count": 51,
   "metadata": {},
   "outputs": [
    {
     "name": "stdout",
     "output_type": "stream",
     "text": [
      "numpy array: [1. 2. 3.]\n",
      "numpy array converted to native python type: [1.0, 2.0, 3.0]\n",
      "Numpy dtype: <class 'numpy.float64'>\n",
      "Native python type: <class 'float'>\n"
     ]
    }
   ],
   "source": [
    "#Write a NumPy program to convert numpy dtypes to native python types. \n",
    "arr = np.array([1, 2, 3], dtype=np.float64)\n",
    "print(\"numpy array:\", arr)\n",
    "print(\"numpy array converted to native python type:\", arr.tolist())\n",
    "\n",
    "# Convert numpy dtype to native python type\n",
    "native_type = arr[0].tolist()\n",
    "\n",
    "print(\"Numpy dtype:\", type(arr[0]))\n",
    "print(\"Native python type:\", type(native_type))"
   ]
  },
  {
   "cell_type": "code",
   "execution_count": 53,
   "metadata": {},
   "outputs": [
    {
     "name": "stdout",
     "output_type": "stream",
     "text": [
      "Array with missing data: [ 1.  2. nan  4. nan  6.]\n",
      "Missing data: [False False  True False  True False]\n"
     ]
    }
   ],
   "source": [
    "#Write a NumPy program to find the missing data in a given array. \n",
    "arr = np.array([1, 2, np.nan, 4, np.nan, 6])\n",
    "missing_data = np.isnan(arr)\n",
    "print(\"Array with missing data:\", arr)\n",
    "print(\"Missing data:\", missing_data)"
   ]
  },
  {
   "cell_type": "code",
   "execution_count": 54,
   "metadata": {},
   "outputs": [
    {
     "name": "stdout",
     "output_type": "stream",
     "text": [
      "Original array:\n",
      " [[4 6]\n",
      " [2 1]]\n",
      "Array sorted by row:\n",
      " [[2 1]\n",
      " [4 6]]\n",
      "Array sorted by column:\n",
      " [[4 6]\n",
      " [1 2]]\n"
     ]
    }
   ],
   "source": [
    "#Write a NumPy program to sort a given array by row and column in ascending order. \n",
    "arr = np.array([[4, 6], [2, 1]])\n",
    "print(\"Original array:\\n\", arr)\n",
    "print(\"Array sorted by row:\\n\", np.sort(arr, axis=0))\n",
    "print(\"Array sorted by column:\\n\", np.sort(arr, axis=1))"
   ]
  },
  {
   "cell_type": "code",
   "execution_count": 56,
   "metadata": {},
   "outputs": [
    {
     "name": "stdout",
     "output_type": "stream",
     "text": [
      "Array: [1 2 3 4 5 6 7 8 9]\n",
      "Numbers less and greater than 5 : [1 2 3 4 6 7 8 9]\n"
     ]
    }
   ],
   "source": [
    "#Write a NumPy program to extract all numbers from a given array which are less and greater than a specified number.\n",
    "arr = np.array([1, 2, 3, 4, 5, 6, 7, 8, 9])\n",
    "specified_num = 5\n",
    "result = arr[(arr < specified_num) | (arr > specified_num)]\n",
    "print(\"Array:\", arr)\n",
    "print(\"Numbers less and greater than\", specified_num, \":\", result)"
   ]
  },
  {
   "cell_type": "code",
   "execution_count": 61,
   "metadata": {},
   "outputs": [
    {
     "name": "stdout",
     "output_type": "stream",
     "text": [
      "Array after replacement: [-1 -1 -1 -1  0  1  1  1  1  0 -1]\n"
     ]
    }
   ],
   "source": [
    "#Write a NumPy program to replace all numbers in a given array which is equal, less and greater to a given number.\n",
    "arr = np.array([1, 2, 3, 4, 5, 6, 7, 8, 9, 5, 1])\n",
    "specified_num = 5\n",
    "# Replace all numbers in the array which are equal, less and greater than the specified number\n",
    "arr[arr < specified_num] = -1\n",
    "arr[arr > specified_num] = 1\n",
    "arr[arr == specified_num] = 0\n",
    "\n",
    "print(\"Array after replacement:\", arr)"
   ]
  },
  {
   "cell_type": "code",
   "execution_count": 64,
   "metadata": {},
   "outputs": [
    {
     "name": "stdout",
     "output_type": "stream",
     "text": [
      "Original array: [1 2 3 4 5] int64\n",
      "New array of equal shape and data type: [0 0 0 0 0] int64\n"
     ]
    }
   ],
   "source": [
    "#Write a NumPy program to create an array of equal shape and data type of a given array. \n",
    "arr = np.array([1, 2, 3, 4, 5])\n",
    "new_arr = np.zeros_like(arr)\n",
    "print(\"Original array:\", arr, arr.dtype)\n",
    "print(\"New array of equal shape and data type:\", new_arr, new_arr.dtype)"
   ]
  },
  {
   "cell_type": "code",
   "execution_count": 66,
   "metadata": {},
   "outputs": [
    {
     "name": "stdout",
     "output_type": "stream",
     "text": [
      "Three-dimension array with shape (3,5,4):\n",
      " [[[0. 0. 0. 0.]\n",
      "  [0. 0. 0. 0.]\n",
      "  [0. 0. 0. 0.]\n",
      "  [0. 0. 0. 0.]\n",
      "  [0. 0. 0. 0.]]\n",
      "\n",
      " [[0. 0. 0. 0.]\n",
      "  [0. 0. 0. 0.]\n",
      "  [0. 0. 0. 0.]\n",
      "  [0. 0. 0. 0.]\n",
      "  [0. 0. 0. 0.]]\n",
      "\n",
      " [[0. 0. 0. 0.]\n",
      "  [0. 0. 0. 0.]\n",
      "  [0. 0. 0. 0.]\n",
      "  [0. 0. 0. 0.]\n",
      "  [0. 0. 0. 0.]]]\n"
     ]
    }
   ],
   "source": [
    "#Vedmani: Write a NumPy program to create a three-dimension array with shape (3,5,4) and set to a variable. \n",
    "arr = np.zeros((3, 5, 4))\n",
    "print(\"Three-dimension array with shape (3,5,4):\\n\", arr)"
   ]
  },
  {
   "cell_type": "code",
   "execution_count": 69,
   "metadata": {},
   "outputs": [
    {
     "name": "stdout",
     "output_type": "stream",
     "text": [
      "Array 1:\n",
      " [2 1 3 0 8]\n",
      "Array 2:\n",
      " [5 1 0 4 4]\n",
      "Result of multiplying the two arrays element-by-element:\n",
      " [10  1  0  0 32]\n"
     ]
    }
   ],
   "source": [
    "# Write a NumPy program to multiply two given arrays of same size element-by-element. \n",
    "arr1 = np.random.randint(0, 10, 5)\n",
    "arr2 = np.random.randint(0, 10, 5)\n",
    "result = arr1 * arr2\n",
    "\n",
    "print(\"Array 1:\\n\", arr1)\n",
    "print(\"Array 2:\\n\", arr2)\n",
    "print(\"Result of multiplying the two arrays element-by-element:\\n\", result)"
   ]
  },
  {
   "cell_type": "markdown",
   "metadata": {},
   "source": [
    "---"
   ]
  }
 ],
 "metadata": {
  "kernelspec": {
   "display_name": "pytorch",
   "language": "python",
   "name": "python3"
  },
  "language_info": {
   "codemirror_mode": {
    "name": "ipython",
    "version": 3
   },
   "file_extension": ".py",
   "mimetype": "text/x-python",
   "name": "python",
   "nbconvert_exporter": "python",
   "pygments_lexer": "ipython3",
   "version": "3.11.4"
  }
 },
 "nbformat": 4,
 "nbformat_minor": 2
}
