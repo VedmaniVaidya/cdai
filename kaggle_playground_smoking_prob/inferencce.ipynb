{
 "cells": [
  {
   "cell_type": "code",
   "execution_count": 23,
   "metadata": {},
   "outputs": [],
   "source": [
    "from data_utils import get_data_loaders, prepare_train, get_cv_data_loaders, prepare_test\n",
    "from engine import training_step, validation_step\n",
    "from utils import print_trainable_parameters\n",
    "from model import ClsModel1, save_model, load_model\n",
    "\n",
    "import pandas as pd\n",
    "import torch\n",
    "from torch import nn"
   ]
  },
  {
   "cell_type": "code",
   "execution_count": 24,
   "metadata": {},
   "outputs": [
    {
     "name": "stdout",
     "output_type": "stream",
     "text": [
      "trainable params: 103,301 || all params: 103,301 || trainable%: 100.0\n"
     ]
    }
   ],
   "source": [
    "device = 'cuda' if torch.cuda.is_available() else 'cpu'\n",
    "torch.manual_seed(0)\n",
    "model  = ClsModel1(input_size=21, hidden_size=100,num_classes=1)\n",
    "optimizer = torch.optim.Adam(model.parameters(), lr=0.0001)"
   ]
  },
  {
   "cell_type": "code",
   "execution_count": 25,
   "metadata": {},
   "outputs": [],
   "source": [
    "df=pd.read_csv(\"data/train.csv\", index_col='id')\n",
    "X_train, y_train, scaler = prepare_train(df)\n",
    "test = pd.read_csv(\"data/test.csv\", index_col='id')\n",
    "test = prepare_test(test, scaler)"
   ]
  },
  {
   "cell_type": "code",
   "execution_count": 26,
   "metadata": {},
   "outputs": [],
   "source": [
    "import os\n",
    "\n",
    "def predict_with_models(test, directory ,model, optimizer):\n",
    "    predictions = {}\n",
    "    model_files = [f for f in os.listdir(directory) if f.endswith('.pt')]\n",
    "    model_files.sort()\n",
    "    for model_file in model_files:\n",
    "        model_name = os.path.splitext(model_file)[0]\n",
    "        model, optimizer, epoch, loss, scheduler  = load_model(model,optimizer, os.path.join(directory, model_file))\n",
    "        model = model.to(device)\n",
    "        with torch.inference_mode():\n",
    "            preds = model(torch.tensor(test,device=device,dtype=torch.float64))\n",
    "            preds = preds.cpu().detach().numpy()\n",
    "        predictions[model_name] = preds.squeeze()\n",
    "    return pd.DataFrame(predictions)"
   ]
  },
  {
   "cell_type": "code",
   "execution_count": 27,
   "metadata": {},
   "outputs": [],
   "source": [
    "# preds_df = predict_with_models(test, 'saved_models', model, optimizer)"
   ]
  },
  {
   "cell_type": "code",
   "execution_count": 28,
   "metadata": {},
   "outputs": [
    {
     "name": "stdout",
     "output_type": "stream",
     "text": [
      "trainable params: 16,901 || all params: 16,901 || trainable%: 100.0\n"
     ]
    },
    {
     "data": {
      "text/plain": [
       "array([[0.61329224],\n",
       "       [0.3278715 ],\n",
       "       [0.2710264 ],\n",
       "       ...,\n",
       "       [0.4497009 ],\n",
       "       [0.0730841 ],\n",
       "       [0.06233596]])"
      ]
     },
     "execution_count": 28,
     "metadata": {},
     "output_type": "execute_result"
    }
   ],
   "source": [
    "from model import ClsModel2\n",
    "device = 'cuda' if torch.cuda.is_available() else 'cpu'\n",
    "torch.manual_seed(0)\n",
    "model  = ClsModel2(input_size=21, hidden_size=50,num_classes=1)\n",
    "optimizer = torch.optim.Adam(model.parameters(), lr=0.0001)\n",
    "model, optimizer, epoch, loss, scheduler  = load_model(model,optimizer, \"model_all_data.pt\")\n",
    "with torch.inference_mode():\n",
    "            preds = model(torch.tensor(test,device=device,dtype=torch.float64))\n",
    "            preds = preds.cpu().detach().numpy()\n",
    "preds"
   ]
  },
  {
   "cell_type": "code",
   "execution_count": 29,
   "metadata": {},
   "outputs": [],
   "source": [
    "submission = pd.read_csv(\"data/sample_submission.csv\", index_col='id')\n",
    "submission['smoking'] = preds\n",
    "submission.to_csv('data/submission.csv')"
   ]
  },
  {
   "cell_type": "code",
   "execution_count": 30,
   "metadata": {},
   "outputs": [
    {
     "data": {
      "text/plain": [
       "smoking    0\n",
       "dtype: int64"
      ]
     },
     "execution_count": 30,
     "metadata": {},
     "output_type": "execute_result"
    }
   ],
   "source": [
    "submission.isna().sum()"
   ]
  },
  {
   "cell_type": "code",
   "execution_count": null,
   "metadata": {},
   "outputs": [],
   "source": []
  }
 ],
 "metadata": {
  "kernelspec": {
   "display_name": "pytorch",
   "language": "python",
   "name": "python3"
  },
  "language_info": {
   "codemirror_mode": {
    "name": "ipython",
    "version": 3
   },
   "file_extension": ".py",
   "mimetype": "text/x-python",
   "name": "python",
   "nbconvert_exporter": "python",
   "pygments_lexer": "ipython3",
   "version": "3.11.5"
  }
 },
 "nbformat": 4,
 "nbformat_minor": 2
}
