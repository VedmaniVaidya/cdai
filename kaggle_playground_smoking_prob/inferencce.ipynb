{
 "cells": [
  {
   "cell_type": "code",
   "execution_count": 8,
   "metadata": {},
   "outputs": [],
   "source": [
    "from data_utils import get_data_loaders, prepare_train, get_cv_data_loaders, prepare_test\n",
    "from engine import training_step, validation_step\n",
    "from utils import print_trainable_parameters\n",
    "from model import ClsModel1, save_model, load_model\n",
    "\n",
    "import pandas as pd\n",
    "import torch\n",
    "from torch import nn"
   ]
  },
  {
   "cell_type": "code",
   "execution_count": 9,
   "metadata": {},
   "outputs": [
    {
     "name": "stdout",
     "output_type": "stream",
     "text": [
      "trainable params: 103,301 || all params: 103,301 || trainable%: 100.0\n"
     ]
    }
   ],
   "source": [
    "device = 'cuda' if torch.cuda.is_available() else 'cpu'\n",
    "torch.manual_seed(0)\n",
    "model  = ClsModel1(input_size=21, hidden_size=100,num_classes=1)\n",
    "optimizer = torch.optim.Adam(model.parameters(), lr=0.0001)"
   ]
  },
  {
   "cell_type": "code",
   "execution_count": 10,
   "metadata": {},
   "outputs": [],
   "source": [
    "df=pd.read_csv(\"data/train.csv\", index_col='id')\n",
    "X_train, y_train, scaler = prepare_train(df)\n",
    "test = pd.read_csv(\"data/test.csv\", index_col='id')\n",
    "test = prepare_test(test, scaler)"
   ]
  },
  {
   "cell_type": "code",
   "execution_count": 11,
   "metadata": {},
   "outputs": [],
   "source": [
    "import os\n",
    "\n",
    "def predict_with_models(test, directory ,model, optimizer):\n",
    "    predictions = {}\n",
    "    model_files = [f for f in os.listdir(directory) if f.endswith('.pt')]\n",
    "    model_files.sort()\n",
    "    for model_file in model_files:\n",
    "        model_name = os.path.splitext(model_file)[0]\n",
    "        model, optimizer, epoch, loss, scheduler  = load_model(model,optimizer, os.path.join(directory, model_file))\n",
    "        model = model.to(device)\n",
    "        with torch.inference_mode():\n",
    "            preds = model(torch.tensor(test,device=device,dtype=torch.float64))\n",
    "            preds = preds.cpu().detach().numpy()\n",
    "        predictions[model_name] = preds.squeeze()\n",
    "    return pd.DataFrame(predictions)"
   ]
  },
  {
   "cell_type": "code",
   "execution_count": null,
   "metadata": {},
   "outputs": [],
   "source": [
    "preds_df = predict_with_models(test, 'saved_models', model, optimizer)"
   ]
  },
  {
   "cell_type": "code",
   "execution_count": null,
   "metadata": {},
   "outputs": [
    {
     "data": {
      "text/html": [
       "<div>\n",
       "<style scoped>\n",
       "    .dataframe tbody tr th:only-of-type {\n",
       "        vertical-align: middle;\n",
       "    }\n",
       "\n",
       "    .dataframe tbody tr th {\n",
       "        vertical-align: top;\n",
       "    }\n",
       "\n",
       "    .dataframe thead th {\n",
       "        text-align: right;\n",
       "    }\n",
       "</style>\n",
       "<table border=\"1\" class=\"dataframe\">\n",
       "  <thead>\n",
       "    <tr style=\"text-align: right;\">\n",
       "      <th></th>\n",
       "      <th>model_0</th>\n",
       "      <th>model_1</th>\n",
       "      <th>model_2</th>\n",
       "      <th>model_3</th>\n",
       "      <th>model_4</th>\n",
       "    </tr>\n",
       "  </thead>\n",
       "  <tbody>\n",
       "    <tr>\n",
       "      <th>0</th>\n",
       "      <td>0.625716</td>\n",
       "      <td>0.629981</td>\n",
       "      <td>0.671341</td>\n",
       "      <td>0.601747</td>\n",
       "      <td>0.633632</td>\n",
       "    </tr>\n",
       "    <tr>\n",
       "      <th>1</th>\n",
       "      <td>0.281486</td>\n",
       "      <td>0.255844</td>\n",
       "      <td>0.313442</td>\n",
       "      <td>0.292592</td>\n",
       "      <td>0.277122</td>\n",
       "    </tr>\n",
       "    <tr>\n",
       "      <th>2</th>\n",
       "      <td>0.378115</td>\n",
       "      <td>0.286368</td>\n",
       "      <td>0.306559</td>\n",
       "      <td>0.379653</td>\n",
       "      <td>0.386118</td>\n",
       "    </tr>\n",
       "    <tr>\n",
       "      <th>3</th>\n",
       "      <td>0.020716</td>\n",
       "      <td>0.021280</td>\n",
       "      <td>0.020792</td>\n",
       "      <td>0.017670</td>\n",
       "      <td>0.016126</td>\n",
       "    </tr>\n",
       "    <tr>\n",
       "      <th>4</th>\n",
       "      <td>0.647994</td>\n",
       "      <td>0.620876</td>\n",
       "      <td>0.645687</td>\n",
       "      <td>0.649672</td>\n",
       "      <td>0.654906</td>\n",
       "    </tr>\n",
       "    <tr>\n",
       "      <th>...</th>\n",
       "      <td>...</td>\n",
       "      <td>...</td>\n",
       "      <td>...</td>\n",
       "      <td>...</td>\n",
       "      <td>...</td>\n",
       "    </tr>\n",
       "    <tr>\n",
       "      <th>106166</th>\n",
       "      <td>0.574141</td>\n",
       "      <td>0.592322</td>\n",
       "      <td>0.573035</td>\n",
       "      <td>0.502824</td>\n",
       "      <td>0.590881</td>\n",
       "    </tr>\n",
       "    <tr>\n",
       "      <th>106167</th>\n",
       "      <td>0.705952</td>\n",
       "      <td>0.706302</td>\n",
       "      <td>0.727500</td>\n",
       "      <td>0.719100</td>\n",
       "      <td>0.702863</td>\n",
       "    </tr>\n",
       "    <tr>\n",
       "      <th>106168</th>\n",
       "      <td>0.408289</td>\n",
       "      <td>0.325725</td>\n",
       "      <td>0.411207</td>\n",
       "      <td>0.406743</td>\n",
       "      <td>0.335154</td>\n",
       "    </tr>\n",
       "    <tr>\n",
       "      <th>106169</th>\n",
       "      <td>0.064741</td>\n",
       "      <td>0.076330</td>\n",
       "      <td>0.091181</td>\n",
       "      <td>0.057667</td>\n",
       "      <td>0.054771</td>\n",
       "    </tr>\n",
       "    <tr>\n",
       "      <th>106170</th>\n",
       "      <td>0.057701</td>\n",
       "      <td>0.029366</td>\n",
       "      <td>0.073757</td>\n",
       "      <td>0.072862</td>\n",
       "      <td>0.067455</td>\n",
       "    </tr>\n",
       "  </tbody>\n",
       "</table>\n",
       "<p>106171 rows × 5 columns</p>\n",
       "</div>"
      ],
      "text/plain": [
       "         model_0   model_1   model_2   model_3   model_4\n",
       "0       0.625716  0.629981  0.671341  0.601747  0.633632\n",
       "1       0.281486  0.255844  0.313442  0.292592  0.277122\n",
       "2       0.378115  0.286368  0.306559  0.379653  0.386118\n",
       "3       0.020716  0.021280  0.020792  0.017670  0.016126\n",
       "4       0.647994  0.620876  0.645687  0.649672  0.654906\n",
       "...          ...       ...       ...       ...       ...\n",
       "106166  0.574141  0.592322  0.573035  0.502824  0.590881\n",
       "106167  0.705952  0.706302  0.727500  0.719100  0.702863\n",
       "106168  0.408289  0.325725  0.411207  0.406743  0.335154\n",
       "106169  0.064741  0.076330  0.091181  0.057667  0.054771\n",
       "106170  0.057701  0.029366  0.073757  0.072862  0.067455\n",
       "\n",
       "[106171 rows x 5 columns]"
      ]
     },
     "execution_count": 7,
     "metadata": {},
     "output_type": "execute_result"
    }
   ],
   "source": [
    "preds_df"
   ]
  },
  {
   "cell_type": "code",
   "execution_count": 13,
   "metadata": {},
   "outputs": [
    {
     "name": "stdout",
     "output_type": "stream",
     "text": [
      "trainable params: 16,901 || all params: 16,901 || trainable%: 100.0\n"
     ]
    },
    {
     "data": {
      "text/plain": [
       "array([[0.5694776 ],\n",
       "       [0.5843513 ],\n",
       "       [0.69464756],\n",
       "       ...,\n",
       "       [0.40443002],\n",
       "       [0.34022056],\n",
       "       [0.43700609]])"
      ]
     },
     "execution_count": 13,
     "metadata": {},
     "output_type": "execute_result"
    }
   ],
   "source": [
    "from model import ClsModel2\n",
    "device = 'cuda' if torch.cuda.is_available() else 'cpu'\n",
    "torch.manual_seed(0)\n",
    "model  = ClsModel2(input_size=21, hidden_size=50,num_classes=1)\n",
    "optimizer = torch.optim.Adam(model.parameters(), lr=0.0001)\n",
    "with torch.inference_mode():\n",
    "            preds = model(torch.tensor(test,device=device,dtype=torch.float64))\n",
    "            preds = preds.cpu().detach().numpy()\n",
    "preds"
   ]
  },
  {
   "cell_type": "code",
   "execution_count": 15,
   "metadata": {},
   "outputs": [],
   "source": [
    "submission = pd.read_csv(\"data/sample_submission.csv\", index_col='id')\n",
    "submission['smoking'] = preds\n",
    "submission.to_csv('data/submission.csv')"
   ]
  },
  {
   "cell_type": "code",
   "execution_count": 16,
   "metadata": {},
   "outputs": [
    {
     "data": {
      "text/plain": [
       "smoking    0\n",
       "dtype: int64"
      ]
     },
     "execution_count": 16,
     "metadata": {},
     "output_type": "execute_result"
    }
   ],
   "source": [
    "submission.isna().sum()"
   ]
  },
  {
   "cell_type": "code",
   "execution_count": null,
   "metadata": {},
   "outputs": [],
   "source": []
  }
 ],
 "metadata": {
  "kernelspec": {
   "display_name": "pytorch",
   "language": "python",
   "name": "python3"
  },
  "language_info": {
   "codemirror_mode": {
    "name": "ipython",
    "version": 3
   },
   "file_extension": ".py",
   "mimetype": "text/x-python",
   "name": "python",
   "nbconvert_exporter": "python",
   "pygments_lexer": "ipython3",
   "version": "3.11.5"
  }
 },
 "nbformat": 4,
 "nbformat_minor": 2
}
