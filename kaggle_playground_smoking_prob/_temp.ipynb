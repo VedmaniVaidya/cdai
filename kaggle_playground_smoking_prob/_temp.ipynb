{
 "cells": [
  {
   "cell_type": "code",
   "execution_count": 1,
   "metadata": {},
   "outputs": [],
   "source": [
    "from data_utils import get_data_loaders, prepare_train, get_cv_data_loaders\n",
    "from engine import training_step, validation_step\n",
    "from utils import print_trainable_parameters\n",
    "from model import ClsModel, save_model\n",
    "\n",
    "import pandas as pd\n",
    "import torch\n",
    "from torch import nn"
   ]
  },
  {
   "cell_type": "code",
   "execution_count": 2,
   "metadata": {},
   "outputs": [],
   "source": [
    "df=pd.read_csv(\"data/train.csv\", index_col='id')\n",
    "X_train, y_train, scaler = prepare_train(df)"
   ]
  },
  {
   "cell_type": "code",
   "execution_count": 3,
   "metadata": {},
   "outputs": [
    {
     "name": "stdout",
     "output_type": "stream",
     "text": [
      "Fold: 0\n",
      "Train size: 3982\n",
      "Val size: 996\n",
      "\n",
      "Fold: 1\n",
      "Train size: 3982\n",
      "Val size: 996\n",
      "\n",
      "Fold: 2\n",
      "Train size: 3982\n",
      "Val size: 996\n",
      "\n",
      "Fold: 3\n",
      "Train size: 3982\n",
      "Val size: 996\n",
      "\n",
      "Fold: 4\n",
      "Train size: 3982\n",
      "Val size: 996\n",
      "\n"
     ]
    }
   ],
   "source": [
    "for fold, (train_dataloader, val_dataloader) in enumerate(get_cv_data_loaders(X_train, y_train, n_splits=5, batch_size=64)):\n",
    "    print(f\"Fold: {fold}\")\n",
    "    print(f\"Train size: {len(train_dataloader)}\")\n",
    "    print(f\"Val size: {len(val_dataloader)}\")\n",
    "    print()"
   ]
  },
  {
   "cell_type": "code",
   "execution_count": 4,
   "metadata": {},
   "outputs": [
    {
     "name": "stdout",
     "output_type": "stream",
     "text": [
      "trainable params: 103,301 || all params: 103,301 || trainable%: 100.0\n"
     ]
    }
   ],
   "source": [
    "#instantiating the model\n",
    "device = 'cuda' if torch.cuda.is_available() else 'cpu'\n",
    "torch.manual_seed(0)\n",
    "model  = ClsModel(input_size=21, hidden_size=100,num_classes=1)\n",
    "adam = torch.optim.Adam(model.parameters(), lr=0.001)\n",
    "loss_fn = nn.BCELoss()\n",
    "from torchmetrics import AUROC,Accuracy\n",
    "auroc = AUROC(num_classes=3,task='binary')\n",
    "accuracy = Accuracy(task='binary')\n",
    "train,val = get_data_loaders(X_train, y_train, batch_size=64)"
   ]
  },
  {
   "cell_type": "code",
   "execution_count": null,
   "metadata": {},
   "outputs": [],
   "source": [
    "for i in range(20):\n",
    "    print(f\"Epoch: {i}\")\n",
    "    average_loss, model, optimizer, scheduler = training_step(model, train_dataloader, loss_fn, adam, device)\n",
    "    print(f\"Average loss: {average_loss}\")\n",
    "    print(validation_step(model, val_dataloader, device, rocauc=auroc, accuracy=accuracy))"
   ]
  }
 ],
 "metadata": {
  "kernelspec": {
   "display_name": "pytorch",
   "language": "python",
   "name": "python3"
  },
  "language_info": {
   "codemirror_mode": {
    "name": "ipython",
    "version": 3
   },
   "file_extension": ".py",
   "mimetype": "text/x-python",
   "name": "python",
   "nbconvert_exporter": "python",
   "pygments_lexer": "ipython3",
   "version": "3.11.5"
  }
 },
 "nbformat": 4,
 "nbformat_minor": 2
}
