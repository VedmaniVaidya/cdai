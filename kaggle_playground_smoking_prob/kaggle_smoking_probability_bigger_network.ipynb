{
  "cells": [
    {
      "cell_type": "code",
      "execution_count": 1,
      "metadata": {
        "id": "4BgGP4XVyCR7"
      },
      "outputs": [],
      "source": [
        "# from google.colab import userdata\n",
        "# tok = userdata.get('git_token')"
      ]
    },
    {
      "cell_type": "code",
      "execution_count": 2,
      "metadata": {
        "id": "WXHrGuIyIaA3"
      },
      "outputs": [
        {
          "name": "stderr",
          "output_type": "stream",
          "text": [
            "/home/dai/anaconda3/envs/pytorch/lib/python3.11/site-packages/tqdm/auto.py:21: TqdmWarning: IProgress not found. Please update jupyter and ipywidgets. See https://ipywidgets.readthedocs.io/en/stable/user_install.html\n",
            "  from .autonotebook import tqdm as notebook_tqdm\n"
          ]
        }
      ],
      "source": [
        "# !pip install torchmetrics -Uqq\n",
        "from torchmetrics.classification import BinaryAccuracy"
      ]
    },
    {
      "cell_type": "code",
      "execution_count": 51,
      "metadata": {
        "id": "-F7nB-vR2lkS"
      },
      "outputs": [],
      "source": [
        "import pandas as pd\n",
        "import torch\n",
        "from torch import nn\n",
        "from torch.nn import functional as F\n",
        "import os\n",
        "from sklearn.model_selection import train_test_split\n",
        "from torch.utils.data import DataLoader,Dataset\n",
        "from torch.optim.lr_scheduler import ReduceLROnPlateau"
      ]
    },
    {
      "cell_type": "code",
      "execution_count": 52,
      "metadata": {
        "id": "PXz2hLwM3-Ip"
      },
      "outputs": [],
      "source": [
        "df=pd.read_csv(\"train.csv\")\n",
        "y=df[\"smoking\"]\n",
        "df=df.drop([\"id\", \"smoking\"],axis=1)"
      ]
    },
    {
      "cell_type": "code",
      "execution_count": 53,
      "metadata": {
        "colab": {
          "base_uri": "https://localhost:8080/",
          "height": 35
        },
        "id": "3gknc2sE5jcY",
        "outputId": "ff8a8be3-1bfa-4899-ed4a-e359ff8efd7b"
      },
      "outputs": [
        {
          "data": {
            "text/plain": [
              "'cpu'"
            ]
          },
          "execution_count": 53,
          "metadata": {},
          "output_type": "execute_result"
        }
      ],
      "source": [
        "device = 'cuda' if torch.cuda.is_available() else 'cpu'\n",
        "device"
      ]
    },
    {
      "cell_type": "code",
      "execution_count": 54,
      "metadata": {
        "id": "ictYw1g75riI"
      },
      "outputs": [],
      "source": [
        "import torch.nn as nn\n",
        "\n",
        "class ClsModel(nn.Module):\n",
        "    def __init__(self, input_size, hidden_size, out_size, dropout_rate=0.3):\n",
        "        super().__init__()\n",
        "        self.model = nn.Sequential(\n",
        "          nn.Linear(in_features=input_size, out_features=20, dtype=torch.float64),\n",
        "          nn.ReLU(),\n",
        "          nn.Linear(in_features=20, out_features=20, dtype=torch.float64),\n",
        "          nn.ReLU(),\n",
        "          nn.Linear(in_features=20, out_features=20, dtype=torch.float64),\n",
        "          nn.ReLU(),\n",
        "          nn.Linear(in_features=20, out_features=20, dtype=torch.float64),\n",
        "          nn.ReLU(),\n",
        "          nn.Linear(in_features=20, out_features=20, dtype=torch.float64),\n",
        "          nn.ReLU(),\n",
        "          nn.Linear(in_features=20, out_features=hidden_size, dtype=torch.float64),\n",
        "          nn.ReLU(),\n",
        "          nn.Linear(in_features=hidden_size, out_features=hidden_size, dtype=torch.float64),\n",
        "          nn.ReLU(),\n",
        "          nn.Linear(in_features=hidden_size, out_features=hidden_size, dtype=torch.float64),\n",
        "          nn.ReLU(),\n",
        "          nn.Linear(in_features=hidden_size, out_features=hidden_size, dtype=torch.float64),\n",
        "          nn.ReLU(),\n",
        "          nn.Linear(in_features=hidden_size, out_features=hidden_size, dtype=torch.float64),\n",
        "          nn.ReLU(),\n",
        "          nn.Dropout(0.3),\n",
        "          nn.Linear(in_features=hidden_size, out_features=hidden_size, dtype=torch.float64),\n",
        "          nn.ReLU(),\n",
        "          nn.Dropout(0.5),\n",
        "          nn.Linear(in_features=hidden_size, out_features=out_size, dtype=torch.float64),\n",
        "          nn.Sigmoid()\n",
        "      )\n",
        "\n",
        "    def forward(self, data):\n",
        "        return self.model(data)\n"
      ]
    },
    {
      "cell_type": "code",
      "execution_count": 55,
      "metadata": {},
      "outputs": [],
      "source": [
        "from sklearn.preprocessing import StandardScaler\n",
        "scaler = StandardScaler()\n",
        "df = scaler.fit_transform(df)"
      ]
    },
    {
      "cell_type": "code",
      "execution_count": 56,
      "metadata": {
        "id": "BEfxUKXL5wUp"
      },
      "outputs": [],
      "source": [
        "class CustomDataset(Dataset):\n",
        "    def __init__(self, X, y):\n",
        "        self.X = X\n",
        "        self.y = y\n",
        "\n",
        "    def __len__(self):\n",
        "        return len(self.X)\n",
        "\n",
        "    def __getitem__(self, idx):\n",
        "        x_sample = self.X[idx]\n",
        "        y_sample = self.y.iloc[idx]\n",
        "        return x_sample.astype(\"float64\"), y_sample.astype(\"float64\")"
      ]
    },
    {
      "cell_type": "code",
      "execution_count": 57,
      "metadata": {
        "id": "pMH6q7mp5ycJ"
      },
      "outputs": [],
      "source": [
        "def get_data(X,y):\n",
        "    X_train,X_test,y_train,y_test = train_test_split(X,y,random_state=42,shuffle=True,stratify=y)\n",
        "    train_dataset = CustomDataset(X,y)\n",
        "    val_dataset = CustomDataset(X_test,y_test)\n",
        "    train_loader = DataLoader(train_dataset,batch_size=128,num_workers=os.cpu_count(),pin_memory=True)\n",
        "    val_loader = DataLoader(val_dataset,batch_size=32,num_workers=os.cpu_count(),pin_memory=True)\n",
        "    return train_loader, val_loader"
      ]
    },
    {
      "cell_type": "code",
      "execution_count": 58,
      "metadata": {
        "id": "Zwxlhg5650dY"
      },
      "outputs": [],
      "source": [
        "train_loader, val_loader = get_data(df,y)"
      ]
    },
    {
      "cell_type": "code",
      "execution_count": 59,
      "metadata": {},
      "outputs": [],
      "source": [
        "def save_checkpoint(model, optimizer, epoch, loss, filename, scheduler=None):\n",
        "    path = filename + '.pth'\n",
        "    torch.save({\n",
        "      'epoch': epoch,\n",
        "      'model_state_dict': model.state_dict(),\n",
        "      'optimizer_state_dict': optimizer.state_dict(),\n",
        "      'scheduler_state_dict': scheduler.state_dict(),\n",
        "      'loss': loss,\n",
        "  }, path)\n",
        "\n",
        "def load_checkpoint(model, optimizer, scheduler, filename):\n",
        "    path = filename + '.pth'\n",
        "    checkpoint = torch.load(path)\n",
        "    model.load_state_dict(checkpoint['model_state_dict'])\n",
        "    optimizer.load_state_dict(checkpoint['optimizer_state_dict'])\n",
        "    scheduler.load_state_dict(checkpoint['scheduler_state_dict'])\n",
        "    epoch = checkpoint['epoch']\n",
        "    loss = checkpoint['loss']\n",
        "    return model, optimizer, scheduler, epoch, loss"
      ]
    },
    {
      "cell_type": "code",
      "execution_count": 60,
      "metadata": {
        "id": "8ZyTRmUPA6ME"
      },
      "outputs": [],
      "source": [
        "torch.manual_seed(42)\n",
        "model = ClsModel(22,10,1)\n",
        "model.to(device)\n",
        "# model.compile()\n",
        "loss_fn = nn.BCELoss()\n",
        "adam = torch.optim.Adam(model.parameters(),lr=0.0001)\n",
        "scheduler = ReduceLROnPlateau(adam, 'min')"
      ]
    },
    {
      "cell_type": "code",
      "execution_count": 61,
      "metadata": {},
      "outputs": [],
      "source": [
        "# model , adam, epoch, loss = load_checkpoint(model, adam, 'model')\n",
        "# adam = torch.optim.Adam(model.parameters(),lr=0.01)"
      ]
    },
    {
      "cell_type": "code",
      "execution_count": 65,
      "metadata": {
        "colab": {
          "base_uri": "https://localhost:8080/"
        },
        "id": "oQuAr1_G52X8",
        "outputId": "983612f2-6fa2-49ec-e5b5-71a4cdd85446"
      },
      "outputs": [
        {
          "name": "stdout",
          "output_type": "stream",
          "text": [
            "Epoch: 0\n",
            "batch: 1244\n",
            "0.487310545812079\n",
            "Epoch: 1\n",
            "batch: 1244\n",
            "0.4869515251801622\n",
            "Epoch: 2\n",
            "batch: 1244\n",
            "0.4861162787874692\n",
            "Epoch: 3\n",
            "batch: 1244\n",
            "0.4851529544124094\n",
            "Epoch: 4\n",
            "batch: 1244\n",
            "0.4874720139515642\n",
            "Epoch: 5\n",
            "batch: 1244\n",
            "0.4872738078277307\n",
            "Epoch: 6\n",
            "batch: 1244\n",
            "0.48745212482928424\n",
            "Epoch: 7\n",
            "batch: 1244\n",
            "0.4862407673135677\n",
            "Epoch: 8\n",
            "batch: 1244\n",
            "0.4881104303580053\n",
            "Epoch: 9\n",
            "batch: 1244\n",
            "0.4878195446483235\n",
            "Epoch: 10\n",
            "batch: 1244\n",
            "0.4870770000038138\n",
            "Epoch: 11\n",
            "batch: 1244\n",
            "0.4874381357753385\n",
            "Epoch: 12\n",
            "batch: 1244\n",
            "0.48679982959391155\n",
            "Epoch: 13\n",
            "batch: 1244\n",
            "0.48682101244434944\n",
            "Epoch: 14\n",
            "batch: 1244\n",
            "0.4865833429295426\n",
            "Epoch: 15\n",
            "batch: 1244\n",
            "0.48664480883986627\n",
            "Epoch: 16\n",
            "batch: 1244\n",
            "0.4862553482495386\n",
            "Epoch: 17\n",
            "batch: 1244\n",
            "0.48654061824293526\n",
            "Epoch: 18\n",
            "batch: 1244\n",
            "0.4846041616323142\n",
            "Epoch: 19\n",
            "batch: 1244\n",
            "0.48579555174444944\n",
            "Epoch: 20\n",
            "batch: 1244\n",
            "0.4858317983554645\n",
            "Epoch: 21\n",
            "batch: 1244\n",
            "0.48745469964305366\n",
            "Epoch: 22\n",
            "batch: 1244\n",
            "0.48554665956029014\n",
            "Epoch: 23\n",
            "batch: 1244\n",
            "0.4861227016858274\n",
            "Epoch: 24\n",
            "batch: 1244\n",
            "0.48606423929797565\n",
            "Epoch: 25\n",
            "batch: 1244\n",
            "0.48417569530481813\n",
            "Epoch: 26\n",
            "batch: 1244\n",
            "0.48563897340633316\n",
            "Epoch: 27\n",
            "batch: 1244\n",
            "0.48458175256545605\n",
            "Epoch: 28\n",
            "batch: 1244\n",
            "0.4861252720793157\n",
            "Epoch: 29\n",
            "batch: 1244\n",
            "0.4869994421840143\n",
            "Epoch: 30\n",
            "batch: 1244\n",
            "0.4857751302069453\n",
            "Epoch: 31\n",
            "batch: 1244\n",
            "0.4856121883546166\n",
            "Epoch: 32\n",
            "batch: 1244\n",
            "0.4862419931853684\n",
            "Epoch: 33\n",
            "batch: 1244\n",
            "0.4862233218235438\n",
            "Epoch: 34\n",
            "batch: 1244\n",
            "0.485690337626862\n",
            "Epoch: 35\n",
            "batch: 1244\n",
            "0.48599194632768394\n",
            "Epoch: 36\n",
            "batch: 1244\n",
            "0.4862108369879101\n",
            "Epoch: 37\n",
            "batch: 1244\n",
            "0.4851258060915582\n",
            "Epoch: 38\n",
            "batch: 1244\n",
            "0.48559201056269097\n",
            "Epoch: 39\n",
            "batch: 1244\n",
            "0.4855109226469233\n"
          ]
        }
      ],
      "source": [
        "for i in range(40):\n",
        "    #Training\n",
        "    model.train()\n",
        "    accumulated_loss = 0\n",
        "    print(f\"Epoch: {i}\")\n",
        "    for idx,batch in enumerate(train_loader):\n",
        "        msg = f\"batch: {idx}\"\n",
        "        print('\\r' + msg, end='', flush=True)\n",
        "        X,y = batch\n",
        "        X = X.to(device)\n",
        "        y = y.to(device)\n",
        "        preds = model(X)\n",
        "        loss = loss_fn(preds,y.reshape(-1,1))\n",
        "        adam.zero_grad()\n",
        "        loss.backward()\n",
        "        adam.step()\n",
        "        accumulated_loss += loss.item()\n",
        "    print()\n",
        "    _loss = accumulated_loss/len(train_loader)\n",
        "    scheduler.step(_loss)\n",
        "    print(accumulated_loss/len(train_loader))\n",
        "    save_checkpoint(model, adam, i, accumulated_loss/len(train_loader), 'model')"
      ]
    },
    {
      "cell_type": "code",
      "execution_count": null,
      "metadata": {
        "id": "U7mYUeuN6PdL"
      },
      "outputs": [],
      "source": [
        "# os.cpu_count()"
      ]
    },
    {
      "cell_type": "code",
      "execution_count": null,
      "metadata": {
        "id": "KrEtq5lYC_qE"
      },
      "outputs": [],
      "source": [
        "# df=pd.read_csv(\"/content/train.csv\")\n",
        "# y=df[\"smoking\"]\n",
        "# df=df.drop([\"id\", \"smoking\"],axis=1)\n",
        "# X_train,X_test,y_train,y_test = train_test_split(df,y,random_state=42,shuffle=True,stratify=y)"
      ]
    },
    {
      "cell_type": "code",
      "execution_count": null,
      "metadata": {
        "id": "gdY5XMiFDNcn"
      },
      "outputs": [],
      "source": [
        "# test_X = torch.Tensor(X_test.to_numpy()).to(torch.float64)\n",
        "# test_y = torch.Tensor(y_test.to_numpy()).to(torch.float64)"
      ]
    },
    {
      "cell_type": "code",
      "execution_count": null,
      "metadata": {
        "id": "jtslPeUnEPgd"
      },
      "outputs": [],
      "source": [
        "# metrics = BinaryAccuracy().to(device)"
      ]
    },
    {
      "cell_type": "code",
      "execution_count": null,
      "metadata": {
        "id": "cxIwHxsfCfcW"
      },
      "outputs": [],
      "source": [
        "# with torch.inference_mode():\n",
        "#     preds = model(test_X.to(device))\n",
        "#     acc = metrics(preds,test_y.reshape(-1,1).to(device))\n",
        "#     print(acc)"
      ]
    },
    {
      "cell_type": "code",
      "execution_count": null,
      "metadata": {},
      "outputs": [],
      "source": [
        "save_checkpoint(model,adam,40,0.457, \"model3\")"
      ]
    },
    {
      "cell_type": "code",
      "execution_count": null,
      "metadata": {
        "id": "KDJV86vHIVEQ"
      },
      "outputs": [],
      "source": [
        "test = pd.read_csv(\"test.csv\",index_col=\"id\")\n",
        "test = scaler.transform(test)\n",
        "test = torch.Tensor(test).to(torch.float64)"
      ]
    },
    {
      "cell_type": "code",
      "execution_count": null,
      "metadata": {
        "id": "p7GgdWRdKEdH"
      },
      "outputs": [],
      "source": [
        "# with torch.inference_mode():\n",
        "#     preds = model(test_X.to(device))\n",
        "#     acc = metrics(preds,test_y.reshape(-1,1).to(device))\n",
        "#     print(acc)"
      ]
    },
    {
      "cell_type": "code",
      "execution_count": null,
      "metadata": {
        "id": "Jq4fTpfQKT9C"
      },
      "outputs": [
        {
          "name": "stdout",
          "output_type": "stream",
          "text": [
            "tensor([[0.5624],\n",
            "        [0.4480],\n",
            "        [0.4027],\n",
            "        ...,\n",
            "        [0.5584],\n",
            "        [0.1953],\n",
            "        [0.1139]], dtype=torch.float64)\n"
          ]
        }
      ],
      "source": [
        "with torch.inference_mode():\n",
        "    preds = model(test.to(device))\n",
        "    print(preds)"
      ]
    },
    {
      "cell_type": "code",
      "execution_count": null,
      "metadata": {
        "id": "DDr4RinTKbMo"
      },
      "outputs": [],
      "source": [
        "submission = pd.read_csv(\"sample_submission.csv\", index_col=\"id\")\n",
        "submission['smoking'] = preds.cpu()"
      ]
    },
    {
      "cell_type": "code",
      "execution_count": null,
      "metadata": {
        "id": "OkxoqyCbLlK8"
      },
      "outputs": [],
      "source": [
        "submission.to_csv(\"submission.csv\")"
      ]
    }
  ],
  "metadata": {
    "accelerator": "GPU",
    "colab": {
      "gpuType": "T4",
      "provenance": []
    },
    "kernelspec": {
      "display_name": "Python 3",
      "name": "python3"
    },
    "language_info": {
      "codemirror_mode": {
        "name": "ipython",
        "version": 3
      },
      "file_extension": ".py",
      "mimetype": "text/x-python",
      "name": "python",
      "nbconvert_exporter": "python",
      "pygments_lexer": "ipython3",
      "version": "3.11.5"
    }
  },
  "nbformat": 4,
  "nbformat_minor": 0
}
