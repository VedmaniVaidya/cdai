{
  "cells": [
    {
      "cell_type": "code",
      "execution_count": 15,
      "metadata": {
        "id": "OFBOdS-eYnNv"
      },
      "outputs": [],
      "source": [
        "import pandas as pd\n",
        "from sklearn.model_selection import train_test_split\n",
        "from sklearn.preprocessing import StandardScaler\n",
        "from sklearn.metrics import mean_squared_error, r2_score, median_absolute_error\n",
        "from xgboost import XGBRegressor\n",
        "from sklearn.model_selection import GridSearchCV"
      ]
    },
    {
      "cell_type": "code",
      "execution_count": 16,
      "metadata": {
        "colab": {
          "base_uri": "https://localhost:8080/",
          "height": 226
        },
        "id": "ykBLq20xYpJ0",
        "outputId": "f5f46844-b9ab-4f39-d784-cb39874b6c49"
      },
      "outputs": [
        {
          "data": {
            "text/html": [
              "<div>\n",
              "<style scoped>\n",
              "    .dataframe tbody tr th:only-of-type {\n",
              "        vertical-align: middle;\n",
              "    }\n",
              "\n",
              "    .dataframe tbody tr th {\n",
              "        vertical-align: top;\n",
              "    }\n",
              "\n",
              "    .dataframe thead th {\n",
              "        text-align: right;\n",
              "    }\n",
              "</style>\n",
              "<table border=\"1\" class=\"dataframe\">\n",
              "  <thead>\n",
              "    <tr style=\"text-align: right;\">\n",
              "      <th></th>\n",
              "      <th>id</th>\n",
              "      <th>allelectrons_Total</th>\n",
              "      <th>density_Total</th>\n",
              "      <th>allelectrons_Average</th>\n",
              "      <th>val_e_Average</th>\n",
              "      <th>atomicweight_Average</th>\n",
              "      <th>ionenergy_Average</th>\n",
              "      <th>el_neg_chi_Average</th>\n",
              "      <th>R_vdw_element_Average</th>\n",
              "      <th>R_cov_element_Average</th>\n",
              "      <th>zaratio_Average</th>\n",
              "      <th>density_Average</th>\n",
              "      <th>Hardness</th>\n",
              "    </tr>\n",
              "  </thead>\n",
              "  <tbody>\n",
              "    <tr>\n",
              "      <th>0</th>\n",
              "      <td>0</td>\n",
              "      <td>100.0</td>\n",
              "      <td>0.841611</td>\n",
              "      <td>10.0</td>\n",
              "      <td>4.8</td>\n",
              "      <td>20.612526</td>\n",
              "      <td>11.08810</td>\n",
              "      <td>2.766</td>\n",
              "      <td>1.732</td>\n",
              "      <td>0.860</td>\n",
              "      <td>0.496070</td>\n",
              "      <td>0.91457</td>\n",
              "      <td>6.0</td>\n",
              "    </tr>\n",
              "    <tr>\n",
              "      <th>1</th>\n",
              "      <td>1</td>\n",
              "      <td>100.0</td>\n",
              "      <td>7.558488</td>\n",
              "      <td>10.0</td>\n",
              "      <td>4.8</td>\n",
              "      <td>20.298893</td>\n",
              "      <td>12.04083</td>\n",
              "      <td>2.755</td>\n",
              "      <td>1.631</td>\n",
              "      <td>0.910</td>\n",
              "      <td>0.492719</td>\n",
              "      <td>0.71760</td>\n",
              "      <td>6.5</td>\n",
              "    </tr>\n",
              "    <tr>\n",
              "      <th>2</th>\n",
              "      <td>2</td>\n",
              "      <td>76.0</td>\n",
              "      <td>8.885992</td>\n",
              "      <td>15.6</td>\n",
              "      <td>5.6</td>\n",
              "      <td>33.739258</td>\n",
              "      <td>12.08630</td>\n",
              "      <td>2.828</td>\n",
              "      <td>1.788</td>\n",
              "      <td>0.864</td>\n",
              "      <td>0.481478</td>\n",
              "      <td>1.50633</td>\n",
              "      <td>2.5</td>\n",
              "    </tr>\n",
              "    <tr>\n",
              "      <th>3</th>\n",
              "      <td>3</td>\n",
              "      <td>100.0</td>\n",
              "      <td>8.795296</td>\n",
              "      <td>10.0</td>\n",
              "      <td>4.8</td>\n",
              "      <td>20.213349</td>\n",
              "      <td>10.94850</td>\n",
              "      <td>2.648</td>\n",
              "      <td>1.626</td>\n",
              "      <td>0.936</td>\n",
              "      <td>0.489272</td>\n",
              "      <td>0.78937</td>\n",
              "      <td>6.0</td>\n",
              "    </tr>\n",
              "    <tr>\n",
              "      <th>4</th>\n",
              "      <td>4</td>\n",
              "      <td>116.0</td>\n",
              "      <td>9.577996</td>\n",
              "      <td>11.6</td>\n",
              "      <td>4.8</td>\n",
              "      <td>24.988133</td>\n",
              "      <td>11.82448</td>\n",
              "      <td>2.766</td>\n",
              "      <td>1.682</td>\n",
              "      <td>0.896</td>\n",
              "      <td>0.492736</td>\n",
              "      <td>1.86481</td>\n",
              "      <td>6.0</td>\n",
              "    </tr>\n",
              "  </tbody>\n",
              "</table>\n",
              "</div>"
            ],
            "text/plain": [
              "   id  allelectrons_Total  density_Total  allelectrons_Average  val_e_Average  \\\n",
              "0   0               100.0       0.841611                  10.0            4.8   \n",
              "1   1               100.0       7.558488                  10.0            4.8   \n",
              "2   2                76.0       8.885992                  15.6            5.6   \n",
              "3   3               100.0       8.795296                  10.0            4.8   \n",
              "4   4               116.0       9.577996                  11.6            4.8   \n",
              "\n",
              "   atomicweight_Average  ionenergy_Average  el_neg_chi_Average  \\\n",
              "0             20.612526           11.08810               2.766   \n",
              "1             20.298893           12.04083               2.755   \n",
              "2             33.739258           12.08630               2.828   \n",
              "3             20.213349           10.94850               2.648   \n",
              "4             24.988133           11.82448               2.766   \n",
              "\n",
              "   R_vdw_element_Average  R_cov_element_Average  zaratio_Average  \\\n",
              "0                  1.732                  0.860         0.496070   \n",
              "1                  1.631                  0.910         0.492719   \n",
              "2                  1.788                  0.864         0.481478   \n",
              "3                  1.626                  0.936         0.489272   \n",
              "4                  1.682                  0.896         0.492736   \n",
              "\n",
              "   density_Average  Hardness  \n",
              "0          0.91457       6.0  \n",
              "1          0.71760       6.5  \n",
              "2          1.50633       2.5  \n",
              "3          0.78937       6.0  \n",
              "4          1.86481       6.0  "
            ]
          },
          "execution_count": 16,
          "metadata": {},
          "output_type": "execute_result"
        }
      ],
      "source": [
        "train = pd.read_csv(\"./data/train.csv\")\n",
        "train.head()"
      ]
    },
    {
      "cell_type": "code",
      "execution_count": 17,
      "metadata": {
        "colab": {
          "base_uri": "https://localhost:8080/"
        },
        "id": "beLAwCpIZFGj",
        "outputId": "25ef0281-317d-45ec-cabf-49254b87b2e1"
      },
      "outputs": [
        {
          "data": {
            "text/plain": [
              "id                       0\n",
              "allelectrons_Total       0\n",
              "density_Total            0\n",
              "allelectrons_Average     0\n",
              "val_e_Average            0\n",
              "atomicweight_Average     0\n",
              "ionenergy_Average        0\n",
              "el_neg_chi_Average       0\n",
              "R_vdw_element_Average    0\n",
              "R_cov_element_Average    0\n",
              "zaratio_Average          0\n",
              "density_Average          0\n",
              "Hardness                 0\n",
              "dtype: int64"
            ]
          },
          "execution_count": 17,
          "metadata": {},
          "output_type": "execute_result"
        }
      ],
      "source": [
        "train.isna().sum()"
      ]
    },
    {
      "cell_type": "code",
      "execution_count": 18,
      "metadata": {
        "id": "-J7SWqunbhck"
      },
      "outputs": [],
      "source": [
        "X = train.drop(\"Hardness\", axis=1)\n",
        "y = train[\"Hardness\"]"
      ]
    }
  ],
  "metadata": {
    "colab": {
      "provenance": []
    },
    "kernelspec": {
      "display_name": "Python 3",
      "name": "python3"
    },
    "language_info": {
      "codemirror_mode": {
        "name": "ipython",
        "version": 3
      },
      "file_extension": ".py",
      "mimetype": "text/x-python",
      "name": "python",
      "nbconvert_exporter": "python",
      "pygments_lexer": "ipython3",
      "version": "3.11.4"
    }
  },
  "nbformat": 4,
  "nbformat_minor": 0
}
