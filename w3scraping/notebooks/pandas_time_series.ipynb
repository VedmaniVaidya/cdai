{
 "cells": [
  {
   "cell_type": "markdown",
   "id": "439c9cdf",
   "metadata": {},
   "source": [
    "1.Write a Pandas program to create "
   ]
  },
  {
   "cell_type": "code",
   "execution_count": null,
   "id": "6d076c18",
   "metadata": {},
   "outputs": [],
   "source": [
    "import datetime\r\n",
    "from datetime import datetime\r\n",
    "print(\"Datetime object for Jan 11 2012:\")\r\n",
    "print(datetime(2012, 1, 11))\r\n",
    "print(\"\\nSpecific date and time of 9:20 pm\") \r\n",
    "print(datetime(2011, 1, 11, 21, 20))\r\n",
    "print(\"\\nLocal date and time:\")\r\n",
    "print(datetime.now())\r\n",
    "print(\"\\nA date without time: \")\r\n",
    "print(datetime.date(datetime(2012, 5, 22)))\r\n",
    "print(\"\\nCurrent date:\")\r\n",
    "print(datetime.now().date())\r\n",
    "print(\"\\nTime from a datetime:\")\r\n",
    "print(datetime.time(datetime(2012, 12, 15, 18, 12)))\r\n",
    "print(\"\\nCurrent local time:\") \r\n",
    "print(datetime.now().time())\r\n"
   ]
  },
  {
   "cell_type": "markdown",
   "id": "a733fd45",
   "metadata": {},
   "source": [
    "2.Write a Pandas program to create "
   ]
  },
  {
   "cell_type": "code",
   "execution_count": null,
   "id": "8e826bce",
   "metadata": {},
   "outputs": [],
   "source": [
    "import pandas as pd\r\n",
    "#from datetime import datetime\r\n",
    "print(\"\\nA specific date using timestamp:\")\r\n",
    "print(pd.Timestamp('2016-11-10'))\r\n",
    "print(\"\\nDate and time using timestamp:\")\r\n",
    "print(pd.Timestamp('2012-05-03 11:30'))\r\n",
    "print(\"\\nA time adds in the current local date using timestamp:\")\r\n",
    "print(pd.Timestamp('11:30'))\r\n",
    "print(\"\\nCurrent date and time using timestamp:\")\r\n",
    "print(pd.Timestamp(\"now\"))\r\n"
   ]
  },
  {
   "cell_type": "markdown",
   "id": "e7ef5f59",
   "metadata": {},
   "source": [
    "3.Write a Pandas program to create a date from a given year, month, day and another date from a given string formats."
   ]
  },
  {
   "cell_type": "code",
   "execution_count": null,
   "id": "69bc460c",
   "metadata": {},
   "outputs": [],
   "source": [
    "from datetime import datetime\r\n",
    "date1 = datetime(year=2020, month=12, day=25)\r\n",
    "print(\"Date from a given year, month, day:\")\r\n",
    "print(date1)\r\n",
    "from dateutil import parser\r\n",
    "date2 = parser.parse(\"1st of January, 2021\")\r\n",
    "print(\"\\nDate from a given string formats:\")\r\n",
    "print(date2)\r\n"
   ]
  },
  {
   "cell_type": "markdown",
   "id": "fc028f57",
   "metadata": {},
   "source": [
    "4.Write a Pandas program to print the day after and before a specified date. Also print the days between two given dates."
   ]
  },
  {
   "cell_type": "code",
   "execution_count": null,
   "id": "168dff1e",
   "metadata": {},
   "outputs": [],
   "source": [
    "import pandas as pd\r\n",
    "import datetime\r\n",
    "from datetime import datetime, date\r\n",
    "today = datetime(2012, 10, 30)\r\n",
    "print(\"Current date:\", today)\r\n",
    "tomorrow = today + pd.Timedelta(days=1)\r\n",
    "print(\"Tomorrow:\", tomorrow)\r\n",
    "yesterday = today - pd.Timedelta(days=1)\r\n",
    "print(\"Yesterday:\", yesterday)\r\n",
    "date1 = datetime(2016, 8, 2)\r\n",
    "date2 = datetime(2016, 7, 19)\r\n",
    "print(\"\\nDifference between two dates: \",(date1 - date2))\r\n"
   ]
  },
  {
   "cell_type": "markdown",
   "id": "aee4cc57",
   "metadata": {},
   "source": [
    "5.Write a Pandas program to create a time-series with two index labels and random values. Also print the type of the index."
   ]
  },
  {
   "cell_type": "code",
   "execution_count": null,
   "id": "998759ff",
   "metadata": {},
   "outputs": [],
   "source": [
    "import pandas as pd\r\n",
    "import numpy as np\r\n",
    "import datetime\r\n",
    "from datetime import datetime, date\r\n",
    "dates = [datetime(2011, 9, 1), datetime(2011, 9, 2)]\r\n",
    "print(\"Time-series with two index labels:\")\r\n",
    "time_series = pd.Series(np.random.randn(2), dates)\r\n",
    "print(time_series)\r\n",
    "print(\"\\nType of the index:\")\r\n",
    "print(type(time_series.index))\r\n"
   ]
  },
  {
   "cell_type": "markdown",
   "id": "61aa5a74",
   "metadata": {},
   "source": [
    "6.Write a Pandas program to create a time-series from a given list of dates as strings."
   ]
  },
  {
   "cell_type": "code",
   "execution_count": null,
   "id": "186de55a",
   "metadata": {},
   "outputs": [],
   "source": [
    "import pandas as pd\r\n",
    "import numpy as np\r\n",
    "import datetime\r\n",
    "from datetime import datetime, date \r\n",
    "dates = ['2014-08-01','2014-08-02','2014-08-03','2014-08-04']\r\n",
    "time_series = pd.Series(np.random.randn(4), dates)\r\n",
    "print(time_series)\r\n"
   ]
  },
  {
   "cell_type": "markdown",
   "id": "aff49d3a",
   "metadata": {},
   "source": [
    "7.Write a Pandas program to create a time series object that has time indexed data. Also select the dates of same year and select the dates between certain dates."
   ]
  },
  {
   "cell_type": "code",
   "execution_count": null,
   "id": "56da3814",
   "metadata": {},
   "outputs": [],
   "source": [
    "import pandas as pd\r\n",
    "index = pd.DatetimeIndex(['2011-09-02', '2012-08-04',\r\n",
    "                          '2015-09-03', '2010-08-04',\r\n",
    "                          '2015-03-03', '2011-08-04',\r\n",
    "                          '2015-04-03', '2012-08-04'])\r\n",
    "\r\n",
    "s_dates = pd.Series([0, 1, 2, 3, 4, 5, 6, 7], index=index)\r\n",
    "\r\n",
    "print(\"Time series object with indexed data:\")\r\n",
    "print(s_dates)\r\n",
    "print(\"\\nDates of same year:\")\r\n",
    "print(s_dates['2015'])\r\n",
    "print(\"\\nDates between 2012-01-01 and 2012-12-31\")\r\n",
    "print(s_dates['2012-01-01':'2012-12-31']) \r\n"
   ]
  },
  {
   "cell_type": "markdown",
   "id": "45a13837",
   "metadata": {},
   "source": [
    "8.Write a Pandas program to create a date range using a startpoint date and a number of periods. "
   ]
  },
  {
   "cell_type": "code",
   "execution_count": null,
   "id": "bf94c0ac",
   "metadata": {},
   "outputs": [],
   "source": [
    "import pandas as pd\r\n",
    "date_range = pd.date_range('2020-01-01', periods=45)\r\n",
    "print(\"Date range of perods 45:\")\r\n",
    "print(date_range)\r\n"
   ]
  },
  {
   "cell_type": "markdown",
   "id": "75c27600",
   "metadata": {},
   "source": [
    "9.Write a Pandas program to create a whole month of dates in daily frequencies. Also find the maximum, minimum timestamp and indexs. "
   ]
  },
  {
   "cell_type": "code",
   "execution_count": null,
   "id": "2dde0836",
   "metadata": {},
   "outputs": [],
   "source": [
    "import pandas as pd\r\n",
    "dates = pd.Series(pd.date_range('2020-12-01',periods=31, freq='D'))\r\n",
    "print(\"Month of December 2020:\")\r\n",
    "print(dates)\r\n",
    "dates = pd.Series(pd.date_range('2020-12-01',periods=31, freq='D'))\r\n",
    "print(\"\\nMaximum date: \", dates.max())\r\n",
    "print(\"Minimum date: \", dates.min())\r\n",
    "print(\"Maximum index: \", dates.idxmax())\r\n",
    "print(\"Minimum index: \", dates.idxmin())\r\n"
   ]
  },
  {
   "cell_type": "markdown",
   "id": "274a3a64",
   "metadata": {},
   "source": [
    "10.Write a Pandas program to create a time series using three months frequency. "
   ]
  },
  {
   "cell_type": "code",
   "execution_count": null,
   "id": "c799c85e",
   "metadata": {},
   "outputs": [],
   "source": [
    "import pandas as pd\r\n",
    "time_series = pd.date_range('1/1/2021', periods = 36, freq='3M')\r\n",
    "print(\"Time series using three months frequency:\")\r\n",
    "print(time_series) \r\n"
   ]
  },
  {
   "cell_type": "markdown",
   "id": "40d285a0",
   "metadata": {},
   "source": [
    "11.Write a Pandas program to create a sequence of durations increasing by an hour. "
   ]
  },
  {
   "cell_type": "code",
   "execution_count": null,
   "id": "dbc6387c",
   "metadata": {},
   "outputs": [],
   "source": [
    "import pandas as pd\r\n",
    "date_range = pd.timedelta_range(0, periods=49, freq='H')\r\n",
    "print(\"Hourly range of perods 49:\")\r\n",
    "print(date_range)\r\n"
   ]
  },
  {
   "cell_type": "markdown",
   "id": "a863f05b",
   "metadata": {},
   "source": [
    "12.Write a Pandas program to convert year and day of year into a single datetime column of a dataframe. "
   ]
  },
  {
   "cell_type": "code",
   "execution_count": null,
   "id": "fc569634",
   "metadata": {},
   "outputs": [],
   "source": [
    "import pandas as pd\r\n",
    "data = {\\\r\n",
    "\"year\": [2002, 2003, 2015, 2018],\r\n",
    "\"day_of_the_year\": [250, 365, 1, 140]\r\n",
    "}\r\n",
    "df = pd.DataFrame(data)\r\n",
    "print(\"Original DataFrame:\")\r\n",
    "print(df)\r\n",
    "df[\"combined\"] = df[\"year\"]*1000 + df[\"day_of_the_year\"]\r\n",
    "df[\"date\"] = pd.to_datetime(df[\"combined\"], format = \"%Y%j\")\r\n",
    "print(\"\\nNew DataFrame:\")\r\n",
    "print(df)\r\n"
   ]
  },
  {
   "cell_type": "markdown",
   "id": "03165e82",
   "metadata": {},
   "source": [
    "13.Write a Pandas program to create a series of Timestamps from a DataFrame of integer or string columns. Also create a series of Timestamps using specified columns."
   ]
  },
  {
   "cell_type": "code",
   "execution_count": null,
   "id": "ec93e863",
   "metadata": {},
   "outputs": [],
   "source": [
    "import pandas as pd\r\n",
    "df = pd.DataFrame({'year': [2018, 2019, 2020],\r\n",
    "                   'month': [2, 3, 4],\r\n",
    "                   'day': [4, 5, 6],\r\n",
    "                   'hour': [2, 3, 4]})\r\n",
    "print(\"Original dataframe:\")\r\n",
    "print(df)\r\n",
    "result = pd.to_datetime(df)\r\n",
    "print(\"\\nSeries of Timestamps from the said dataframe:\")\r\n",
    "print(result)\r\n",
    "print(\"\\nSeries of Timestamps using specified columns:\")\r\n",
    "print(pd.to_datetime(df[['year', 'month', 'day']]))\r\n"
   ]
  },
  {
   "cell_type": "markdown",
   "id": "cb87ef96",
   "metadata": {},
   "source": [
    "14.Write a Pandas program to check if a day is a business day (weekday) or not."
   ]
  },
  {
   "cell_type": "code",
   "execution_count": null,
   "id": "5d848478",
   "metadata": {},
   "outputs": [],
   "source": [
    "import pandas as pd\r\n",
    "def is_business_day(date):\r\n",
    "    return bool(len(pd.bdate_range(date, date)))\r\n",
    "print(\"Check busines day or not?\")\r\n",
    "print('2020-12-01: ',is_business_day('2020-12-01'))\r\n",
    "print('2020-12-06: ',is_business_day('2020-12-06'))\r\n",
    "print('2020-12-07: ',is_business_day('2020-12-07'))\r\n",
    "print('2020-12-08: ',is_business_day('2020-12-08'))\r\n"
   ]
  },
  {
   "cell_type": "markdown",
   "id": "7ecc6d38",
   "metadata": {},
   "source": [
    "15.Write a Pandas program to get a time series with the last working days of each month of a specific year."
   ]
  },
  {
   "cell_type": "code",
   "execution_count": null,
   "id": "1baadf84",
   "metadata": {},
   "outputs": [],
   "source": [
    "import pandas as pd\r\n",
    "s = pd.date_range('2021-01-01', periods=12, freq='BM')\r\n",
    "df = pd.DataFrame(s, columns=['Date'])\r\n",
    "print('last working days of each month of a specific year:')\r\n",
    "print(df)\r\n"
   ]
  },
  {
   "cell_type": "markdown",
   "id": "0d2d52fe",
   "metadata": {},
   "source": [
    "16.Write a Pandas program to create a time series combining hour and minute."
   ]
  },
  {
   "cell_type": "code",
   "execution_count": null,
   "id": "d7c82ecc",
   "metadata": {},
   "outputs": [],
   "source": [
    "import pandas as pd\r\n",
    "result = pd.timedelta_range(0, periods=30, freq=\"1H20T\")\r\n",
    "print(\"For a frequency of 1 hours 20 minutes, here we have combined the hour (H) and minute (T):\\n\")\r\n",
    "print(result)\r\n"
   ]
  },
  {
   "cell_type": "markdown",
   "id": "3014405e",
   "metadata": {},
   "source": [
    "17.Write a Pandas program to convert unix/epoch time to a regular time stamp in UTC. Also convert the said timestamp in to a given time zone."
   ]
  },
  {
   "cell_type": "code",
   "execution_count": null,
   "id": "7065ceab",
   "metadata": {},
   "outputs": [],
   "source": [
    "import pandas as pd\r\n",
    "epoch_t = 1621132355\r\n",
    "time_stamp = pd.to_datetime(epoch_t, unit='s')\r\n",
    "# UTC (Coordinated Universal Time) is one of the well-known names of UTC+0 time zone which is 0h.\r\n",
    "# By default, time series objects of pandas do not have an assigned time zone.\r\n",
    "print(\"Regular time stamp in UTC:\")\r\n",
    "print(time_stamp)\r\n",
    "print(\"\\nConvert the said timestamp in to US/Pacific:\")\r\n",
    "print(time_stamp.tz_localize('UTC').tz_convert('US/Pacific'))\r\n",
    "print(\"\\nConvert the said timestamp in to Europe/Berlin:\")\r\n",
    "print(time_stamp.tz_localize('UTC').tz_convert('Europe/Berlin'))\r\n"
   ]
  },
  {
   "cell_type": "markdown",
   "id": "a7c9a4a6",
   "metadata": {},
   "source": [
    "18.Write a Pandas program to create a time series object with a time zone."
   ]
  },
  {
   "cell_type": "code",
   "execution_count": null,
   "id": "18c1e26a",
   "metadata": {},
   "outputs": [],
   "source": [
    "import pandas as pd\r\n",
    "print(\"Timezone: Europe/Berlin:\")\r\n",
    "print(\"Using pytz:\")\r\n",
    "date_pytz = pd.Timestamp('2019-01-01', tz = 'Europe/Berlin')\r\n",
    "print(date_pytz.tz)  \r\n",
    "print(\"Using dateutil:\")\r\n",
    "date_util = pd.Timestamp('2019-01-01', tz = 'dateutil/Europe/Berlin')\r\n",
    "print(date_util.tz)\r\n",
    "print(\"\\nUS/Pacific:\")\r\n",
    "print(\"Using pytz:\")\r\n",
    "date_pytz = pd.Timestamp('2019-01-01', tz = 'US/Pacific')\r\n",
    "print(date_pytz.tz)  \r\n",
    "print(\"Using dateutil:\")\r\n",
    "date_util = pd.Timestamp('2019-01-01', tz = 'dateutil/US/Pacific')\r\n",
    "print(date_util.tz)\r\n"
   ]
  },
  {
   "cell_type": "markdown",
   "id": "163ab6af",
   "metadata": {},
   "source": [
    "19.Write a Pandas program to remove the time zone information from a Time series data."
   ]
  },
  {
   "cell_type": "code",
   "execution_count": null,
   "id": "9405cba9",
   "metadata": {},
   "outputs": [],
   "source": [
    "import pandas as pd\r\n",
    "date1 = pd.Timestamp('2019-01-01', tz='Europe/Berlin')\r\n",
    "date2 = pd.Timestamp('2019-01-01', tz='US/Pacific')\r\n",
    "date3 = pd.Timestamp('2019-01-01', tz='US/Eastern')\r\n",
    "print(\"Time series data with time zone:\")\r\n",
    "print(date1)\r\n",
    "print(date2)\r\n",
    "print(date3)\r\n",
    "print(\"\\nTime series data without time zone:\")\r\n",
    "print(date1.tz_localize(None))\r\n",
    "print(date2.tz_localize(None))\r\n",
    "print(date3.tz_localize(None))\r\n"
   ]
  },
  {
   "cell_type": "markdown",
   "id": "5a2f4136",
   "metadata": {},
   "source": [
    "20.Write a Pandas program to subtract two timestamps of same time zone or different time zone."
   ]
  },
  {
   "cell_type": "code",
   "execution_count": null,
   "id": "aacccd65",
   "metadata": {},
   "outputs": [],
   "source": [
    "import pandas as pd\r\n",
    "print(\"Subtract two timestamps of same time zone:\")\r\n",
    "date1 = pd.Timestamp('2019-03-01 12:00', tz='US/Eastern')\r\n",
    "date2 = pd.Timestamp('2019-04-01 07:00', tz='US/Eastern')\r\n",
    "print(\"Difference: \", (date2-date1))\r\n",
    "print(\"\\nSubtract two timestamps of different time zone:\")\r\n",
    "date1 = pd.Timestamp('2019-03-01 12:00', tz='US/Eastern')\r\n",
    "date2 = pd.Timestamp('2019-03-01 07:00', tz='US/Pacific')\r\n",
    "# Remove the time zone and do the subtraction\r\n",
    "print(\"Difference: \", (date1.tz_localize(None) - date2.tz_localize(None)))\r\n"
   ]
  },
  {
   "cell_type": "markdown",
   "id": "6bb72e20",
   "metadata": {},
   "source": [
    "21.Write a Pandas program to calculate all Thursdays between two given days."
   ]
  },
  {
   "cell_type": "code",
   "execution_count": null,
   "id": "ad462d35",
   "metadata": {},
   "outputs": [],
   "source": [
    "import pandas as pd\r\n",
    "thursdays  = pd.date_range('2020-01-01', \r\n",
    "                           '2020-12-31', freq=\"W-THU\")\r\n",
    "print(\"All Thursdays between 2020-01-01 and 2020-12-31:\\n\")\r\n",
    "print(thursdays.values)\r\n"
   ]
  },
  {
   "cell_type": "markdown",
   "id": "d83be4a9",
   "metadata": {},
   "source": [
    "22.Write a Pandas program to find the all the business quarterly begin and end dates of a specified year."
   ]
  },
  {
   "cell_type": "code",
   "execution_count": null,
   "id": "32b48546",
   "metadata": {},
   "outputs": [],
   "source": [
    "import pandas as pd\r\n",
    "q_start_dates = pd.date_range('2020-01-01', '2020-12-31', freq='BQS-JUN')\r\n",
    "q_end_dates = pd.date_range('2020-01-01', '2020-12-31', freq='BQ-JUN')\r\n",
    "print(\"All the business quarterly begin dates of 2020:\")\r\n",
    "print(q_start_dates.values)\r\n",
    "print(\"\\nAll the business quarterly end dates of 2020:\")\r\n",
    "print(q_end_dates.values)\r\n"
   ]
  },
  {
   "cell_type": "markdown",
   "id": "2abcd575",
   "metadata": {},
   "source": [
    "23.Write a Pandas program to generate sequences of fixed-frequency dates and time spans intervals."
   ]
  },
  {
   "cell_type": "code",
   "execution_count": null,
   "id": "530f944e",
   "metadata": {},
   "outputs": [],
   "source": [
    "import pandas as pd\r\n",
    "print(\"Sequences of fixed-frequency dates and time spans (1 H):\\n\")\r\n",
    "r1 = pd.date_range('2030-01-01', periods=10, freq='H')\r\n",
    "print(r1)\r\n",
    "print(\"\\nSequences of fixed-frequency dates and time spans (3 H):\\n\")\r\n",
    "r2 = pd.date_range('2030-01-01', periods=10, freq='3H')\r\n",
    "print(r2)\r\n"
   ]
  },
  {
   "cell_type": "markdown",
   "id": "ddfa142c",
   "metadata": {},
   "source": [
    "24.Write a Pandas program to generate time series combining day and intraday offsets intervals."
   ]
  },
  {
   "cell_type": "code",
   "execution_count": null,
   "id": "6b5ce280",
   "metadata": {},
   "outputs": [],
   "source": [
    "import pandas as pd\r\n",
    "dateset1 = pd.date_range('2029-01-01 00:00:00', periods=20, freq='3h10min')\r\n",
    "print(\"Time series with frequency 3h10min:\")\r\n",
    "print(dateset1)\r\n",
    "dateset2 = pd.date_range('2029-01-01 00:00:00', periods=20, freq='1D10min20U')\r\n",
    "print(\"\\nTime series with frequency 1 day 10 minutes and 20 microseconds:\")\r\n",
    "print(dateset2)\r\n"
   ]
  },
  {
   "cell_type": "markdown",
   "id": "9b2c7f5b",
   "metadata": {},
   "source": [
    "25.Write a Pandas program to extract the day name from a specified date. Add 2 days and 1 business day with the specified date."
   ]
  },
  {
   "cell_type": "code",
   "execution_count": null,
   "id": "f5f4f61c",
   "metadata": {},
   "outputs": [],
   "source": [
    "import pandas as pd\r\n",
    "newday = pd.Timestamp('2020-02-07')\r\n",
    "print(\"First date:\")\r\n",
    "print(newday)\r\n",
    "print(\"\\nThe day name of the said date:\")\r\n",
    "print(newday.day_name())\r\n",
    "print(\"\\nAdd 2 days with the said date:\")\r\n",
    "newday1 = newday + pd.Timedelta('2 day')\r\n",
    "print(newday1.day_name())\r\n",
    "print(\"\\nNext business day:\")\r\n",
    "nbday = newday + pd.offsets.BDay()\r\n",
    "print(nbday.day_name())\r\n"
   ]
  },
  {
   "cell_type": "markdown",
   "id": "668e38a3",
   "metadata": {},
   "source": [
    "26.Write a Pandas program to convert integer or float epoch times to Timestamp and DatetimeIndex."
   ]
  },
  {
   "cell_type": "code",
   "execution_count": null,
   "id": "2e8295dd",
   "metadata": {},
   "outputs": [],
   "source": [
    "import pandas as pd\r\n",
    "dates1 = pd.to_datetime([1329806505, 129806505, 1249892905,\r\n",
    "                1249979305, 1250065705], unit='s')\r\n",
    "print(\"Convert integer or float epoch times to Timestamp and DatetimeIndex upto second:\")\r\n",
    "print(dates1)\r\n",
    "print(\"\\nConvert integer or float epoch times to Timestamp and DatetimeIndex upto milisecond:\")\r\n",
    "dates2 = pd.to_datetime([1249720105100, 1249720105200, 1249720105300,\r\n",
    "                1249720105400, 1249720105500], unit='ms')\r\n",
    "print(dates2)\r\n"
   ]
  },
  {
   "cell_type": "markdown",
   "id": "f30f7934",
   "metadata": {},
   "source": [
    "27.Write a Pandas program to calculate one, two, three business day(s) from a specified date. Also find the next business month end from a specific date."
   ]
  },
  {
   "cell_type": "code",
   "execution_count": null,
   "id": "619b8fa6",
   "metadata": {},
   "outputs": [],
   "source": [
    "import pandas as pd\r\n",
    "from pandas.tseries.offsets import *\r\n",
    "import datetime\r\n",
    "from datetime import datetime, date\r\n",
    "dt = datetime(2020, 1, 4)\r\n",
    "print(\"Specified date:\")\r\n",
    "print(dt)\r\n",
    "print(\"\\nOne business day from the said date:\")\r\n",
    "obday = dt + BusinessDay()\r\n",
    "print(obday)\r\n",
    "print(\"\\nTwo business days from the said date:\")\r\n",
    "tbday = dt + 2 * BusinessDay()\r\n",
    "print(tbday)\r\n",
    "print(\"\\nThree business days from the said date:\")\r\n",
    "thbday = dt + 3 * BusinessDay()\r\n",
    "print(thbday)\r\n",
    "print(\"\\nNext business month end from the said date:\")\r\n",
    "nbday = dt + BMonthEnd()\r\n",
    "print(nbday)\r\n"
   ]
  },
  {
   "cell_type": "markdown",
   "id": "d23c5d3d",
   "metadata": {},
   "source": [
    "28.Write a Pandas program to create a period index represent all monthly boundaries of a given year. Also print start and end time for each period object in the said index."
   ]
  },
  {
   "cell_type": "code",
   "execution_count": null,
   "id": "e6644cef",
   "metadata": {},
   "outputs": [],
   "source": [
    "import pandas as pd\r\n",
    "import datetime\r\n",
    "from datetime import datetime, date\r\n",
    "sdt = datetime(2020, 1, 1)\r\n",
    "edt = datetime(2020, 12, 31)\r\n",
    "dateset = pd.period_range(sdt, edt, freq='M')\r\n",
    "print(\"All monthly boundaries of a given year:\")\r\n",
    "print(dateset) \r\n",
    "print(\"\\nStart and end time for each period object in the said index:\")\r\n",
    "for d in dateset: \r\n",
    "    print (\"{0} {1}\".format(d.start_time, d.end_time)) \r\n"
   ]
  },
  {
   "cell_type": "markdown",
   "id": "47daba58",
   "metadata": {},
   "source": [
    "29.Write a Pandas program create a series with a PeriodIndex which represents all the calendar month periods in 2029 and 2031. Also print the values for all periods in 2030."
   ]
  },
  {
   "cell_type": "code",
   "execution_count": null,
   "id": "86aafc0e",
   "metadata": {},
   "outputs": [],
   "source": [
    "import pandas as pd\r\n",
    "import numpy as np\r\n",
    "pi = pd.Series(np.random.randn(36), \r\n",
    "               pd.period_range('1/1/2029', \r\n",
    "                               '12/31/2031', freq='M'))\r\n",
    "print(\"PeriodIndex which represents all the calendar month periods in 2029 and 2030:\")\r\n",
    "print(pi)\r\n",
    "print(\"\\nValues for all periods in 2030:\")\r\n",
    "print(pi['2030'])\r\n"
   ]
  },
  {
   "cell_type": "markdown",
   "id": "67a8d802",
   "metadata": {},
   "source": [
    "30.Write a Pandas program to generate holidays between two dates using the US federal holiday calendar."
   ]
  },
  {
   "cell_type": "code",
   "execution_count": null,
   "id": "7d46c2af",
   "metadata": {},
   "outputs": [],
   "source": [
    "import pandas as pd\r\n",
    "from pandas.tseries.holiday import *\r\n",
    "sdt = datetime(2021, 1, 1)\r\n",
    "edt = datetime(2030, 12, 31)\r\n",
    "print(\"Holidays between 2021-01-01 and 2030-12-31 using the US federal holiday calendar.\")\r\n",
    "cal = USFederalHolidayCalendar()\r\n",
    "for dt in cal.holidays(start=sdt, end=edt): \r\n",
    "    print (dt)\r\n"
   ]
  },
  {
   "cell_type": "markdown",
   "id": "ef56c7fc",
   "metadata": {},
   "source": [
    "31.Write a Pandas program to create a monthly time period and display the list of names in the current local scope."
   ]
  },
  {
   "cell_type": "code",
   "execution_count": null,
   "id": "b7984a19",
   "metadata": {},
   "outputs": [],
   "source": [
    "import pandas as pd\r\n",
    "mtp = pd.Period('2021-11','M')\r\n",
    "print(\"Monthly time perid: \",mtp)\r\n",
    "print(\"\\nList of names in the current local scope:\")\r\n",
    "print(dir(mtp)) \r\n"
   ]
  },
  {
   "cell_type": "markdown",
   "id": "d96439af",
   "metadata": {},
   "source": [
    "32.Write a Pandas program to create a yearly time period from a specified year and display the properties of this period. "
   ]
  },
  {
   "cell_type": "code",
   "execution_count": null,
   "id": "ebadada6",
   "metadata": {},
   "outputs": [],
   "source": [
    "import pandas as pd\r\n",
    "ytp = pd.Period('2020','A-DEC')\r\n",
    "print(\"Yearly time perid:\",ytp)\r\n",
    "print(\"\\nAll the properties of the said period:\")\r\n",
    "print(dir(ytp))\r\n"
   ]
  }
 ],
 "metadata": {},
 "nbformat": 4,
 "nbformat_minor": 5
}
