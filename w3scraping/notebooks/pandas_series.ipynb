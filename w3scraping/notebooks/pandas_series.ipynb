{
 "cells": [
  {
   "cell_type": "markdown",
   "id": "2ee4a8c0",
   "metadata": {},
   "source": [
    "1.Write a Pandas program to create and display a one-dimensional array-like object containing an array of data."
   ]
  },
  {
   "cell_type": "code",
   "execution_count": null,
   "id": "71c65ca4",
   "metadata": {},
   "outputs": [],
   "source": [
    "import pandas as pd\r\n",
    "ds = pd.Series([2, 4, 6, 8, 10])\r\n",
    "print(ds)\r\n"
   ]
  },
  {
   "cell_type": "markdown",
   "id": "1c1f86bc",
   "metadata": {},
   "source": [
    "2.Write a Pandas program to convert a Panda module Series to Python list and it’s type."
   ]
  },
  {
   "cell_type": "code",
   "execution_count": null,
   "id": "a0a46392",
   "metadata": {},
   "outputs": [],
   "source": [
    "import pandas as pd\r\n",
    "ds = pd.Series([2, 4, 6, 8, 10])\r\n",
    "print(\"Pandas Series and type\")\r\n",
    "print(ds)\r\n",
    "print(type(ds))\r\n",
    "print(\"Convert Pandas Series to Python list\")\r\n",
    "print(ds.tolist())\r\n",
    "print(type(ds.tolist()))\r\n"
   ]
  },
  {
   "cell_type": "markdown",
   "id": "1f9fb7e9",
   "metadata": {},
   "source": [
    "3.Write a Pandas program to add, subtract, multiple and divide two Pandas Series."
   ]
  },
  {
   "cell_type": "code",
   "execution_count": null,
   "id": "cbea1a7a",
   "metadata": {},
   "outputs": [],
   "source": [
    "import pandas as pd\r\n",
    "ds1 = pd.Series([2, 4, 6, 8, 10])\r\n",
    "ds2 = pd.Series([1, 3, 5, 7, 9])\r\n",
    "ds = ds1 + ds2\r\n",
    "print(\"Add two Series:\")\r\n",
    "print(ds)\r\n",
    "print(\"Subtract two Series:\")\r\n",
    "ds = ds1 - ds2\r\n",
    "print(ds)\r\n",
    "print(\"Multiply two Series:\")\r\n",
    "ds = ds1 * ds2\r\n",
    "print(ds)\r\n",
    "print(\"Divide Series1 by Series2:\")\r\n",
    "ds = ds1 / ds2\r\n",
    "print(ds)\r\n"
   ]
  },
  {
   "cell_type": "markdown",
   "id": "ef4519bf",
   "metadata": {},
   "source": [
    "4.Write a Pandas program to compare the elements of the two Pandas Series."
   ]
  },
  {
   "cell_type": "code",
   "execution_count": null,
   "id": "671f63d2",
   "metadata": {},
   "outputs": [],
   "source": [
    "import pandas as pd\r\n",
    "ds1 = pd.Series([2, 4, 6, 8, 10])\r\n",
    "ds2 = pd.Series([1, 3, 5, 7, 10])\r\n",
    "print(\"Series1:\")\r\n",
    "print(ds1)\r\n",
    "print(\"Series2:\")\r\n",
    "print(ds2)\r\n",
    "print(\"Compare the elements of the said Series:\")\r\n",
    "print(\"Equals:\")\r\n",
    "print(ds1 == ds2)\r\n",
    "print(\"Greater than:\")\r\n",
    "print(ds1 > ds2)\r\n",
    "print(\"Less than:\")\r\n",
    "print(ds1 < ds2)\r\n"
   ]
  },
  {
   "cell_type": "markdown",
   "id": "d3f28460",
   "metadata": {},
   "source": [
    "5.Write a Pandas program to convert a dictionary to a Pandas series."
   ]
  },
  {
   "cell_type": "code",
   "execution_count": null,
   "id": "a3bd681c",
   "metadata": {},
   "outputs": [],
   "source": [
    "import pandas as pd\r\n",
    "d1 = {'a': 100, 'b': 200, 'c':300, 'd':400, 'e':800}\r\n",
    "print(\"Original dictionary:\")\r\n",
    "print(d1)\r\n",
    "new_series = pd.Series(d1)\r\n",
    "print(\"Converted series:\")\r\n",
    "print(new_series)\r\n"
   ]
  },
  {
   "cell_type": "markdown",
   "id": "05118ee8",
   "metadata": {},
   "source": [
    "6.Write a Pandas program to convert a NumPy array to a Pandas series."
   ]
  },
  {
   "cell_type": "code",
   "execution_count": null,
   "id": "2be19a40",
   "metadata": {},
   "outputs": [],
   "source": [
    "import numpy as np\r\n",
    "import pandas as pd\r\n",
    "np_array = np.array([10, 20, 30, 40, 50])\r\n",
    "print(\"NumPy array:\")\r\n",
    "print(np_array)\r\n",
    "new_series = pd.Series(np_array)\r\n",
    "print(\"Converted Pandas series:\")\r\n",
    "print(new_series)\r\n"
   ]
  },
  {
   "cell_type": "markdown",
   "id": "fe3e15e7",
   "metadata": {},
   "source": [
    "7.Write a Pandas program to change the data type of given a column or a Series."
   ]
  },
  {
   "cell_type": "code",
   "execution_count": null,
   "id": "f82c00e9",
   "metadata": {},
   "outputs": [],
   "source": [
    "import pandas as pd\r\n",
    "s1 = pd.Series(['100', '200', 'python', '300.12', '400'])\r\n",
    "print(\"Original Data Series:\")\r\n",
    "print(s1)\r\n",
    "print(\"Change the said data type to numeric:\")\r\n",
    "s2 = pd.to_numeric(s1, errors='coerce')\r\n",
    "print(s2)\r\n"
   ]
  },
  {
   "cell_type": "markdown",
   "id": "e8b33290",
   "metadata": {},
   "source": [
    "8.Write a Pandas program to convert the first column of a DataFrame as a Series."
   ]
  },
  {
   "cell_type": "code",
   "execution_count": null,
   "id": "78ab95d4",
   "metadata": {},
   "outputs": [],
   "source": [
    "import pandas as pd\r\n",
    "d = {'col1': [1, 2, 3, 4, 7, 11], 'col2': [4, 5, 6, 9, 5, 0], 'col3': [7, 5, 8, 12, 1,11]}\r\n",
    "df = pd.DataFrame(data=d)\r\n",
    "print(\"Original DataFrame\")\r\n",
    "print(df)\r\n",
    "s1 = df.ix[:,0]\r\n",
    "print(\"\\n1st column as a Series:\")\r\n",
    "print(s1)\r\n",
    "print(type(s1))\r\n"
   ]
  },
  {
   "cell_type": "markdown",
   "id": "7caef08a",
   "metadata": {},
   "source": [
    "9. Write a Pandas program to convert a given Series to an array."
   ]
  },
  {
   "cell_type": "code",
   "execution_count": null,
   "id": "f90d3127",
   "metadata": {},
   "outputs": [],
   "source": [
    "import pandas as pd\r\n",
    "import numpy as np\r\n",
    "s1 = pd.Series(['100', '200', 'python', '300.12', '400'])\r\n",
    "print(\"Original Data Series:\")\r\n",
    "print(s1)\r\n",
    "print(\"Series to an array\")\r\n",
    "a = s1.values\r\n",
    "print(a)\r\n",
    "print(type(a))\r\n"
   ]
  },
  {
   "cell_type": "markdown",
   "id": "ac3eaaac",
   "metadata": {},
   "source": [
    "10. Write a Pandas program to convert Series of lists to one Series."
   ]
  },
  {
   "cell_type": "code",
   "execution_count": null,
   "id": "18652f4e",
   "metadata": {},
   "outputs": [],
   "source": [
    "import pandas as pd\r\n",
    "s = pd.Series([\r\n",
    "    ['Red', 'Green', 'White'],\r\n",
    "    ['Red', 'Black'],\r\n",
    "    ['Yellow']])\r\n",
    "print(\"Original Series of list\")\r\n",
    "print(s)\r\n",
    "s = s.apply(pd.Series).stack().reset_index(drop=True)\r\n",
    "print(\"One Series\")\r\n",
    "print(s)\r\n"
   ]
  },
  {
   "cell_type": "markdown",
   "id": "33f9b7f2",
   "metadata": {},
   "source": [
    "11. Write a Pandas program to sort a given Series."
   ]
  },
  {
   "cell_type": "code",
   "execution_count": null,
   "id": "8564e11d",
   "metadata": {},
   "outputs": [],
   "source": [
    "import pandas as pd\r\n",
    "s = pd.Series(['100', '200', 'python', '300.12', '400'])\r\n",
    "print(\"Original Data Series:\")\r\n",
    "print(s)\r\n",
    "new_s = pd.Series(s).sort_values()\r\n",
    "print(new_s)\r\n"
   ]
  },
  {
   "cell_type": "markdown",
   "id": "29d2aac3",
   "metadata": {},
   "source": [
    "12. Write a Pandas program to add some data to an existing Series."
   ]
  },
  {
   "cell_type": "code",
   "execution_count": null,
   "id": "f7aacc6b",
   "metadata": {},
   "outputs": [],
   "source": [
    "import pandas as pd\r\n",
    "s = pd.Series(['100', '200', 'python', '300.12', '400'])\r\n",
    "print(\"Original Data Series:\")\r\n",
    "print(s)\r\n",
    "print(\"\\nData Series after adding some data:\")\r\n",
    "new_s = pd.concat([s, pd.Series([500, \"php\"])], ignore_index=True)\r\n",
    "print(new_s)\r\n"
   ]
  },
  {
   "cell_type": "markdown",
   "id": "64218652",
   "metadata": {},
   "source": [
    "13. Write a Pandas program to create a subset of a given series based on value and condition."
   ]
  },
  {
   "cell_type": "code",
   "execution_count": null,
   "id": "f77e52fb",
   "metadata": {},
   "outputs": [],
   "source": [
    "import pandas as pd\r\n",
    "s = pd.Series([0,1,2,3,4,5,6,7,8,9,10])\r\n",
    "print(\"Original Data Series:\")\r\n",
    "print(s)\r\n",
    "print(\"\\nSubset of the above Data Series:\")\r\n",
    "n = 6\r\n",
    "new_s = s[s < n]\r\n",
    "print(new_s)\r\n"
   ]
  },
  {
   "cell_type": "markdown",
   "id": "670c4213",
   "metadata": {},
   "source": [
    "14. Write a Pandas program to change the order of index of a given series."
   ]
  },
  {
   "cell_type": "code",
   "execution_count": null,
   "id": "8f7a5643",
   "metadata": {},
   "outputs": [],
   "source": [
    "import pandas as pd\r\n",
    "s = pd.Series(data = [1,2,3,4,5], index = ['A', 'B', 'C','D','E'])\r\n",
    "print(\"Original Data Series:\")\r\n",
    "print(s)\r\n",
    "s = s.reindex(index = ['B','A','C','D','E'])\r\n",
    "print(\"Data Series after changing the order of index:\")\r\n",
    "print(s)\r\n"
   ]
  },
  {
   "cell_type": "markdown",
   "id": "f1484395",
   "metadata": {},
   "source": [
    "15. Write a Pandas program to create the mean and standard deviation of the data of a given Series."
   ]
  },
  {
   "cell_type": "code",
   "execution_count": null,
   "id": "6771cd51",
   "metadata": {},
   "outputs": [],
   "source": [
    "import pandas as pd\r\n",
    "s = pd.Series(data = [1,2,3,4,5,6,7,8,9,5,3])\r\n",
    "print(\"Original Data Series:\")\r\n",
    "print(s)\r\n",
    "print(\"Mean of the said Data Series:\")\r\n",
    "print(s.mean())\r\n",
    "print(\"Standard deviation of the said Data Series:\")\r\n",
    "print(s.std())\r\n"
   ]
  },
  {
   "cell_type": "markdown",
   "id": "233b3989",
   "metadata": {},
   "source": [
    "16. Write a Pandas program to get the items of a given series not present in another given series."
   ]
  },
  {
   "cell_type": "code",
   "execution_count": null,
   "id": "7e8fd3b1",
   "metadata": {},
   "outputs": [],
   "source": [
    "import pandas as pd\r\n",
    "sr1 = pd.Series([1, 2, 3, 4, 5])\r\n",
    "sr2 = pd.Series([2, 4, 6, 8, 10])\r\n",
    "print(\"Original Series:\")\r\n",
    "print(\"sr1:\")\r\n",
    "print(sr1)\r\n",
    "print(\"sr2:\")\r\n",
    "print(sr2)\r\n",
    "print(\"\\nItems of sr1 not present in sr2:\")\r\n",
    "result = sr1[~sr1.isin(sr2)]\r\n",
    "print(result)\r\n"
   ]
  },
  {
   "cell_type": "markdown",
   "id": "ffa7160c",
   "metadata": {},
   "source": [
    "17. Write a Pandas program to get the items which are not common of two given series."
   ]
  },
  {
   "cell_type": "code",
   "execution_count": null,
   "id": "a5ad760b",
   "metadata": {},
   "outputs": [],
   "source": [
    "import pandas as pd\r\n",
    "import numpy as np\r\n",
    "sr1 = pd.Series([1, 2, 3, 4, 5])\r\n",
    "sr2 = pd.Series([2, 4, 6, 8, 10])\r\n",
    "print(\"Original Series:\")\r\n",
    "print(\"sr1:\")\r\n",
    "print(sr1)\r\n",
    "print(\"sr2:\")\r\n",
    "print(sr2)\r\n",
    "print(\"\\nItems of a given series not present in another given series:\")\r\n",
    "sr11 = pd.Series(np.union1d(sr1, sr2))\r\n",
    "sr22 = pd.Series(np.intersect1d(sr1, sr2))\r\n",
    "result = sr11[~sr11.isin(sr22)]\r\n",
    "print(result)\r\n"
   ]
  },
  {
   "cell_type": "markdown",
   "id": "5cb83490",
   "metadata": {},
   "source": [
    "18. Write a Pandas program to compute the minimum, 25th percentile, median, 75th, and maximum of a given series."
   ]
  },
  {
   "cell_type": "code",
   "execution_count": null,
   "id": "68b3c7f1",
   "metadata": {},
   "outputs": [],
   "source": [
    "import pandas as pd\r\n",
    "import numpy as np\r\n",
    "num_state = np.random.RandomState(100)\r\n",
    "num_series = pd.Series(num_state.normal(10, 4, 20))\r\n",
    "print(\"Original Series:\")\r\n",
    "print(num_series)\r\n",
    "result = np.percentile(num_series, q=[0, 25, 50, 75, 100])\r\n",
    "print(\"\\nMinimum, 25th percentile, median, 75th, and maximum of a given series:\")\r\n",
    "print(result)\r\n"
   ]
  },
  {
   "cell_type": "markdown",
   "id": "62d5c5d7",
   "metadata": {},
   "source": [
    "19. Write a Pandas program to calculate the frequency counts of each unique value of a given series."
   ]
  },
  {
   "cell_type": "code",
   "execution_count": null,
   "id": "7439991a",
   "metadata": {},
   "outputs": [],
   "source": [
    "import pandas as pd\r\n",
    "import numpy as np\r\n",
    "num_series = pd.Series(np.take(list('0123456789'), np.random.randint(10, size=40)))\r\n",
    "print(\"Original Series:\")\r\n",
    "print(num_series)\r\n",
    "print(\"Frequency of each unique value of the said series.\")\r\n",
    "result = num_series.value_counts()\r\n",
    "print(result)\r\n"
   ]
  },
  {
   "cell_type": "markdown",
   "id": "63529e83",
   "metadata": {},
   "source": [
    "20. Write a Pandas program to display most frequent value in a given series and replace everything else as ‘Other’ in the series."
   ]
  },
  {
   "cell_type": "code",
   "execution_count": null,
   "id": "cdd0ab29",
   "metadata": {},
   "outputs": [],
   "source": [
    "import pandas as pd\r\n",
    "import numpy as np\r\n",
    "num_series = pd.Series(np.random.randint(1, 5, [15]))\r\n",
    "print(\"Original Series:\")\r\n",
    "print(num_series)\r\n",
    "print(\"Top 2 Freq:\", num_series.value_counts())\r\n",
    "result = num_series[~num_series.isin(num_series.value_counts().index[:1])] = 'Other'\r\n",
    "print(num_series)\r\n"
   ]
  },
  {
   "cell_type": "markdown",
   "id": "e862f066",
   "metadata": {},
   "source": [
    "21. Write a Pandas program to find the positions of numbers that are multiples of 5 of a given series."
   ]
  },
  {
   "cell_type": "code",
   "execution_count": null,
   "id": "4247efe8",
   "metadata": {},
   "outputs": [],
   "source": [
    "import pandas as pd\r\n",
    "import numpy as np\r\n",
    "num_series = pd.Series(np.random.randint(1, 10, 9))\r\n",
    "print(\"Original Series:\")\r\n",
    "print(num_series)\r\n",
    "result = np.where(num_series % 5==0)\r\n",
    "print(\"Positions of numbers that are multiples of 5:\")\r\n",
    "print(result)\r\n"
   ]
  },
  {
   "cell_type": "markdown",
   "id": "0e865c1c",
   "metadata": {},
   "source": [
    "22. Write a Pandas program to extract items at given positions of a given series."
   ]
  },
  {
   "cell_type": "code",
   "execution_count": null,
   "id": "237defc1",
   "metadata": {},
   "outputs": [],
   "source": [
    "import pandas as pd\r\n",
    "num_series = pd.Series(list('2390238923902390239023'))\r\n",
    "element_pos = [0, 2, 6, 11, 21]\r\n",
    "print(\"Original Series:\")\r\n",
    "print(num_series)\r\n",
    "result = num_series.take(element_pos)\r\n",
    "print(\"\\nExtract items at given positions of the said series:\")\r\n",
    "print(result)\r\n"
   ]
  },
  {
   "cell_type": "markdown",
   "id": "64d57ccf",
   "metadata": {},
   "source": [
    "23. Write a Pandas program to get the positions of items of a given series in another given series."
   ]
  },
  {
   "cell_type": "code",
   "execution_count": null,
   "id": "164668a6",
   "metadata": {},
   "outputs": [],
   "source": [
    "import pandas as pd\r\n",
    "series1 = pd.Series([1, 2, 3, 4, 5, 6, 7, 8, 9, 10])\r\n",
    "series2 = pd.Series([1, 3, 5, 7, 10])\r\n",
    "print(\"Original Series:\")\r\n",
    "print(series1)\r\n",
    "print(series2)\r\n",
    "result = [pd.Index(series1).get_loc(i) for i in series2]\r\n",
    "print(\"Positions of items of series2 in series1:\")\r\n",
    "print(result)\r\n"
   ]
  },
  {
   "cell_type": "markdown",
   "id": "eed9a5da",
   "metadata": {},
   "source": [
    "24. Write a Pandas program convert the first and last character of each word to upper case in each word of a given series."
   ]
  },
  {
   "cell_type": "code",
   "execution_count": null,
   "id": "a26be855",
   "metadata": {},
   "outputs": [],
   "source": [
    "import pandas as pd\r\n",
    "series1 = pd.Series(['php', 'python', 'java', 'c#'])\r\n",
    "print(\"Original Series:\")\r\n",
    "print(series1)\r\n",
    "result = series1.map(lambda x: x[0].upper() + x[1:-1] + x[-1].upper())\r\n",
    "print(\"\\nFirst and last character of each word to upper case:\")\r\n",
    "print(result)\r\n"
   ]
  },
  {
   "cell_type": "markdown",
   "id": "e31493bc",
   "metadata": {},
   "source": [
    "25. Write a Pandas program to calculate the number of characters in each word in a given series."
   ]
  },
  {
   "cell_type": "code",
   "execution_count": null,
   "id": "d5bc24ed",
   "metadata": {},
   "outputs": [],
   "source": [
    "import pandas as pd\r\n",
    "series1 = pd.Series(['Php', 'Python', 'Java', 'C#'])\r\n",
    "print(\"Original Series:\")\r\n",
    "print(series1)\r\n",
    "result = series1.map(lambda x: len(x))\r\n",
    "print(\"\\nNumber of characters in each word in the said series:\")\r\n",
    "print(result)\r\n"
   ]
  },
  {
   "cell_type": "markdown",
   "id": "0ac6acc2",
   "metadata": {},
   "source": [
    "26. Write a Pandas program to compute difference of differences between consecutive numbers of a given series."
   ]
  },
  {
   "cell_type": "code",
   "execution_count": null,
   "id": "1571ca1b",
   "metadata": {},
   "outputs": [],
   "source": [
    "import pandas as pd\r\n",
    "series1 = pd.Series([1, 3, 5, 8, 10, 11, 15])\r\n",
    "print(\"Original Series:\")\r\n",
    "print(series1)\r\n",
    "print(\"\\nDifference of differences between consecutive numbers of the said series:\")\r\n",
    "print(series1.diff().tolist())\r\n",
    "print(series1.diff().diff().tolist())\r\n"
   ]
  },
  {
   "cell_type": "markdown",
   "id": "e54594c3",
   "metadata": {},
   "source": [
    "27. Write a Pandas program to convert a series of date strings to a timeseries."
   ]
  },
  {
   "cell_type": "code",
   "execution_count": null,
   "id": "8922dacb",
   "metadata": {},
   "outputs": [],
   "source": [
    "import pandas as pd\r\n",
    "date_series = pd.Series(['01 Jan 2015', '10-02-2016', '20180307', '2014/05/06', '2016-04-12', '2019-04-06T11:20'])\r\n",
    "print(\"Original Series:\")\r\n",
    "print(date_series)\r\n",
    "print(\"\\nSeries of date strings to a timeseries:\")\r\n",
    "print(pd.to_datetime(date_series))\r\n"
   ]
  },
  {
   "cell_type": "markdown",
   "id": "cc04fbc4",
   "metadata": {},
   "source": [
    "28. Write a Pandas program to get the day of month, day of year, week number and day of week from a given series of date strings."
   ]
  },
  {
   "cell_type": "code",
   "execution_count": null,
   "id": "a3dafba4",
   "metadata": {},
   "outputs": [],
   "source": [
    "import pandas as pd\r\n",
    "from dateutil.parser import parse\r\n",
    "date_series = pd.Series(['01 Jan 2015', '10-02-2016', '20180307', '2014/05/06', '2016-04-12', '2019-04-06T11:20'])\r\n",
    "print(\"Original Series:\")\r\n",
    "print(date_series)\r\n",
    "date_series = date_series.map(lambda x: parse(x))\r\n",
    "print(\"Day of month:\")\r\n",
    "print(date_series.dt.day.tolist())\r\n",
    "print(\"Day of year:\")\r\n",
    "print(date_series.dt.dayofyear.tolist())\r\n",
    "print(\"Week number:\")\r\n",
    "print(date_series.dt.weekofyear.tolist())\r\n",
    "print(\"Day of week:\")\r\n",
    "print(date_series.dt.weekday_name.tolist())\r\n"
   ]
  },
  {
   "cell_type": "markdown",
   "id": "808d9f8c",
   "metadata": {},
   "source": [
    "29. Write a Pandas program to convert year-month string to dates adding a specified day of the month."
   ]
  },
  {
   "cell_type": "code",
   "execution_count": null,
   "id": "d8f272d1",
   "metadata": {},
   "outputs": [],
   "source": [
    "import pandas as pd\r\n",
    "from dateutil.parser import parse\r\n",
    "date_series = pd.Series(['Jan 2015', 'Feb 2016', 'Mar 2017', 'Apr 2018', 'May 2019'])\r\n",
    "print(\"Original Series:\")\r\n",
    "print(date_series)\r\n",
    "print(\"\\nNew dates:\")\r\n",
    "result = date_series.map(lambda d: parse('11 ' + d))\r\n",
    "print(result)\r\n"
   ]
  },
  {
   "cell_type": "markdown",
   "id": "4bfd19fe",
   "metadata": {},
   "source": [
    "30. Write a Pandas program to filter words from a given series that contain atleast two vowels."
   ]
  },
  {
   "cell_type": "code",
   "execution_count": null,
   "id": "806da359",
   "metadata": {},
   "outputs": [],
   "source": [
    "import pandas as pd\r\n",
    "from collections import Counter\r\n",
    "color_series = pd.Series(['Red', 'Green', 'Orange', 'Pink', 'Yellow', 'White'])\r\n",
    "print(\"Original Series:\")\r\n",
    "print(color_series)\r\n",
    "print(\"\\nFiltered words:\")\r\n",
    "result =color_series.map(lambda c: sum([Counter(c.lower()).get(i, 0) for i in list('aeiou')]) >= 2)\r\n",
    "print(color_series[result])\r\n"
   ]
  },
  {
   "cell_type": "markdown",
   "id": "5009f7b4",
   "metadata": {},
   "source": [
    "31. Write a Pandas program to compute the Euclidean distance between two given series."
   ]
  },
  {
   "cell_type": "code",
   "execution_count": null,
   "id": "0c1415d8",
   "metadata": {},
   "outputs": [],
   "source": [
    "import pandas as pd\r\n",
    "import numpy as np\r\n",
    "x = pd.Series([1, 2, 3, 4, 5, 6, 7, 8, 9, 10])\r\n",
    "y = pd.Series([11, 8, 7, 5, 6, 5, 3, 4, 7, 1])\r\n",
    "print(\"Original series:\")\r\n",
    "print(x)\r\n",
    "print(y)\r\n",
    "print(\"\\nEuclidean distance between two said series:\")\r\n",
    "print(np.linalg.norm(x-y))\r\n"
   ]
  },
  {
   "cell_type": "markdown",
   "id": "58ea24e0",
   "metadata": {},
   "source": [
    "32. Write a Pandas program to find the positions of the values neighboured by smaller values on both sides in a given series."
   ]
  },
  {
   "cell_type": "code",
   "execution_count": null,
   "id": "4384b311",
   "metadata": {},
   "outputs": [],
   "source": [
    "import pandas as pd\r\n",
    "import numpy as np\r\n",
    "nums = pd.Series([1, 8, 7, 5, 6, 5, 3, 4, 7, 1])\r\n",
    "print(\"Original series:\")\r\n",
    "print(nums)\r\n",
    "print(\"\\nPositions of the values surrounded by smaller values on both sides:\")\r\n",
    "temp = np.diff(np.sign(np.diff(nums)))\r\n",
    "result = np.where(temp == -2)[0] + 1\r\n",
    "print(result)\r\n"
   ]
  },
  {
   "cell_type": "markdown",
   "id": "6533ad47",
   "metadata": {},
   "source": [
    "33. Write a Pandas program to replace missing white spaces in a given string with the least frequent character."
   ]
  },
  {
   "cell_type": "code",
   "execution_count": null,
   "id": "75e4e3db",
   "metadata": {},
   "outputs": [],
   "source": [
    "import pandas as pd\r\n",
    "str1 = 'abc def abcdef icd'\r\n",
    "print(\"Original series:\")\r\n",
    "print(str1)\r\n",
    "ser = pd.Series(list(str1))\r\n",
    "element_freq = ser.value_counts()\r\n",
    "print(element_freq)\r\n",
    "current_freq = element_freq.dropna().index[-1]\r\n",
    "result = \"\".join(ser.replace(' ', current_freq))\r\n",
    "print(result)\r\n"
   ]
  },
  {
   "cell_type": "markdown",
   "id": "7b41b405",
   "metadata": {},
   "source": [
    "34. Write a Pandas program to compute the autocorrelations of a given numeric series."
   ]
  },
  {
   "cell_type": "code",
   "execution_count": null,
   "id": "6fc746d4",
   "metadata": {},
   "outputs": [],
   "source": [
    "import pandas as pd\r\n",
    "import numpy as np\r\n",
    "num_series = pd.Series(np.arange(15) + np.random.normal(1, 10, 15))\r\n",
    "print(\"Original series:\")\r\n",
    "print(num_series)\r\n",
    "autocorrelations = [num_series.autocorr(i).round(2) for i in range(11)]\r\n",
    "print(\"\\nAutocorrelations of the said series:\")\r\n",
    "print(autocorrelations[1:])\r\n"
   ]
  },
  {
   "cell_type": "markdown",
   "id": "5211527d",
   "metadata": {},
   "source": [
    "35. Write a Pandas program to create a TimeSeries to display all the Sundays of given year."
   ]
  },
  {
   "cell_type": "code",
   "execution_count": null,
   "id": "a2eadfde",
   "metadata": {},
   "outputs": [],
   "source": [
    "import pandas as pd\r\n",
    "result = pd.Series(pd.date_range('2020-01-01', periods=52, freq='W-SUN'))\r\n",
    "print(\"All Sundays of 2019:\")\r\n",
    "print(result)\r\n"
   ]
  },
  {
   "cell_type": "markdown",
   "id": "2fd9df61",
   "metadata": {},
   "source": [
    "36. Write a Pandas program to convert given series into a dataframe with its index as another column on the dataframe."
   ]
  },
  {
   "cell_type": "code",
   "execution_count": null,
   "id": "ad2e29f1",
   "metadata": {},
   "outputs": [],
   "source": [
    "import numpy as np\r\n",
    "import pandas as pd\r\n",
    "char_list = list('ABCDEFGHIJKLMNOP')\r\n",
    "num_arra = np.arange(8)\r\n",
    "num_dict = dict(zip(char_list, num_arra))\r\n",
    "num_ser = pd.Series(num_dict)\r\n",
    "df = num_ser.to_frame().reset_index()\r\n",
    "print(df.head())\r\n"
   ]
  },
  {
   "cell_type": "markdown",
   "id": "5c05a5cb",
   "metadata": {},
   "source": [
    "37. Write a Pandas program to stack two given series vertically and horizontally."
   ]
  },
  {
   "cell_type": "code",
   "execution_count": null,
   "id": "cc175731",
   "metadata": {},
   "outputs": [],
   "source": [
    "import pandas as pd\r\n",
    "series1 = pd.Series(range(10))\r\n",
    "series2 = pd.Series(list('pqrstuvwxy'))\r\n",
    "print(\"Original Series:\")\r\n",
    "print(series1)\r\n",
    "print(series2)\r\n",
    "series1.append(series2)\r\n",
    "df = pd.concat([series1, series2], axis=1)\r\n",
    "print(\"\\nStack two given series vertically and horizontally:\")\r\n",
    "print(df)\r\n"
   ]
  },
  {
   "cell_type": "markdown",
   "id": "a06cec08",
   "metadata": {},
   "source": [
    "38. Write a Pandas program to check the equality of two given series."
   ]
  },
  {
   "cell_type": "code",
   "execution_count": null,
   "id": "859cc424",
   "metadata": {},
   "outputs": [],
   "source": [
    "import pandas as pd\r\n",
    "nums1 = pd.Series([1, 8, 7, 5, 6, 5, 3, 4, 7, 1])\r\n",
    "nums2 = pd.Series([1, 8, 7, 5, 6, 5, 3, 4, 7, 1])\r\n",
    "print(\"Original Series:\")\r\n",
    "print(nums1)\r\n",
    "print(nums2)\r\n",
    "print(\"Check 2 series are equal or not?\")\r\n",
    "print(nums1 == nums2)\r\n"
   ]
  },
  {
   "cell_type": "markdown",
   "id": "de25cc71",
   "metadata": {},
   "source": [
    "39. Write a Pandas program to find the index of the first occurrence of the smallest and largest value of a given series."
   ]
  },
  {
   "cell_type": "code",
   "execution_count": null,
   "id": "fd9cc950",
   "metadata": {},
   "outputs": [],
   "source": [
    "import pandas as pd\r\n",
    "nums = pd.Series([1, 3, 7, 12, 88, 23, 3, 1, 9, 0])\r\n",
    "print(\"Original Series:\")\r\n",
    "print(nums)\r\n",
    "print(\"Index of the first occurrence of the smallest and largest value of the said series:\")\r\n",
    "print(nums.idxmin())\r\n",
    "print(nums.idxmax())\r\n"
   ]
  },
  {
   "cell_type": "markdown",
   "id": "c1e63b54",
   "metadata": {},
   "source": [
    "40. Write a Pandas program to check inequality over the index axis of a given dataframe and a given series."
   ]
  },
  {
   "cell_type": "code",
   "execution_count": null,
   "id": "4230f201",
   "metadata": {},
   "outputs": [],
   "source": [
    "import pandas as pd\r\n",
    "df_data = pd.DataFrame({'W':[68,75,86,80,None],'X':[78,75,None,80,86], 'Y':[84,94,89,86,86],'Z':[86,97,96,72,83]});\r\n",
    "sr_data = pd.Series([68, 75, 86, 80, None]) \r\n",
    "print(\"Original DataFrame:\")\r\n",
    "print(df_data)\r\n",
    "print(\"\\nOriginal Series:\")\r\n",
    "print(sr_data)\r\n",
    "print(\"\\nCheck for inequality of the said series & dataframe:\")\r\n",
    "print(df_data.ne(sr_data, axis = 0))\r\n"
   ]
  }
 ],
 "metadata": {},
 "nbformat": 4,
 "nbformat_minor": 5
}
